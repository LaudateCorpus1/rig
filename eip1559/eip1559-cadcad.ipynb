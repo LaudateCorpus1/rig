{
 "cells": [
  {
   "cell_type": "code",
   "execution_count": 1,
   "metadata": {},
   "outputs": [],
   "source": [
    "import secrets\n",
    "from cadCAD.configuration import Configuration\n",
    "from cadCAD.engine import ExecutionMode, ExecutionContext, Executor\n",
    "import pandas as pd\n",
    "from random import uniform\n",
    "import time\n",
    "\n",
    "class Transaction:\n",
    "    def __init__(self, gas_premium, fee_cap, gas_used):\n",
    "        self.gas_premium = gas_premium\n",
    "        self.fee_cap = fee_cap\n",
    "        self.gas_used = gas_used\n",
    "        self.tx_hash = secrets.token_bytes(8)\n",
    "        \n",
    "    def __lt__(self, other):\n",
    "        return self.gas_premium < other.gas_premium"
   ]
  },
  {
   "cell_type": "code",
   "execution_count": 2,
   "metadata": {},
   "outputs": [],
   "source": [
    "constants = {\n",
    "    \"BASEFEE_MAX_CHANGE_DENOMINATOR\": 8,\n",
    "    \"TARGET_GAS_USED\": 10000000,\n",
    "    \"MAX_GAS_EIP1559\": 16000000,\n",
    "    \"EIP1559_DECAY_RANGE\": 800000,\n",
    "    \"EIP1559_GAS_INCREMENT_AMOUNT\": 10,\n",
    "    \"INITIAL_BASEFEE\": 1 * (10 ** 9),\n",
    "    \"PER_TX_GASLIMIT\": 8000000\n",
    "}"
   ]
  },
  {
   "cell_type": "code",
   "execution_count": 3,
   "metadata": {},
   "outputs": [],
   "source": [
    "class Block():\n",
    "    def __init__(self, txs):\n",
    "        self.txs = txs"
   ]
  },
  {
   "cell_type": "code",
   "execution_count": 4,
   "metadata": {},
   "outputs": [],
   "source": [
    "def is_valid(tx, basefee):\n",
    "    return tx.fee_cap >= basefee"
   ]
  },
  {
   "cell_type": "code",
   "execution_count": 5,
   "metadata": {},
   "outputs": [],
   "source": [
    "def update_demand_scenario(params, step, sL, s, _input):\n",
    "    timestep = s[\"timestep\"]\n",
    "    demand = s[\"demand\"]\n",
    "    tx_scenario = s[\"scenario\"]\n",
    "    \n",
    "    start = time.time()\n",
    "    for i in range(tx_scenario[timestep]):\n",
    "        gas_premium = uniform(1, 11) * (10 ** 9)\n",
    "        fee_cap = gas_premium + uniform(1, 11) * (10 ** 9)\n",
    "        tx = Transaction(\n",
    "            gas_premium = gas_premium,\n",
    "            gas_used = 21000,\n",
    "            fee_cap = fee_cap\n",
    "        )\n",
    "        demand[tx.tx_hash] = tx\n",
    "    print(\"step =\", timestep, \", mempool size =\", len(demand), \", update demand\", time.time() - start)\n",
    "        \n",
    "    return (\"demand\", demand)"
   ]
  },
  {
   "cell_type": "code",
   "execution_count": 6,
   "metadata": {},
   "outputs": [],
   "source": [
    "def include_valid_txs(params, step, sL, s):\n",
    "    demand = s[\"demand\"]\n",
    "    basefee = s[\"basefee\"]\n",
    "    timestep = s[\"timestep\"]\n",
    "    \n",
    "    start = time.time()\n",
    "    sorted_valid_demand = sorted([tx for tx_hash, tx in demand.items() if is_valid(tx, basefee)], key = lambda tx: -tx.gas_premium)\n",
    "    included_transactions = sorted_valid_demand[0:570]\n",
    "    print(\"time to sort\", time.time() - start)\n",
    "    \n",
    "    return ({ \"block\": Block(txs = included_transactions) })"
   ]
  },
  {
   "cell_type": "code",
   "execution_count": 7,
   "metadata": {},
   "outputs": [],
   "source": [
    "def update_basefee(params, step, sL, s, _input):\n",
    "    block = _input[\"block\"]\n",
    "    basefee = s[\"basefee\"]\n",
    "    \n",
    "    gas_used = sum([tx.gas_used for tx in block.txs])\n",
    "    delta = gas_used - constants[\"TARGET_GAS_USED\"]\n",
    "    new_basefee = basefee + basefee * delta // constants[\"TARGET_GAS_USED\"] // constants[\"BASEFEE_MAX_CHANGE_DENOMINATOR\"]\n",
    "    \n",
    "    return (\"basefee\", new_basefee)"
   ]
  },
  {
   "cell_type": "code",
   "execution_count": 8,
   "metadata": {},
   "outputs": [],
   "source": [
    "def record_latest_block(params, step, sL, s, _input):\n",
    "    block = _input[\"block\"]\n",
    "    \n",
    "    return (\"latest_block\", block)"
   ]
  },
  {
   "cell_type": "code",
   "execution_count": 9,
   "metadata": {},
   "outputs": [],
   "source": [
    "def remove_included_txs(params, step, sL, s, _input):\n",
    "    demand = s[\"demand\"]\n",
    "    latest_block = _input[\"block\"]\n",
    "    \n",
    "    start = time.time()\n",
    "    for tx in latest_block.txs:\n",
    "        del(demand[tx.tx_hash])\n",
    "    print(\"time to remove from txs =\", time.time() - start)\n",
    "        \n",
    "    return (\"demand\", demand)"
   ]
  },
  {
   "cell_type": "code",
   "execution_count": 10,
   "metadata": {},
   "outputs": [],
   "source": [
    "def end_loop(params, step, sL, s, _input):\n",
    "    print(\"loop time\", time.time() - s[\"loop_time\"])\n",
    "    return (\"loop_time\", time.time())"
   ]
  },
  {
   "cell_type": "code",
   "execution_count": 12,
   "metadata": {},
   "outputs": [
    {
     "data": {
      "text/plain": [
       "<matplotlib.axes._subplots.AxesSubplot at 0x12495e160>"
      ]
     },
     "execution_count": 12,
     "metadata": {},
     "output_type": "execute_result"
    },
    {
     "data": {
      "image/png": "[encoded data removed]",
      "text/plain": [
       "<Figure size 432x288 with 1 Axes>"
      ]
     },
     "metadata": {
      "needs_background": "light"
     },
     "output_type": "display_data"
    }
   ],
   "source": [
    "from math import pow, exp\n",
    "\n",
    "timesteps = 300\n",
    "\n",
    "def generate_spike_scenario(timesteps):\n",
    "    spikey_boi = timesteps // 8\n",
    "    return [int(100 * exp(-pow(i - spikey_boi, 2)/16.0)) for i in range(timesteps)]\n",
    "\n",
    "tx_scenario = generate_spike_scenario(timesteps)\n",
    "pd.DataFrame({ \"txs\": tx_scenario, \"producer_limit\": 570, \"target_gas\": 476 }).plot()"
   ]
  },
  {
   "cell_type": "code",
   "execution_count": 14,
   "metadata": {},
   "outputs": [],
   "source": [
    "%%capture\n",
    "psub = [{\n",
    "    \"policies\": {},\n",
    "    \"variables\": {\n",
    "        \"demand\": update_demand_scenario\n",
    "    }\n",
    "}, {\n",
    "    \"policies\": {\n",
    "        \"action\": include_valid_txs # step 2\n",
    "    },\n",
    "    \"variables\": {\n",
    "        \"demand\": remove_included_txs,\n",
    "        \"basefee\": update_basefee,\n",
    "        \"latest_block\": record_latest_block,\n",
    "        \"loop_time\": end_loop\n",
    "    }\n",
    "}]\n",
    "\n",
    "initial_conditions = {\n",
    "    \"scenario\": tx_scenario,\n",
    "    \"basefee\": 5 * (10 ** 9),\n",
    "    \"demand\": {},\n",
    "    \"latest_block\": Block(txs=[]),\n",
    "    \"loop_time\": time.time()\n",
    "}\n",
    "\n",
    "simulation_parameters = {\n",
    "    'T': range(timesteps),\n",
    "    'N': 1,\n",
    "    'M': {}\n",
    "}\n",
    "\n",
    "config = Configuration(initial_state=initial_conditions,\n",
    "                       partial_state_update_blocks=psub,\n",
    "                       sim_config=simulation_parameters\n",
    "                      )\n",
    "\n",
    "exec_mode = ExecutionMode()\n",
    "exec_context = ExecutionContext(exec_mode.single_proc)\n",
    "executor = Executor(exec_context, [config]) # Pass the configuration object inside an array\n",
    "raw_result, tensor = executor.execute() # The `execute()` method returns a tuple; its first elements contains the raw results\n",
    "df = pd.DataFrame(raw_result)"
   ]
  },
  {
   "cell_type": "code",
   "execution_count": 15,
   "metadata": {},
   "outputs": [
    {
     "data": {
      "text/html": [
       "<div>\n",
       "<style scoped>\n",
       "    .dataframe tbody tr th:only-of-type {\n",
       "        vertical-align: middle;\n",
       "    }\n",
       "\n",
       "    .dataframe tbody tr th {\n",
       "        vertical-align: top;\n",
       "    }\n",
       "\n",
       "    .dataframe thead th {\n",
       "        text-align: right;\n",
       "    }\n",
       "</style>\n",
       "<table border=\"1\" class=\"dataframe\">\n",
       "  <thead>\n",
       "    <tr style=\"text-align: right;\">\n",
       "      <th></th>\n",
       "      <th>scenario</th>\n",
       "      <th>basefee</th>\n",
       "      <th>demand</th>\n",
       "      <th>latest_block</th>\n",
       "      <th>loop_time</th>\n",
       "      <th>run</th>\n",
       "      <th>substep</th>\n",
       "      <th>timestep</th>\n",
       "    </tr>\n",
       "  </thead>\n",
       "  <tbody>\n",
       "    <tr>\n",
       "      <th>0</th>\n",
       "      <td>[0, 0, 0, 0, 0, 0, 0, 0, 0, 0, 0, 0, 0, 0, 0, ...</td>\n",
       "      <td>5000000000</td>\n",
       "      <td>{}</td>\n",
       "      <td>&lt;__main__.Block object at 0x124895e80&gt;</td>\n",
       "      <td>1.588228e+09</td>\n",
       "      <td>1</td>\n",
       "      <td>0</td>\n",
       "      <td>0</td>\n",
       "    </tr>\n",
       "    <tr>\n",
       "      <th>1</th>\n",
       "      <td>[0, 0, 0, 0, 0, 0, 0, 0, 0, 0, 0, 0, 0, 0, 0, ...</td>\n",
       "      <td>5000000000</td>\n",
       "      <td>{}</td>\n",
       "      <td>&lt;__main__.Block object at 0x124a90f70&gt;</td>\n",
       "      <td>1.588228e+09</td>\n",
       "      <td>1</td>\n",
       "      <td>1</td>\n",
       "      <td>1</td>\n",
       "    </tr>\n",
       "    <tr>\n",
       "      <th>2</th>\n",
       "      <td>[0, 0, 0, 0, 0, 0, 0, 0, 0, 0, 0, 0, 0, 0, 0, ...</td>\n",
       "      <td>4375000000</td>\n",
       "      <td>{}</td>\n",
       "      <td>&lt;__main__.Block object at 0x124a90760&gt;</td>\n",
       "      <td>1.588228e+09</td>\n",
       "      <td>1</td>\n",
       "      <td>2</td>\n",
       "      <td>1</td>\n",
       "    </tr>\n",
       "    <tr>\n",
       "      <th>3</th>\n",
       "      <td>[0, 0, 0, 0, 0, 0, 0, 0, 0, 0, 0, 0, 0, 0, 0, ...</td>\n",
       "      <td>4375000000</td>\n",
       "      <td>{}</td>\n",
       "      <td>&lt;__main__.Block object at 0x124a90d60&gt;</td>\n",
       "      <td>1.588228e+09</td>\n",
       "      <td>1</td>\n",
       "      <td>1</td>\n",
       "      <td>2</td>\n",
       "    </tr>\n",
       "    <tr>\n",
       "      <th>4</th>\n",
       "      <td>[0, 0, 0, 0, 0, 0, 0, 0, 0, 0, 0, 0, 0, 0, 0, ...</td>\n",
       "      <td>3828125000</td>\n",
       "      <td>{}</td>\n",
       "      <td>&lt;__main__.Block object at 0x124a905e0&gt;</td>\n",
       "      <td>1.588228e+09</td>\n",
       "      <td>1</td>\n",
       "      <td>2</td>\n",
       "      <td>2</td>\n",
       "    </tr>\n",
       "    <tr>\n",
       "      <th>...</th>\n",
       "      <td>...</td>\n",
       "      <td>...</td>\n",
       "      <td>...</td>\n",
       "      <td>...</td>\n",
       "      <td>...</td>\n",
       "      <td>...</td>\n",
       "      <td>...</td>\n",
       "      <td>...</td>\n",
       "    </tr>\n",
       "    <tr>\n",
       "      <th>596</th>\n",
       "      <td>[0, 0, 0, 0, 0, 0, 0, 0, 0, 0, 0, 0, 0, 0, 0, ...</td>\n",
       "      <td>0</td>\n",
       "      <td>{}</td>\n",
       "      <td>&lt;__main__.Block object at 0x124d2fdf0&gt;</td>\n",
       "      <td>1.588228e+09</td>\n",
       "      <td>1</td>\n",
       "      <td>2</td>\n",
       "      <td>298</td>\n",
       "    </tr>\n",
       "    <tr>\n",
       "      <th>597</th>\n",
       "      <td>[0, 0, 0, 0, 0, 0, 0, 0, 0, 0, 0, 0, 0, 0, 0, ...</td>\n",
       "      <td>0</td>\n",
       "      <td>{}</td>\n",
       "      <td>&lt;__main__.Block object at 0x124d2fbb0&gt;</td>\n",
       "      <td>1.588228e+09</td>\n",
       "      <td>1</td>\n",
       "      <td>1</td>\n",
       "      <td>299</td>\n",
       "    </tr>\n",
       "    <tr>\n",
       "      <th>598</th>\n",
       "      <td>[0, 0, 0, 0, 0, 0, 0, 0, 0, 0, 0, 0, 0, 0, 0, ...</td>\n",
       "      <td>0</td>\n",
       "      <td>{}</td>\n",
       "      <td>&lt;__main__.Block object at 0x124d2fee0&gt;</td>\n",
       "      <td>1.588228e+09</td>\n",
       "      <td>1</td>\n",
       "      <td>2</td>\n",
       "      <td>299</td>\n",
       "    </tr>\n",
       "    <tr>\n",
       "      <th>599</th>\n",
       "      <td>[0, 0, 0, 0, 0, 0, 0, 0, 0, 0, 0, 0, 0, 0, 0, ...</td>\n",
       "      <td>0</td>\n",
       "      <td>{}</td>\n",
       "      <td>&lt;__main__.Block object at 0x124d2fca0&gt;</td>\n",
       "      <td>1.588228e+09</td>\n",
       "      <td>1</td>\n",
       "      <td>1</td>\n",
       "      <td>300</td>\n",
       "    </tr>\n",
       "    <tr>\n",
       "      <th>600</th>\n",
       "      <td>[0, 0, 0, 0, 0, 0, 0, 0, 0, 0, 0, 0, 0, 0, 0, ...</td>\n",
       "      <td>0</td>\n",
       "      <td>{}</td>\n",
       "      <td>&lt;__main__.Block object at 0x124d2ffd0&gt;</td>\n",
       "      <td>1.588228e+09</td>\n",
       "      <td>1</td>\n",
       "      <td>2</td>\n",
       "      <td>300</td>\n",
       "    </tr>\n",
       "  </tbody>\n",
       "</table>\n",
       "<p>601 rows × 8 columns</p>\n",
       "</div>"
      ],
      "text/plain": [
       "                                              scenario     basefee demand  \\\n",
       "0    [0, 0, 0, 0, 0, 0, 0, 0, 0, 0, 0, 0, 0, 0, 0, ...  5000000000     {}   \n",
       "1    [0, 0, 0, 0, 0, 0, 0, 0, 0, 0, 0, 0, 0, 0, 0, ...  5000000000     {}   \n",
       "2    [0, 0, 0, 0, 0, 0, 0, 0, 0, 0, 0, 0, 0, 0, 0, ...  4375000000     {}   \n",
       "3    [0, 0, 0, 0, 0, 0, 0, 0, 0, 0, 0, 0, 0, 0, 0, ...  4375000000     {}   \n",
       "4    [0, 0, 0, 0, 0, 0, 0, 0, 0, 0, 0, 0, 0, 0, 0, ...  3828125000     {}   \n",
       "..                                                 ...         ...    ...   \n",
       "596  [0, 0, 0, 0, 0, 0, 0, 0, 0, 0, 0, 0, 0, 0, 0, ...           0     {}   \n",
       "597  [0, 0, 0, 0, 0, 0, 0, 0, 0, 0, 0, 0, 0, 0, 0, ...           0     {}   \n",
       "598  [0, 0, 0, 0, 0, 0, 0, 0, 0, 0, 0, 0, 0, 0, 0, ...           0     {}   \n",
       "599  [0, 0, 0, 0, 0, 0, 0, 0, 0, 0, 0, 0, 0, 0, 0, ...           0     {}   \n",
       "600  [0, 0, 0, 0, 0, 0, 0, 0, 0, 0, 0, 0, 0, 0, 0, ...           0     {}   \n",
       "\n",
       "                               latest_block     loop_time  run  substep  \\\n",
       "0    <__main__.Block object at 0x124895e80>  1.588228e+09    1        0   \n",
       "1    <__main__.Block object at 0x124a90f70>  1.588228e+09    1        1   \n",
       "2    <__main__.Block object at 0x124a90760>  1.588228e+09    1        2   \n",
       "3    <__main__.Block object at 0x124a90d60>  1.588228e+09    1        1   \n",
       "4    <__main__.Block object at 0x124a905e0>  1.588228e+09    1        2   \n",
       "..                                      ...           ...  ...      ...   \n",
       "596  <__main__.Block object at 0x124d2fdf0>  1.588228e+09    1        2   \n",
       "597  <__main__.Block object at 0x124d2fbb0>  1.588228e+09    1        1   \n",
       "598  <__main__.Block object at 0x124d2fee0>  1.588228e+09    1        2   \n",
       "599  <__main__.Block object at 0x124d2fca0>  1.588228e+09    1        1   \n",
       "600  <__main__.Block object at 0x124d2ffd0>  1.588228e+09    1        2   \n",
       "\n",
       "     timestep  \n",
       "0           0  \n",
       "1           1  \n",
       "2           1  \n",
       "3           2  \n",
       "4           2  \n",
       "..        ...  \n",
       "596       298  \n",
       "597       299  \n",
       "598       299  \n",
       "599       300  \n",
       "600       300  \n",
       "\n",
       "[601 rows x 8 columns]"
      ]
     },
     "execution_count": 15,
     "metadata": {},
     "output_type": "execute_result"
    }
   ],
   "source": [
    "df"
   ]
  },
  {
   "cell_type": "code",
   "execution_count": 14,
   "metadata": {},
   "outputs": [
    {
     "data": {
      "text/plain": [
       "<matplotlib.axes._subplots.AxesSubplot at 0x190269860>"
      ]
     },
     "execution_count": 14,
     "metadata": {},
     "output_type": "execute_result"
    },
    {
     "data": {
      "image/png": "[encoded data removed]",
      "text/plain": [
       "<Figure size 432x288 with 1 Axes>"
      ]
     },
     "metadata": {
      "needs_background": "light"
     },
     "output_type": "display_data"
    }
   ],
   "source": [
    "df[\"mempool_size\"] = df.demand.apply(\n",
    "    lambda demand: len(demand)\n",
    ")\n",
    "df[df.substep == 1].plot(\"timestep\", \"mempool_size\")"
   ]
  },
  {
   "cell_type": "code",
   "execution_count": 15,
   "metadata": {},
   "outputs": [
    {
     "data": {
      "text/plain": [
       "<matplotlib.axes._subplots.AxesSubplot at 0x1902fda90>"
      ]
     },
     "execution_count": 15,
     "metadata": {},
     "output_type": "execute_result"
    },
    {
     "data": {
      "image/png": "[encoded data removed]",
      "text/plain": [
       "<Figure size 432x288 with 1 Axes>"
      ]
     },
     "metadata": {
      "needs_background": "light"
     },
     "output_type": "display_data"
    }
   ],
   "source": [
    "df[\"included_txs\"] = df.latest_block.apply(\n",
    "    lambda block: len(block.txs)\n",
    ")\n",
    "df[df.substep == 1].plot(\"timestep\", \"included_txs\")"
   ]
  },
  {
   "cell_type": "code",
   "execution_count": null,
   "metadata": {},
   "outputs": [],
   "source": []
  }
 ],
 "metadata": {
  "kernelspec": {
   "display_name": "Python 3",
   "language": "python",
   "name": "python3"
  },
  "language_info": {
   "codemirror_mode": {
    "name": "ipython",
    "version": 3
   },
   "file_extension": ".py",
   "mimetype": "text/x-python",
   "name": "python",
   "nbconvert_exporter": "python",
   "pygments_lexer": "ipython3",
   "version": "3.8.2"
  }
 },
 "nbformat": 4,
 "nbformat_minor": 4
}
