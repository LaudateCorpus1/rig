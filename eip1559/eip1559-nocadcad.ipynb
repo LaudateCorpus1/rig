{
 "cells": [
  {
   "cell_type": "markdown",
   "metadata": {},
   "source": [
    "## The environment\n",
    "\n",
    "First, we define a simple `Transaction` class, as these are the base element of our simulation. Users produce transactions, which are sent to block producers who must select which of these transactions to include. Under EIP 1559, users specify two things:\n",
    "\n",
    "- The _gas premium_, i.e., the \"tip\" to the block producers.\n",
    "- The _fee cap_, i.e., the highest gas price they are willing to pay.\n",
    "\n",
    "As before, users also specify a gas limit for their transaction. If the transaction ends up consuming more gas than the specified gas limit, it is reverted without changes to the chain."
   ]
  },
  {
   "cell_type": "code",
   "execution_count": 1,
   "metadata": {},
   "outputs": [],
   "source": [
    "import secrets\n",
    "import pandas as pd\n",
    "\n",
    "class Transaction:\n",
    "    def __init__(self, gas_premium, fee_cap, gas_used):\n",
    "        self.gas_premium = gas_premium\n",
    "        self.fee_cap = fee_cap\n",
    "        self.gas_used = gas_used\n",
    "        self.tx_hash = secrets.token_bytes(8)\n",
    "        \n",
    "    def __lt__(self, other):\n",
    "        return self.gas_premium < other.gas_premium"
   ]
  },
  {
   "cell_type": "code",
   "execution_count": 2,
   "metadata": {},
   "outputs": [],
   "source": [
    "constants = {\n",
    "    \"BASEFEE_MAX_CHANGE_DENOMINATOR\": 8,\n",
    "    \"TARGET_GAS_USED\": 10000000,\n",
    "    \"MAX_GAS_EIP1559\": 16000000,\n",
    "    \"EIP1559_DECAY_RANGE\": 800000,\n",
    "    \"EIP1559_GAS_INCREMENT_AMOUNT\": 10,\n",
    "    \"INITIAL_BASEFEE\": 1 * (10 ** 9),\n",
    "    \"PER_TX_GASLIMIT\": 8000000\n",
    "\n",
    "}"
   ]
  },
  {
   "cell_type": "code",
   "execution_count": 3,
   "metadata": {},
   "outputs": [],
   "source": [
    "class Block():\n",
    "    def __init__(self, txs):\n",
    "        self.txs = txs"
   ]
  },
  {
   "cell_type": "code",
   "execution_count": 4,
   "metadata": {},
   "outputs": [],
   "source": [
    "def is_valid(tx, basefee):\n",
    "    return tx.fee_cap >= basefee"
   ]
  },
  {
   "cell_type": "code",
   "execution_count": 5,
   "metadata": {},
   "outputs": [],
   "source": [
    "from random import uniform\n",
    "\n",
    "def update_demand_scenario(timestep, demand, tx_scenario):\n",
    "    for i in range(tx_scenario[timestep]):\n",
    "        gas_premium = uniform(1, 11) * (10 ** 9)\n",
    "        fee_cap = gas_premium + uniform(1, 11) * (10 ** 9)\n",
    "        tx = Transaction(\n",
    "            gas_premium = gas_premium,\n",
    "            gas_used = 21000,\n",
    "            fee_cap = fee_cap\n",
    "        )\n",
    "        demand[tx.tx_hash] = tx\n",
    "        \n",
    "    return demand"
   ]
  },
  {
   "cell_type": "code",
   "execution_count": 6,
   "metadata": {},
   "outputs": [],
   "source": [
    "def include_valid_txs(demand, basefee):\n",
    "    sorted_valid_demand = sorted([tx for tx_hash, tx in demand.items() if is_valid(tx, basefee)], key = lambda tx: -tx.gas_premium)\n",
    "    included_transactions = sorted_valid_demand[0:570]\n",
    "    \n",
    "    return Block(txs = included_transactions)"
   ]
  },
  {
   "cell_type": "code",
   "execution_count": 7,
   "metadata": {},
   "outputs": [],
   "source": [
    "def update_basefee(block, basefee):\n",
    "    gas_used = sum([tx.gas_used for tx in block.txs])\n",
    "    delta = gas_used - constants[\"TARGET_GAS_USED\"]\n",
    "    new_basefee = basefee + basefee * delta // constants[\"TARGET_GAS_USED\"] // constants[\"BASEFEE_MAX_CHANGE_DENOMINATOR\"]\n",
    "    \n",
    "    return new_basefee"
   ]
  },
  {
   "cell_type": "code",
   "execution_count": 8,
   "metadata": {},
   "outputs": [],
   "source": [
    "def remove_included_txs(demand, latest_block):\n",
    "    for tx in latest_block.txs:\n",
    "        del(demand[tx.tx_hash])\n",
    "\n",
    "    return demand"
   ]
  },
  {
   "cell_type": "code",
   "execution_count": 9,
   "metadata": {},
   "outputs": [
    {
     "data": {
      "text/plain": [
       "<matplotlib.axes._subplots.AxesSubplot at 0x11a2c2048>"
      ]
     },
     "execution_count": 9,
     "metadata": {},
     "output_type": "execute_result"
    },
    {
     "data": {
      "image/png": "[encoded data removed]",
      "text/plain": [
       "<Figure size 432x288 with 1 Axes>"
      ]
     },
     "metadata": {
      "needs_background": "light"
     },
     "output_type": "display_data"
    }
   ],
   "source": [
    "from math import pow, exp\n",
    "\n",
    "timesteps = 300\n",
    "\n",
    "def generate_spike_scenario(timesteps):\n",
    "    spikey_boi = timesteps // 8\n",
    "    return [int(10000 * exp(-pow(i - spikey_boi, 2)/16.0)) for i in range(timesteps)]\n",
    "\n",
    "tx_scenario = generate_spike_scenario(timesteps)\n",
    "pd.DataFrame({ \"txs\": tx_scenario, \"producer_limit\": 570, \"target_gas\": 476 }).plot()"
   ]
  },
  {
   "cell_type": "code",
   "execution_count": 10,
   "metadata": {},
   "outputs": [],
   "source": [
    "T = timesteps\n",
    "\n",
    "basefee = 5 * (10 ** 9)\n",
    "demand = {}\n",
    "latest_block = Block(txs = [])\n",
    "rows = [{ \"timestep\": 0, \"basefee\": basefee, \"demand\": demand, \"latest_block\": latest_block }]\n",
    "\n",
    "for timestep in range(T):\n",
    "    demand = update_demand_scenario(timestep, demand, tx_scenario)\n",
    "    latest_block = include_valid_txs(demand, basefee)\n",
    "    basefee = update_basefee(latest_block, basefee)\n",
    "    demand = remove_included_txs(demand, latest_block)\n",
    "    rows += [{ \"timestep\": timestep, \"basefee\": basefee, \"demand\": demand.copy(), \"latest_block\": latest_block }]\n",
    "    \n",
    "df = pd.DataFrame(rows)"
   ]
  },
  {
   "cell_type": "code",
   "execution_count": 11,
   "metadata": {},
   "outputs": [
    {
     "data": {
      "text/html": [
       "<div>\n",
       "<style scoped>\n",
       "    .dataframe tbody tr th:only-of-type {\n",
       "        vertical-align: middle;\n",
       "    }\n",
       "\n",
       "    .dataframe tbody tr th {\n",
       "        vertical-align: top;\n",
       "    }\n",
       "\n",
       "    .dataframe thead th {\n",
       "        text-align: right;\n",
       "    }\n",
       "</style>\n",
       "<table border=\"1\" class=\"dataframe\">\n",
       "  <thead>\n",
       "    <tr style=\"text-align: right;\">\n",
       "      <th></th>\n",
       "      <th>timestep</th>\n",
       "      <th>basefee</th>\n",
       "      <th>demand</th>\n",
       "      <th>latest_block</th>\n",
       "    </tr>\n",
       "  </thead>\n",
       "  <tbody>\n",
       "    <tr>\n",
       "      <th>0</th>\n",
       "      <td>0</td>\n",
       "      <td>5000000000</td>\n",
       "      <td>{}</td>\n",
       "      <td>&lt;__main__.Block object at 0x11a3a4a58&gt;</td>\n",
       "    </tr>\n",
       "    <tr>\n",
       "      <th>1</th>\n",
       "      <td>0</td>\n",
       "      <td>4375000000</td>\n",
       "      <td>{}</td>\n",
       "      <td>&lt;__main__.Block object at 0x11a3a4ba8&gt;</td>\n",
       "    </tr>\n",
       "    <tr>\n",
       "      <th>2</th>\n",
       "      <td>1</td>\n",
       "      <td>3828125000</td>\n",
       "      <td>{}</td>\n",
       "      <td>&lt;__main__.Block object at 0x11a3a49b0&gt;</td>\n",
       "    </tr>\n",
       "    <tr>\n",
       "      <th>3</th>\n",
       "      <td>2</td>\n",
       "      <td>3349609375</td>\n",
       "      <td>{}</td>\n",
       "      <td>&lt;__main__.Block object at 0x11a3a4208&gt;</td>\n",
       "    </tr>\n",
       "    <tr>\n",
       "      <th>4</th>\n",
       "      <td>3</td>\n",
       "      <td>2930908203</td>\n",
       "      <td>{}</td>\n",
       "      <td>&lt;__main__.Block object at 0x11a3a4048&gt;</td>\n",
       "    </tr>\n",
       "  </tbody>\n",
       "</table>\n",
       "</div>"
      ],
      "text/plain": [
       "   timestep     basefee demand                            latest_block\n",
       "0         0  5000000000     {}  <__main__.Block object at 0x11a3a4a58>\n",
       "1         0  4375000000     {}  <__main__.Block object at 0x11a3a4ba8>\n",
       "2         1  3828125000     {}  <__main__.Block object at 0x11a3a49b0>\n",
       "3         2  3349609375     {}  <__main__.Block object at 0x11a3a4208>\n",
       "4         3  2930908203     {}  <__main__.Block object at 0x11a3a4048>"
      ]
     },
     "execution_count": 11,
     "metadata": {},
     "output_type": "execute_result"
    }
   ],
   "source": [
    "df.head()"
   ]
  },
  {
   "cell_type": "code",
   "execution_count": 12,
   "metadata": {},
   "outputs": [
    {
     "data": {
      "text/plain": [
       "<matplotlib.axes._subplots.AxesSubplot at 0x11bfa1fd0>"
      ]
     },
     "execution_count": 12,
     "metadata": {},
     "output_type": "execute_result"
    },
    {
     "data": {
      "image/png": "[encoded data removed]",
      "text/plain": [
       "<Figure size 432x288 with 1 Axes>"
      ]
     },
     "metadata": {
      "needs_background": "light"
     },
     "output_type": "display_data"
    }
   ],
   "source": [
    "df.plot(\"timestep\", \"basefee\")"
   ]
  },
  {
   "cell_type": "code",
   "execution_count": null,
   "metadata": {},
   "outputs": [],
   "source": []
  }
 ],
 "metadata": {
  "kernelspec": {
   "display_name": "Python 3",
   "language": "python",
   "name": "python3"
  },
  "language_info": {
   "codemirror_mode": {
    "name": "ipython",
    "version": 3
   },
   "file_extension": ".py",
   "mimetype": "text/x-python",
   "name": "python",
   "nbconvert_exporter": "python",
   "pygments_lexer": "ipython3",
   "version": "3.7.3"
  }
 },
 "nbformat": 4,
 "nbformat_minor": 4
}
