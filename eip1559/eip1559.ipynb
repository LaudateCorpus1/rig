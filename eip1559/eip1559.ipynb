{
 "cells": [
  {
   "cell_type": "markdown",
   "metadata": {},
   "source": [
    "# EIP-1559: A transaction fee market proposal\n",
    "\n",
    "###### March 2020, [@barnabemonnot](https://twitter.com/barnabemonnot)\n",
    "###### [Robust Incentives Group](https://github.com/ethereum/rig), Ethereum Foundation\n",
    "\n",
    "---\n",
    "\n",
    "EIP-1559 is perhaps one of the most anticipated upgrades to the economic model of Ethereum. Proposed by Vitalik Buterin in his [Blockchain Resource Pricing](https://github.com/ethereum/research/blob/master/papers/pricing/ethpricing.pdf) paper, the mechanism seeks to replace the first-price auction model governing the current fee market for transaction inclusion.\n",
    "\n",
    "## Why EIP-1559?\n",
    "\n",
    "### Transactions 101\n",
    "\n",
    "Users submit _transactions_ to interact with a blockchain. In Ethereum, these transactions can be as simple as sending ether from one account to another, or as complex as making a contract perform something on your behalf (entering a lottery, executing a trade etc). In the latter case, your transaction might trigger other transactions to execute, cascading until no more side-effects take place. It is clear that the simple transfer is much less computation than a complex, multistage transaction, so we measure how much resources each transaction requires by how much _gas_ the transaction (and its potential cascading transactions) needs to execute.\n",
    "\n",
    "The Ethereum Virtual Machine (EVM), which processes these transactions, has a cost in gas for each elementary operation: adding numbers, storing a value, transfering ether. All transactions are made up of an arbitrary number of these elementary operations (even the really complex ones!) Together, these elementary operations tally up to the gas necessary to process the entire transaction.\n",
    "\n",
    "|| Transaction operations | Gas |\n",
    "|-|-|-|\n",
    "|1| Add | 20 |\n",
    "|2| Transfer | 100 |\n",
    "||**Transaction total** | 120 |\n",
    "\n",
    "But space is few, as blocks are produced on a regular interval and offer only a limited amount of available gas. To avoid congestion, transaction senders (\"users\") price the gas they seek to use, e.g., specifying that they are ready to pay 6 Gwei per unit of gas to have their transaction included.\n",
    "\n",
    "| Transaction gas | Gas price (Gwei) | Total fee (Gwei) |\n",
    "|-|-|-|\n",
    "| 120 | 6 | 720 |\n",
    "\n",
    "### Auctions as market mechanism\n",
    "\n",
    "In the current auction model, block producers typically select a set of the highest paying transactions, making sure that the total gas required by all transactions in the set does not exceed the limit amount of gas offered in a block. Users with selected transactions end up paying the gas price they specified, times the amount of gas their transaction required to be processed. Thus, users \"pay what they bid\": this is a first-price auction.\n",
    "\n",
    "In the following table, we assume the block gas limit is 1,000. Though there is a transaction (the last one) paying out 700 Gwei, the block producer cannot include it as it would break the gas limit and thus prefers to include the first, 720 Gwei-valued, transactions. Users pay exactly the fee stated in the column.\n",
    "\n",
    "| Transaction gas | Gas price (Gwei) | Total fee (Gwei) | Included? | Cumulative gas |\n",
    "|-|-|-|-|-|\n",
    "| 120 | 6 | 720 | Yes | 120 |\n",
    "| 200 | 5 | 1000 | Yes | 320 |\n",
    "| 700 | 1 | 700 | No | 320 |\n",
    "\n",
    "The first-price auction has many defects. In its simplest theoretical model, where users bid simultaneously and privately, it is a well-known result that first-price auction are not incentive-compatible, meaning that users do not have the incentive to bid their true value for the transaction being included. Second-price auctions are though, when the winner of the auction pays the bid offered by the second-highest bidder.\n",
    "\n",
    "So second-price auctions were considered as an alternative, but where we may hold Sotheby's accountable for manipulating the result of an auction, we can't quite always do that in the blockchain setting. Since block producers have the final say on who gets included or not, they can \"stuff\" the blocks with phony transactions from themselves to pump up the \"second price\", and thus trick the protocol into giving them more than what the market should offer while leaving honest fee-paying transactions by the curb ([this can be somewhat mitigated](https://arxiv.org/abs/1901.06830)).\n",
    "\n",
    "### Pricing congestion and EIP-1559\n",
    "\n",
    "Enters EIP-1559, written up in an [Ethereum improvement protocol (EIP) suggestion by Eric Conoar of EthHub fame and Buterin himself](https://eips.ethereum.org/EIPS/eip-1559). The proposal involves setting a variable _basefee_ to be paid by anyone who wishes to have a transaction included, with the base fee varying according to how empty or how full blocks are. The block limit is set to a fairly high value, while the EIP-1559 mechanism targets a fixed _block size_ ([the amount of gas spent by transactions in the block](https://ethgasstation.info/blog/ethereum-block-size/)).\n",
    "\n",
    "In dire times, when everyone is trying to upgrade their CryptoKitty or frantically closing out their debt positions, block sizes increase as more users are willing to pay the current basefee. In this case, the mechanism increases the basefee to price out users who just don't want it bad enough, returning block sizes to their fixed target. Alternatively, when the chain is an open empty road to nowhere, we would prefer to encourage users to send their transactions in for cheap, so basefee should be much lower.\n",
    "\n",
    "Under the auction market though, if a lot of people want to transact on the chain at the same time, the threshold bids making it into the blocks should steadily increase (and indeed, have done so in the past). Isn't that the same outcome as EIP-1559? Complicating things, we'll also see in our simulations that users can specify a \"tip\" paid out to the block producers, in addition to the basefee. A higher tip gets you to the end of the line faster, kind of like the auction mechanism does already. So why do we care about a mechanism seemingly not so different from the auction?\n",
    "\n",
    "| Basefee (burned) | Tip (paid to block producer) | Total fee |\n",
    "|-|-|-|\n",
    "| 4 | 1 | 5 |\n",
    "\n",
    "One clue is predictability. First-price auctions are notoriously hard to analyse even in the best of cases. It gets worse when bids are open (as they are to anyone who listens to the _mempool_ where user transactions languish before being included) and replaceable (as they are, though not so trivially, with transaction-replacement operations). There is hope that a more \"algorithmic\" price discovery mechanism will help remove this variability, even when demand fluctuates swiftly (we'll see some of that in the simulations below).\n",
    "\n",
    "Another clue is analytic simplicity. Pricing things, and especially congestion, in the most parsimonious manner is one object of algorithmic game theory, which is the study of mechanisms from the computational lens. We know from Pigou, Vickrey and a long line of economists that we usually like to _internalise externalities_, i.e., make people pay for not only what they are doing _for_ themselves, but also what they are doing _to_ others.\n",
    "\n",
    "When I am on the road in the morning, I impose my presence to everyone else also on the road, and vice-versa. This is why the most fundamental result in this corner of the discipline states that the correct price to pay for people cramming in some resource is exactly the _marginal price_: the price of the extra inconvenience for everyone else that your presence imposes. With first-price auctions, it is not clear that we ever get to that price. But a mechanism seeking to achieve some target (e.g., the amount of gas used by a block) and raising/lowering the price (e.g., the basefee) to meet that target gets much closer to this marginal price. And if that is simpler for us to analyse, that also means we get to predict a bit better how the mechanism will behave. Double whammy!\n",
    "\n",
    "But ok, after this long intro, let's dive into the mechanics of the... ahem... mechanism. We'll first set up a simple cadCAD environment and progressively add on to it to simulate more and more complex phenomena.\n",
    "\n",
    "## The environment\n",
    "\n",
    "First, we define a simple `Transaction` class, as these are the base element of our simulation. Users produce transactions, which are sent to block producers who must select which of these transactions to include. Under EIP-1559, users specify two things:\n",
    "\n",
    "- The _gas premium_, i.e., the \"tip\" to the block producers.\n",
    "- The _fee cap_, i.e., the highest gas price they are willing to pay.\n",
    "\n",
    "As before, users also specify a gas limit for their transaction. If the transaction ends up consuming more gas than the specified gas limit, it is reverted without changes to the chain."
   ]
  },
  {
   "cell_type": "code",
   "execution_count": 68,
   "metadata": {},
   "outputs": [],
   "source": [
    "class Transaction:\n",
    "    def __init__(self, gas_premium, fee_cap, gas_used):\n",
    "        self.gas_premium = gas_premium\n",
    "        self.fee_cap = fee_cap\n",
    "        self.gas_used = gas_used"
   ]
  },
  {
   "cell_type": "markdown",
   "metadata": {},
   "source": [
    "Second, we'll grab a few constants from the EIP, possibly looking to change them later on."
   ]
  },
  {
   "cell_type": "code",
   "execution_count": 69,
   "metadata": {},
   "outputs": [],
   "source": [
    "constants = {\n",
    "    \"BASEFEE_MAX_CHANGE_DENOMINATOR\": 8,\n",
    "    \"TARGET_GAS_USED\": 10000000,\n",
    "    \"MAX_GAS_EIP1559\": 16000000,\n",
    "    \"EIP1559_DECAY_RANGE\": 800000,\n",
    "    \"EIP1559_GAS_INCREMENT_AMOUNT\": 10,\n",
    "    \"INITIAL_BASEFEE\": 1000000000,\n",
    "    \"PER_TX_GASLIMIT\": 8000000\n",
    "}"
   ]
  },
  {
   "cell_type": "markdown",
   "metadata": {},
   "source": [
    "Remember that we set up our cadCAD simulations as a repeating pattern of state updates and policies. For this simulation, here is our plan:\n",
    "\n",
    "1. **(State update)** `update_demand`: Users generate some demand, a list of transactions added to the mempool.\n",
    "2. **(Policy)** `include_all_txs`: We have more space to define what our policies are. For now, our block producers will include all transactions in the mempool inside their blocks (we'll make sure that the total amount of gas required won't exceed the gas limit in blocks).\n",
    "3. **(State update)** `update_basefee`: Given the included transaction, the protocol checks whether the basefee needs to be updated or not. We'll go deeper into how this update works later on, for now, simply keep in mind that the fee should decrease as our blocks won't be full."
   ]
  },
  {
   "cell_type": "code",
   "execution_count": 70,
   "metadata": {},
   "outputs": [],
   "source": [
    "def update_demand(params, step, sL, s, _input):\n",
    "    basefee = s[\"basefee\"]\n",
    "    demand = [Transaction(\n",
    "        gas_premium = 1000000000,\n",
    "        gas_used = 21000,\n",
    "        fee_cap = 6000000000\n",
    "    ) for i in range(100)]\n",
    "    return (\"demand\", demand)\n",
    "    \n",
    "def include_all_txs(params, step, sL, s):\n",
    "    demand = s[\"demand\"]\n",
    "    basefee = s[\"basefee\"]\n",
    "    miner_gains = 0\n",
    "    total_gas_used = 0\n",
    "    \n",
    "    for tx in demand:\n",
    "        gas_price = min([basefee + tx.gas_premium, tx.fee_cap])\n",
    "        fee = gas_price * tx.gas_used\n",
    "        miner_gains += (gas_price - basefee) * tx.gas_used\n",
    "        total_gas_used += tx.gas_used\n",
    "        \n",
    "    assert miner_gains >= 0\n",
    "    return ({ \"gas_used\": total_gas_used })\n",
    "    \n",
    "def update_basefee(params, step, sL, s, _input):\n",
    "    gas_used = _input[\"gas_used\"]\n",
    "    delta = gas_used - constants[\"TARGET_GAS_USED\"]\n",
    "    basefee = s[\"basefee\"]\n",
    "    new_basefee = basefee + basefee * delta // constants[\"TARGET_GAS_USED\"] // constants[\"BASEFEE_MAX_CHANGE_DENOMINATOR\"]\n",
    "    return (\"basefee\", new_basefee)\n",
    "\n",
    "psub = [{\n",
    "    \"policies\": {},\n",
    "    \"variables\": {\n",
    "        \"demand\": update_demand # step 1\n",
    "    }\n",
    "}, {\n",
    "    \"policies\": {\n",
    "        \"action\": include_all_txs # step 2\n",
    "    },\n",
    "    \"variables\": {\n",
    "        \"basefee\": update_basefee # step 3\n",
    "    }\n",
    "}]"
   ]
  },
  {
   "cell_type": "markdown",
   "metadata": {},
   "source": [
    "We set our initial conditions: an empty demand and basefee starting from the EIP-defined constant `INITIAL_BASEFEE`."
   ]
  },
  {
   "cell_type": "code",
   "execution_count": 71,
   "metadata": {},
   "outputs": [],
   "source": [
    "initial_conditions = {\n",
    "    \"basefee\": constants[\"INITIAL_BASEFEE\"],\n",
    "    \"demand\": []\n",
    "}"
   ]
  },
  {
   "cell_type": "markdown",
   "metadata": {},
   "source": [
    "Set up our simulation parameters: for now we will run the simulation for 300 steps (i.e., 300 blocks)."
   ]
  },
  {
   "cell_type": "code",
   "execution_count": 72,
   "metadata": {},
   "outputs": [],
   "source": [
    "simulation_parameters = {\n",
    "    'T': range(100),\n",
    "    'N': 1,\n",
    "    'M': {}\n",
    "}"
   ]
  },
  {
   "cell_type": "markdown",
   "metadata": {},
   "source": [
    "And finally set up and execute the simulation!"
   ]
  },
  {
   "cell_type": "code",
   "execution_count": 73,
   "metadata": {},
   "outputs": [],
   "source": [
    "%%capture\n",
    "\n",
    "from cadCAD.configuration import Configuration\n",
    "from cadCAD.engine import ExecutionMode, ExecutionContext, Executor\n",
    "import pandas as pd\n",
    "\n",
    "config = Configuration(initial_state=initial_conditions,\n",
    "                       partial_state_update_blocks=psub,\n",
    "                       sim_config=simulation_parameters\n",
    "                      )\n",
    "\n",
    "exec_mode = ExecutionMode()\n",
    "exec_context = ExecutionContext(exec_mode.single_proc)\n",
    "executor = Executor(exec_context, [config]) # Pass the configuration object inside an array\n",
    "raw_result, tensor = executor.execute() # The `execute()` method returns a tuple; its first elements contains the raw results\n",
    "df = pd.DataFrame(raw_result)"
   ]
  },
  {
   "cell_type": "markdown",
   "metadata": {},
   "source": [
    "OK! Our results are in `df`, so let's plot the `basefee` and see how that evolved."
   ]
  },
  {
   "cell_type": "code",
   "execution_count": 74,
   "metadata": {},
   "outputs": [
    {
     "data": {
      "text/plain": [
       "<matplotlib.axes._subplots.AxesSubplot at 0x120038ba8>"
      ]
     },
     "execution_count": 74,
     "metadata": {},
     "output_type": "execute_result"
    },
    {
     "data": {
      "image/png": "[encoded data removed]",
      "text/plain": [
       "<Figure size 432x288 with 1 Axes>"
      ]
     },
     "metadata": {
      "needs_background": "light"
     },
     "output_type": "display_data"
    }
   ],
   "source": [
    "df.plot('timestep', ['basefee'])"
   ]
  },
  {
   "cell_type": "markdown",
   "metadata": {},
   "source": [
    "Unsurprisingly, `basefee` decreases, in fact decreases quite fast to stabilise around just a few weis. We'll talk about the dynamics of basefee more when we dig into how the update is done.\n",
    "\n",
    "### Refining the demand\n",
    "\n",
    "Realistically though, our demand is not uniform at all. Some users will make a killing on Uniswap so would be happy to pay a high fee to have their transaction go through fast, while others are content to wait a bit longer should the entry price be too high. We'll refine the previous example a bit by adding some variability in the user transactions. We'll keep the gas used homogenous, just to avoid solving complex set-packing problems."
   ]
  },
  {
   "cell_type": "code",
   "execution_count": 75,
   "metadata": {},
   "outputs": [],
   "source": [
    "from random import randint\n",
    "\n",
    "def update_demand_variable(params, step, sL, s, _input):\n",
    "    basefee = s[\"basefee\"]\n",
    "    demand = []\n",
    "    for i in range(100):\n",
    "        gas_premium = randint(0,9) * 1000000000\n",
    "        fee_cap = gas_premium + randint(1, 9) * 1000000000\n",
    "        demand += [Transaction(\n",
    "            gas_premium = gas_premium,\n",
    "            gas_used = 21000,\n",
    "            fee_cap = fee_cap\n",
    "        )]\n",
    "    return (\"demand\", demand)"
   ]
  },
  {
   "cell_type": "markdown",
   "metadata": {},
   "source": [
    "Let's look into our demand a bit."
   ]
  },
  {
   "cell_type": "code",
   "execution_count": 76,
   "metadata": {},
   "outputs": [
    {
     "data": {
      "text/plain": [
       "array([[<matplotlib.axes._subplots.AxesSubplot object at 0x120046f60>,\n",
       "        <matplotlib.axes._subplots.AxesSubplot object at 0x1204d73c8>]],\n",
       "      dtype=object)"
      ]
     },
     "execution_count": 76,
     "metadata": {},
     "output_type": "execute_result"
    },
    {
     "data": {
      "image/png": "[encoded data removed]",
      "text/plain": [
       "<Figure size 432x288 with 2 Axes>"
      ]
     },
     "metadata": {
      "needs_background": "light"
     },
     "output_type": "display_data"
    }
   ],
   "source": [
    "from math import sqrt\n",
    "\n",
    "def create_df_from_demand(demand):\n",
    "    gas_premium = pd.Series([tx.gas_premium for tx in demand])\n",
    "    fee_cap = pd.Series([tx.fee_cap for tx in demand])\n",
    "    return pd.DataFrame({ 'gas_premium': gas_premium, 'fee_cap': fee_cap })\n",
    "\n",
    "demand = []\n",
    "for i in range(100):\n",
    "    gas_premium = randint(1, 9) * 1000000000\n",
    "    fee_cap = gas_premium + randint(1, 9) * 1000000000\n",
    "    demand += [Transaction(\n",
    "        gas_premium = gas_premium,\n",
    "        gas_used = 21000,\n",
    "        fee_cap = fee_cap\n",
    "    )]\n",
    "    \n",
    "demand_df = create_df_from_demand(demand)\n",
    "demand_df.hist(bins = 9)"
   ]
  },
  {
   "cell_type": "markdown",
   "metadata": {},
   "source": [
    "The intuition behind these distributions is the following:\n",
    "\n",
    "- `gas_premium` is obtained by throwing a nine-sided dice ([not sure this even exists?](https://en.wikipedia.org/wiki/Dice#Rarer_variations)).\n",
    "- To get `fee_cap`, we throw another nine-sided dice and add the result to the `gas_premium` we obtained.\n",
    "\n",
    "We should find that `gas_premium` is somewhat uniformly distributed over 1 to 9 Gwei, while `fee_cap` looks more like a normal distribution (high chance of getting average values ~ 8-9, low chances of getting extreme values).\n",
    "\n",
    "Since our average `fee_cap` will be close to 8 or 9 Gwei, let's start the `basefee` in our simulations to 10 Gwei. When a transaction sets its `fee_cap` lower than the prevailing `basefee`, it cannot be included in a block, since it is not willing to pay enough.\n",
    "\n",
    "This time, we'll create a `Block` class to record the history of transactions getting in."
   ]
  },
  {
   "cell_type": "code",
   "execution_count": 77,
   "metadata": {},
   "outputs": [],
   "source": [
    "class Block():\n",
    "    def __init__(self, txs):\n",
    "        self.txs = txs"
   ]
  },
  {
   "cell_type": "code",
   "execution_count": 78,
   "metadata": {},
   "outputs": [],
   "source": [
    "def include_valid_txs(params, step, sL, s):\n",
    "    demand = s[\"demand\"]\n",
    "    basefee = s[\"basefee\"]\n",
    "    miner_gains = 0\n",
    "    txs_included = []\n",
    "    \n",
    "    for tx in demand:\n",
    "        if tx.fee_cap < basefee:\n",
    "            continue\n",
    "            \n",
    "        gas_price = min([basefee + tx.gas_premium, tx.fee_cap])\n",
    "        fee = gas_price * tx.gas_used\n",
    "        txs_included += [tx]\n",
    "        \n",
    "    assert miner_gains >= 0\n",
    "    return ({ \"block\": Block(txs = txs_included) })"
   ]
  },
  {
   "cell_type": "markdown",
   "metadata": {},
   "source": [
    "This means we need to change our last state update."
   ]
  },
  {
   "cell_type": "code",
   "execution_count": 79,
   "metadata": {},
   "outputs": [],
   "source": [
    "def update_basefee(params, step, sL, s, _input):\n",
    "    block = _input[\"block\"]\n",
    "    gas_used = sum([tx.gas_used for tx in block.txs])\n",
    "    delta = gas_used - constants[\"TARGET_GAS_USED\"]\n",
    "    basefee = s[\"basefee\"]\n",
    "    new_basefee = basefee + basefee * delta // constants[\"TARGET_GAS_USED\"] // constants[\"BASEFEE_MAX_CHANGE_DENOMINATOR\"]\n",
    "    return (\"basefee\", new_basefee)"
   ]
  },
  {
   "cell_type": "markdown",
   "metadata": {},
   "source": [
    "We'll also record the latest block in the state."
   ]
  },
  {
   "cell_type": "code",
   "execution_count": 80,
   "metadata": {},
   "outputs": [],
   "source": [
    "def record_latest_block(params, step, sL, s, _input):\n",
    "    block = _input[\"block\"]\n",
    "    return (\"latest_block\", block)"
   ]
  },
  {
   "cell_type": "markdown",
   "metadata": {},
   "source": [
    " We'll assume for now that transactions which fail to get included just disappear, so a completely fresh new demand spawns for every block."
   ]
  },
  {
   "cell_type": "code",
   "execution_count": 81,
   "metadata": {},
   "outputs": [],
   "source": [
    "%%capture\n",
    "\n",
    "psub = [{\n",
    "    \"policies\": {},\n",
    "    \"variables\": {\n",
    "        \"demand\": update_demand_variable # step 1\n",
    "    }\n",
    "}, {\n",
    "    \"policies\": {\n",
    "        \"action\": include_valid_txs # step 2\n",
    "    },\n",
    "    \"variables\": {\n",
    "        \"basefee\": update_basefee, # step 3\n",
    "        \"latest_block\": record_latest_block\n",
    "    }\n",
    "}]\n",
    "\n",
    "initial_conditions = {\n",
    "    \"basefee\": 10000000000,\n",
    "    \"demand\": [],\n",
    "    \"latest_block\": Block(txs=[])\n",
    "}\n",
    "\n",
    "simulation_parameters = {\n",
    "    'T': range(100),\n",
    "    'N': 1,\n",
    "    'M': {}\n",
    "}\n",
    "\n",
    "config = Configuration(initial_state=initial_conditions,\n",
    "                       partial_state_update_blocks=psub,\n",
    "                       sim_config=simulation_parameters\n",
    "                      )\n",
    "\n",
    "exec_mode = ExecutionMode()\n",
    "exec_context = ExecutionContext(exec_mode.single_proc)\n",
    "executor = Executor(exec_context, [config]) # Pass the configuration object inside an array\n",
    "raw_result, tensor = executor.execute() # The `execute()` method returns a tuple; its first elements contains the raw results\n",
    "df = pd.DataFrame(raw_result)"
   ]
  },
  {
   "cell_type": "markdown",
   "metadata": {},
   "source": [
    "Let's check how the basefee evolves."
   ]
  },
  {
   "cell_type": "code",
   "execution_count": 82,
   "metadata": {},
   "outputs": [
    {
     "data": {
      "text/plain": [
       "<matplotlib.axes._subplots.AxesSubplot at 0x12058bcf8>"
      ]
     },
     "execution_count": 82,
     "metadata": {},
     "output_type": "execute_result"
    },
    {
     "data": {
      "image/png": "[encoded data removed]",
      "text/plain": [
       "<Figure size 432x288 with 1 Axes>"
      ]
     },
     "metadata": {
      "needs_background": "light"
     },
     "output_type": "display_data"
    }
   ],
   "source": [
    "df.plot('timestep', ['basefee'])"
   ]
  },
  {
   "cell_type": "markdown",
   "metadata": {},
   "source": [
    "As before, the basefee starts from high and progressively decreases, since blocks are not quite meeting their gas target. Let's see how many transactions get in each block."
   ]
  },
  {
   "cell_type": "code",
   "execution_count": 83,
   "metadata": {},
   "outputs": [
    {
     "data": {
      "text/plain": [
       "<matplotlib.axes._subplots.AxesSubplot at 0x120c06550>"
      ]
     },
     "execution_count": 83,
     "metadata": {},
     "output_type": "execute_result"
    },
    {
     "data": {
      "image/png": "[encoded data removed]",
      "text/plain": [
       "<Figure size 432x288 with 1 Axes>"
      ]
     },
     "metadata": {
      "needs_background": "light"
     },
     "output_type": "display_data"
    }
   ],
   "source": [
    "df[\"txs_per_block\"] = df.latest_block.apply(\n",
    "    lambda block: len(block.txs)\n",
    ")\n",
    "df.plot(\"timestep\", \"txs_per_block\")"
   ]
  },
  {
   "cell_type": "markdown",
   "metadata": {},
   "source": [
    "The randomness is due to how we sample a new demand each step, but the trend is clear: as the basefee decreases, more and more transactions get in!"
   ]
  },
  {
   "cell_type": "markdown",
   "metadata": {},
   "source": [
    "## A more realistic demand\n",
    "\n",
    "Let's summarise what we have done so far. We assume an _exogenous_ demand (i.e., we set it outside of our model, as a parameter). For now, this demand is really simple: people only want to use the chain to do a transfer, which uses 21,000 units of gas. Given the demand that they observe, block producers select which candidate transactions to include in their blocks. Since the demand is much lower than the actual target supply of gas (we have a demand of 100 transactions, 21,000 gas each, so 2,100,000 gas per block, far from the 10,000,000 target gas set in `constants`), in our simple model block producers are not strategic and simply include all known transactions. The premium (or \"tip\") in all transactions is set at 1 Gwei, which means that each block producer receives 100 Gwei in transaction fees for each block.\n",
    "\n",
    "This doesn't tell us much about our mechanism though. We would like instead to study how a more realistic demand for gas will change the behaviour of the basefee and the transaction fee market. For that, it is useful to glean some insights into how the demand behaved historically. Of course, we do not directly have access to this historical demand --- to do so, we would have needed to monitor every change of the mempool over time. What we do have access to though is the history of _included_ transactions in blocks, including the gas price and total fee they paid to get in.\n",
    "\n",
    "Since that fee was determined by the first-price auction mechanism, we cannot completely expect that the realised demand under a new mechanism will be the same. Maybe our EIP-1559 fee market is really good at coping with congestion and doesn't incent users to be strategic about their bidding, the way they were under the auction mechamism, leading to big price spikes during particularly juicy ICOs or caring for furry beings. In that case, the realised demand observed with the auction won't be a very good prediction for the demand under EIP-1559. Yet, out of the box this will be a much better approximation than making up numbers.\n",
    "\n",
    "The second motivation is to make the demand _endogeneous_, i.e., model how the demand evolves, instead of generating sample demands based on historical prices. It is clear that the demand does not come out of nowhere: _exogenous_ events such as specific demand shocks (e.g., an ICO, a fun game, spikes of trading activity due to a nasty virus) or endogenous events such as the level of congestion and prices all affect the demand for gas. We may be able to infer just what makes the demand tick from these historical samples. So, instead of \"imitating\" past transactions, we could simulate the demand behaviour based on exogenous we define and endogenous events we record.\n",
    "\n",
    "(Note on this draft: I am still in the process of collecting past transaction records.)"
   ]
  },
  {
   "cell_type": "markdown",
   "metadata": {},
   "source": [
    "## Strategic concerns\n",
    "\n",
    "A different, orthogonal axis of analysis consists in looking at the micro-economic incentives of all _players_ involved in the transaction fee market. Specifically, we would really like to make sure that block producers cannot _game_ the EIP-1559 mechanism. Assuming a rational model for block producers (meaning they would act in a way to maximise their profits from the block producing), it seems clear from the get-go that producers will have an incentive to keep the size of the tip (relative to the basefee) as high as possible. How can that affect the mechanism?\n",
    "\n",
    "But users may be strategic too, deciding to delay their transaction if they expect the market to clear and basefee (or total expected fee) to be lower in the future. How do these strategic concerns interact?\n",
    "\n",
    "### Block producer censorship\n",
    "\n",
    "Is the following an equilibrium? For some value $f$ (in Gwei):\n",
    "\n",
    "- Block producers never include a transaction with tip lower than $f$.\n",
    "- If a block producer is seen to have included a transaction with tip lower than $f$, the block is orphaned."
   ]
  },
  {
   "cell_type": "markdown",
   "metadata": {},
   "source": [
    "## System dynamics\n",
    "\n",
    "We write out EIP-1559 as a dynamical system. Given\n",
    "\n",
    "- $b(0)$: the basefee at $t=0$,\n",
    "- $g$: a target gas per block,\n",
    "- $G$: the max gas limit per block, and\n",
    "- $d$: the basefee max change denominator $d$,\n",
    "\n",
    "we observe two dynamical processes:\n",
    "\n",
    "- $b(t)$ is the basefee at time $t \\in \\mathbb{N}$.\n",
    "- $g(t)$ is the total gas used by the block at time $t$, $g(t) \\in [0, G]$.\n",
    "\n",
    "This yields the following state dynamics:\n",
    "\n",
    "$$ b(t+1) = b(t) + b(t) \\frac{g(t) - c}{cd} = b(t) \\Big(1 + \\frac{g(t) - c}{cd} \\Big) $$\n",
    "\n",
    "Note in the expression above that the closer $g(t)$ is to $c$, the closer $g(t) - c$ is to zero, in which case the basefee at $t+1$ is equal to the basefee at $t$ (no change)."
   ]
  }
 ],
 "metadata": {
  "kernelspec": {
   "display_name": "Python 3",
   "language": "python",
   "name": "python3"
  },
  "language_info": {
   "codemirror_mode": {
    "name": "ipython",
    "version": 3
   },
   "file_extension": ".py",
   "mimetype": "text/x-python",
   "name": "python",
   "nbconvert_exporter": "python",
   "pygments_lexer": "ipython3",
   "version": "3.7.3"
  }
 },
 "nbformat": 4,
 "nbformat_minor": 4
}
