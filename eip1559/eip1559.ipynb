{
 "cells": [
  {
   "cell_type": "markdown",
   "metadata": {},
   "source": [
    "# EIP 1559: A transaction fee market proposal\n",
    "\n",
    "###### March 2020, [@barnabemonnot](https://twitter.com/barnabemonnot)\n",
    "###### [Robust Incentives Group](https://github.com/ethereum/rig), Ethereum Foundation\n",
    "\n",
    "---\n",
    "\n",
    "EIP 1559 is perhaps one of the most anticipated upgrades to the economic model of Ethereum. Proposed by Vitalik Buterin in his [Blockchain Resource Pricing](https://github.com/ethereum/research/blob/master/papers/pricing/ethpricing.pdf) paper, the mechanism seeks to replace the first-price auction model governing the current fee market for transaction inclusion.\n",
    "\n",
    "## Why EIP 1559?\n",
    "\n",
    "### Transactions 101\n",
    "\n",
    "Users submit _transactions_ to interact with a blockchain. In Ethereum, these transactions can be as simple as sending ether from one account to another, or as complex as making a contract perform something on your behalf (entering a lottery, executing a trade etc). In the latter case, your transaction might trigger other transactions to execute, cascading until no more side-effects take place. It is clear that the simple transfer is much less computation than a complex, multistage transaction, so we measure how much resources each transaction requires by how much _gas_ the transaction (and its potential cascading transactions) needs to execute.\n",
    "\n",
    "The Ethereum Virtual Machine (EVM), which processes these transactions, has a cost in gas for each elementary operation: adding numbers, storing a value, transfering ether. All transactions are made up of an arbitrary number of these elementary operations (even the really complex ones!) Together, these elementary operations tally up to the gas necessary to process the entire transaction.\n",
    "\n",
    "|| Transaction operations | Gas |\n",
    "|-|-|-|\n",
    "|1| Add | 20 |\n",
    "|2| Transfer | 100 |\n",
    "||**Transaction total** | 120 |\n",
    "\n",
    "But space is few, as blocks are produced on a regular interval and offer only a limited amount of available gas. To avoid congestion, transaction senders (\"users\") price the gas they seek to use, e.g., specifying that they are ready to pay 6 Gwei per unit of gas to have their transaction included.\n",
    "\n",
    "| Transaction gas | Gas price (Gwei) | Total fee (Gwei) |\n",
    "|-|-|-|\n",
    "| 120 | 6 | 720 |\n",
    "\n",
    "### Auctions as market mechanism\n",
    "\n",
    "In the current auction model, block producers typically select a set of the highest paying transactions, making sure that the total gas required by all transactions in the set does not exceed the limit amount of gas offered in a block. Users with selected transactions end up paying the gas price they specified, times the amount of gas their transaction required to be processed. Thus, users \"pay what they bid\": this is a first-price auction.\n",
    "\n",
    "In the following table, we assume the block gas limit is 1,000. Though there is a transaction (the last one) paying out 700 Gwei, the block producer cannot include it as it would break the gas limit and thus prefers to include the first, 720 Gwei-valued, transactions. Users pay exactly the fee stated in the column.\n",
    "\n",
    "| Transaction gas | Gas price (Gwei) | Total fee (Gwei) | Included? | Cumulative gas |\n",
    "|-|-|-|-|-|\n",
    "| 120 | 6 | 720 | Yes | 120 |\n",
    "| 200 | 5 | 1000 | Yes | 320 |\n",
    "| 700 | 1 | 700 | No | 320 |\n",
    "\n",
    "The first-price auction has many defects. In its simplest theoretical model, where users bid simultaneously and privately, it is a well-known result that first-price auction are not incentive-compatible, meaning that users do not have the incentive to bid their true value for the transaction being included. Second-price auctions are though, when the winner of the auction pays the bid offered by the second-highest bidder.\n",
    "\n",
    "So second-price auctions were considered as an alternative, but where we may hold Sotheby's accountable for manipulating the result of an auction, we can't quite always do that in the blockchain setting. Since block producers have the final say on who gets included or not, they can \"stuff\" the blocks with phony transactions from themselves to pump up the \"second price\", and thus trick the protocol into giving them more than what the market should offer while leaving honest fee-paying transactions by the curb ([this can be somewhat mitigated](https://arxiv.org/abs/1901.06830)).\n",
    "\n",
    "### Pricing congestion and EIP 1559\n",
    "\n",
    "Enters EIP 1559, written up in an [Ethereum improvement protocol (EIP) suggestion by Eric Conoar of EthHub fame and Buterin himself](https://eips.ethereum.org/EIPS/eip-1559). The proposal involves setting a variable _basefee_ to be paid by anyone who wishes to have a transaction included, with the base fee varying according to how empty or how full blocks are. The block limit is set to a fairly high value, while the EIP 1559 mechanism targets a fixed _block size_ ([the amount of gas spent by transactions in the block](https://ethgasstation.info/blog/ethereum-block-size/)).\n",
    "\n",
    "In dire times, when everyone is trying to upgrade their CryptoKitty or frantically closing out their debt positions, block sizes increase as more users are willing to pay the current basefee. In this case, the mechanism increases the basefee to price out users who just don't want it bad enough, returning block sizes to their fixed target. Alternatively, when the chain is an open empty road to nowhere, we would prefer to encourage users to send their transactions in for cheap, so basefee should be much lower.\n",
    "\n",
    "Under the auction market though, if a lot of people want to transact on the chain at the same time, the threshold bids making it into the blocks should steadily increase (and indeed, have done so in the past). Isn't that the same outcome as EIP 1559? Complicating things, we'll also see in our simulations that users can specify a \"tip\" paid out to the block producers, in addition to the basefee. A higher tip gets you to the end of the line faster, kind of like the auction mechanism does already. So why do we care about a mechanism seemingly not so different from the auction?\n",
    "\n",
    "| Basefee (burned) | Tip (paid to block producer) | Total fee |\n",
    "|-|-|-|\n",
    "| 4 | 1 | 5 |\n",
    "\n",
    "One clue is predictability. First-price auctions are notoriously hard to analyse even in the best of cases. It gets worse when bids are open (as they are to anyone who listens to the _mempool_ where user transactions languish before being included) and replaceable (as they are, though not so trivially, with transaction-replacement operations). There is hope that a more \"algorithmic\" price discovery mechanism will help remove this variability, even when demand fluctuates swiftly (we'll see some of that in the simulations below).\n",
    "\n",
    "Another clue is analytic simplicity. Pricing things, and especially congestion, in the most parsimonious manner is one object of algorithmic game theory, which is the study of mechanisms from the computational lens. We know from Pigou, Vickrey and a long line of economists that we usually like to _internalise externalities_, i.e., make people pay for not only what they are doing _for_ themselves, but also what they are doing _to_ others.\n",
    "\n",
    "When I am on the road in the morning, I impose my presence to everyone else also on the road, and vice-versa. This is why the most fundamental result in this corner of the discipline states that the correct price to pay for people cramming in some resource is exactly the _marginal price_: the price of the extra inconvenience for everyone else that your presence imposes. With first-price auctions, it is not clear that we ever get to that price. But a mechanism seeking to achieve some target (e.g., the amount of gas used by a block) and raising/lowering the price (e.g., the basefee) to meet that target gets much closer to this marginal price. And if that is simpler for us to analyse, that also means we get to predict a bit better how the mechanism will behave. Double whammy!\n",
    "\n",
    "But ok, after this long intro, let's dive into the mechanics of the... ahem... mechanism. We'll first set up a simple [cadCAD environment](https://github.com/BlockScience/cadCAD) and progressively add on to it to simulate more and more complex phenomena.\n",
    "\n",
    "## The environment\n",
    "\n",
    "First, we define a simple `Transaction` class, as these are the base element of our simulation. Users produce transactions, which are sent to block producers who must select which of these transactions to include. Under EIP 1559, users specify two things:\n",
    "\n",
    "- The _gas premium_, i.e., the \"tip\" to the block producers.\n",
    "- The _fee cap_, i.e., the highest gas price they are willing to pay.\n",
    "\n",
    "As before, users also specify a gas limit for their transaction. If the transaction ends up consuming more gas than the specified gas limit, it is reverted without changes to the chain."
   ]
  },
  {
   "cell_type": "code",
   "execution_count": 1,
   "metadata": {},
   "outputs": [],
   "source": [
    "import secrets\n",
    "\n",
    "class Transaction:\n",
    "    def __init__(self, gas_premium, fee_cap, gas_used):\n",
    "        self.gas_premium = gas_premium\n",
    "        self.fee_cap = fee_cap\n",
    "        self.gas_used = gas_used\n",
    "        self.tx_hash = secrets.token_bytes(8)\n",
    "        \n",
    "    def __lt__(self, other):\n",
    "        return self.gas_premium < other.gas_premium"
   ]
  },
  {
   "cell_type": "markdown",
   "metadata": {},
   "source": [
    "Second, we'll grab a few constants from the EIP, possibly looking to change them later on."
   ]
  },
  {
   "cell_type": "code",
   "execution_count": 2,
   "metadata": {},
   "outputs": [],
   "source": [
    "constants = {\n",
    "    \"BASEFEE_MAX_CHANGE_DENOMINATOR\": 8,\n",
    "    \"TARGET_GAS_USED\": 10000000,\n",
    "    \"MAX_GAS_EIP1559\": 16000000,\n",
    "    \"EIP1559_DECAY_RANGE\": 800000,\n",
    "    \"EIP1559_GAS_INCREMENT_AMOUNT\": 10,\n",
    "    \"INITIAL_BASEFEE\": 1 * (10 ** 9),\n",
    "    \"PER_TX_GASLIMIT\": 8000000\n",
    "\n",
    "}"
   ]
  },
  {
   "cell_type": "code",
   "execution_count": 39,
   "metadata": {},
   "outputs": [],
   "source": [
    "import time\n",
    "\n",
    "def end_loop(params, step, sL, s, _input):\n",
    "    print(\"loop time\", time.time() - s[\"loop_time\"])\n",
    "    return (\"loop_time\", time.time())"
   ]
  },
  {
   "cell_type": "markdown",
   "metadata": {},
   "source": [
    "Remember that we set up our cadCAD simulations as a repeating pattern of state updates and policies. For this simulation, here is our plan:\n",
    "\n",
    "1. **(State update)** `update_demand`: Users generate some demand, a list of transactions added to the mempool.\n",
    "2. **(Policy)** `include_all_txs`: We have more space to define what our policies are. For now, our block producers will include all transactions in the mempool inside their blocks (we'll make sure that the total amount of gas required won't exceed the gas limit in blocks).\n",
    "3. **(State update)** `update_basefee`: Given the included transaction, the protocol checks whether the basefee needs to be updated or not. We'll go deeper into how this update works later on, for now, simply keep in mind that the fee should decrease as our blocks won't be full.\n",
    "\n",
    "We represent the demand as a dictionary with keys given by the transaction hashes. This is efficient to remove from the demand transactions that were included, which we'll do in a later section."
   ]
  },
  {
   "cell_type": "code",
   "execution_count": 3,
   "metadata": {},
   "outputs": [],
   "source": [
    "# step 1\n",
    "def update_demand(params, step, sL, s, _input):\n",
    "    demand = {}\n",
    "    \n",
    "    for i in range(100):\n",
    "        tx = Transaction(\n",
    "            gas_premium = 1 * (10 ** 9),\n",
    "            gas_used = 21000,\n",
    "            fee_cap = 6 * (10 ** 9)\n",
    "        )\n",
    "        demand[tx.tx_hash] = tx\n",
    "    \n",
    "    return (\"demand\", demand)\n",
    "    \n",
    "# step 2\n",
    "def include_all_txs(params, step, sL, s):\n",
    "    demand = s[\"demand\"]\n",
    "    basefee = s[\"basefee\"]\n",
    "    miner_gains = 0\n",
    "    total_gas_used = 0\n",
    "    \n",
    "    for tx_hash, tx in demand.items():\n",
    "        gas_price = min([basefee + tx.gas_premium, tx.fee_cap])\n",
    "        miner_gains += (gas_price - basefee) * tx.gas_used\n",
    "        total_gas_used += tx.gas_used\n",
    "        \n",
    "    assert miner_gains >= 0\n",
    "    return ({ \"gas_used\": total_gas_used })\n",
    "   \n",
    "# step 3\n",
    "def update_basefee(params, step, sL, s, _input):\n",
    "    gas_used = _input[\"gas_used\"]\n",
    "    basefee = s[\"basefee\"]\n",
    "    \n",
    "    delta = gas_used - constants[\"TARGET_GAS_USED\"]\n",
    "    new_basefee = basefee + basefee * delta // constants[\"TARGET_GAS_USED\"] // constants[\"BASEFEE_MAX_CHANGE_DENOMINATOR\"]\n",
    "    \n",
    "    return (\"basefee\", new_basefee)\n",
    "\n",
    "psub = [{\n",
    "    \"policies\": {},\n",
    "    \"variables\": {\n",
    "        \"demand\": update_demand # step 1\n",
    "    }\n",
    "}, {\n",
    "    \"policies\": {\n",
    "        \"action\": include_all_txs # step 2\n",
    "    },\n",
    "    \"variables\": {\n",
    "        \"basefee\": update_basefee, # step 3\n",
    "        \"loop_time\": end_loop\n",
    "    }\n",
    "}]"
   ]
  },
  {
   "cell_type": "markdown",
   "metadata": {},
   "source": [
    "We set our initial conditions: an empty demand and basefee starting from the EIP-defined constant `INITIAL_BASEFEE`."
   ]
  },
  {
   "cell_type": "code",
   "execution_count": 4,
   "metadata": {},
   "outputs": [],
   "source": [
    "initial_conditions = {\n",
    "    \"basefee\": constants[\"INITIAL_BASEFEE\"],\n",
    "    \"demand\": {},\n",
    "    \"loop_time\": time.time()\n",
    "}"
   ]
  },
  {
   "cell_type": "markdown",
   "metadata": {},
   "source": [
    "Set up our simulation parameters: for now we will run the simulation for 300 steps (i.e., 300 blocks)."
   ]
  },
  {
   "cell_type": "code",
   "execution_count": 5,
   "metadata": {},
   "outputs": [],
   "source": [
    "simulation_parameters = {\n",
    "    'T': range(100),\n",
    "    'N': 1,\n",
    "    'M': {}\n",
    "}"
   ]
  },
  {
   "cell_type": "markdown",
   "metadata": {},
   "source": [
    "And finally set up and execute the simulation!"
   ]
  },
  {
   "cell_type": "code",
   "execution_count": 6,
   "metadata": {},
   "outputs": [],
   "source": [
    "%%capture\n",
    "\n",
    "from cadCAD.configuration import Configuration\n",
    "from cadCAD.engine import ExecutionMode, ExecutionContext, Executor\n",
    "import pandas as pd\n",
    "\n",
    "config = Configuration(initial_state=initial_conditions,\n",
    "                       partial_state_update_blocks=psub,\n",
    "                       sim_config=simulation_parameters\n",
    "                      )\n",
    "\n",
    "exec_mode = ExecutionMode()\n",
    "exec_context = ExecutionContext(exec_mode.single_proc)\n",
    "executor = Executor(exec_context, [config]) # Pass the configuration object inside an array\n",
    "raw_result, tensor = executor.execute() # The `execute()` method returns a tuple; its first elements contains the raw results\n",
    "df = pd.DataFrame(raw_result)"
   ]
  },
  {
   "cell_type": "markdown",
   "metadata": {},
   "source": [
    "OK! Our results are in `df`, so let's plot the `basefee` and see how that evolved."
   ]
  },
  {
   "cell_type": "code",
   "execution_count": 7,
   "metadata": {},
   "outputs": [
    {
     "data": {
      "text/plain": [
       "<matplotlib.axes._subplots.AxesSubplot at 0x124c8dbe0>"
      ]
     },
     "execution_count": 7,
     "metadata": {},
     "output_type": "execute_result"
    },
    {
     "data": {
      "image/png": "[encoded data removed]",
      "text/plain": [
       "<Figure size 432x288 with 1 Axes>"
      ]
     },
     "metadata": {
      "needs_background": "light"
     },
     "output_type": "display_data"
    }
   ],
   "source": [
    "df[df.substep == 1].plot('timestep', ['basefee'])"
   ]
  },
  {
   "cell_type": "markdown",
   "metadata": {},
   "source": [
    "Unsurprisingly, `basefee` decreases, in fact decreases quite fast to stabilise around just a few weis. We'll talk about the dynamics of basefee more when we dig into how the update is done.\n",
    "\n",
    "### Refining the demand\n",
    "\n",
    "Realistically though, our demand is not uniform at all. Some users will make a killing on Uniswap so would be happy to pay a high fee to have their transaction go through fast, while others are content to wait a bit longer should the entry price be too high. We'll refine the previous example a bit by adding some variability in the user transactions. We'll keep the gas used homogeneous, just to avoid solving complex set-packing problems."
   ]
  },
  {
   "cell_type": "code",
   "execution_count": 8,
   "metadata": {},
   "outputs": [],
   "source": [
    "from random import randint\n",
    "\n",
    "def update_demand_variable(params, step, sL, s, _input):\n",
    "    demand = {}\n",
    "    \n",
    "    for i in range(100):\n",
    "        gas_premium = randint(1, 10) * (10 ** 9)\n",
    "        fee_cap = gas_premium + randint(1, 10) * (10 ** 9)\n",
    "        tx = Transaction(\n",
    "            gas_premium = gas_premium,\n",
    "            gas_used = 21000,\n",
    "            fee_cap = fee_cap\n",
    "        )\n",
    "        demand[tx.tx_hash] = tx\n",
    "        \n",
    "    return (\"demand\", demand)"
   ]
  },
  {
   "cell_type": "markdown",
   "metadata": {},
   "source": [
    "Let's look into our demand a bit."
   ]
  },
  {
   "cell_type": "code",
   "execution_count": 9,
   "metadata": {},
   "outputs": [
    {
     "data": {
      "text/plain": [
       "array([[<matplotlib.axes._subplots.AxesSubplot object at 0x126eb1208>,\n",
       "        <matplotlib.axes._subplots.AxesSubplot object at 0x126f03048>]],\n",
       "      dtype=object)"
      ]
     },
     "execution_count": 9,
     "metadata": {},
     "output_type": "execute_result"
    },
    {
     "data": {
      "image/png": "[encoded data removed]",
      "text/plain": [
       "<Figure size 432x288 with 2 Axes>"
      ]
     },
     "metadata": {
      "needs_background": "light"
     },
     "output_type": "display_data"
    }
   ],
   "source": [
    "from math import sqrt\n",
    "\n",
    "def create_df_from_demand(demand):\n",
    "    gas_premium = pd.Series([tx.gas_premium for tx_hash, tx in demand.items()])\n",
    "    fee_cap = pd.Series([tx.fee_cap for tx_hash, tx in demand.items()])\n",
    "    return pd.DataFrame({ 'gas_premium': gas_premium, 'fee_cap': fee_cap })\n",
    "\n",
    "demand = {}\n",
    "    \n",
    "for i in range(100):\n",
    "    gas_premium = randint(1, 10) * (10 ** 9)\n",
    "    fee_cap = gas_premium + randint(1, 10) * (10 ** 9)\n",
    "    tx = Transaction(\n",
    "        gas_premium = gas_premium,\n",
    "        gas_used = 21000,\n",
    "        fee_cap = fee_cap\n",
    "    )\n",
    "    demand[tx.tx_hash] = tx\n",
    "    \n",
    "demand_df = create_df_from_demand(demand)\n",
    "demand_df.hist(bins = 10)"
   ]
  },
  {
   "cell_type": "markdown",
   "metadata": {},
   "source": [
    "The intuition behind these distributions is the following:\n",
    "\n",
    "- `gas_premium` is obtained by throwing a ten-sided dice.\n",
    "- To get `fee_cap`, we throw another ten-sided dice and add the result to the `gas_premium` we obtained.\n",
    "\n",
    "We should find that `gas_premium` is somewhat uniformly distributed over 1 to 10 Gwei, while `fee_cap` looks more like a normal distribution (high chance of getting average values ~ 10-11, low chances of getting extreme values).\n",
    "\n",
    "Since our average `fee_cap` will be close to 10 or 11 Gwei, let's start the `basefee` in our simulations to 10 Gwei. When a transaction sets its `fee_cap` lower than the prevailing `basefee`, it cannot be included in a block, since it is not willing to pay enough.\n",
    "\n",
    "This time, we'll create a `Block` class to record the history of transactions getting in."
   ]
  },
  {
   "cell_type": "code",
   "execution_count": 10,
   "metadata": {},
   "outputs": [],
   "source": [
    "class Block():\n",
    "    def __init__(self, txs):\n",
    "        self.txs = txs"
   ]
  },
  {
   "cell_type": "code",
   "execution_count": 11,
   "metadata": {},
   "outputs": [],
   "source": [
    "def is_valid(tx, basefee):\n",
    "    return tx.fee_cap >= basefee\n",
    "\n",
    "def include_valid_txs(params, step, sL, s):\n",
    "    demand = s[\"demand\"]\n",
    "    basefee = s[\"basefee\"]\n",
    "    miner_gains = 0\n",
    "    txs_included = []\n",
    "    \n",
    "    for tx_hash, tx in demand.items():\n",
    "        if not is_valid(tx, basefee):\n",
    "            continue\n",
    "            \n",
    "        gas_price = min([basefee + tx.gas_premium, tx.fee_cap])\n",
    "        miner_gains += (gas_price - basefee) * tx.gas_used\n",
    "        txs_included += [tx]\n",
    "        \n",
    "    assert miner_gains >= 0\n",
    "    return ({ \"block\": Block(txs = txs_included) })"
   ]
  },
  {
   "cell_type": "markdown",
   "metadata": {},
   "source": [
    "This means we need to change our last state update."
   ]
  },
  {
   "cell_type": "code",
   "execution_count": 12,
   "metadata": {},
   "outputs": [],
   "source": [
    "def update_basefee(params, step, sL, s, _input):\n",
    "    block = _input[\"block\"]\n",
    "    basefee = s[\"basefee\"]\n",
    "    \n",
    "    gas_used = sum([tx.gas_used for tx in block.txs])\n",
    "    delta = gas_used - constants[\"TARGET_GAS_USED\"]\n",
    "    new_basefee = basefee + basefee * delta // constants[\"TARGET_GAS_USED\"] // constants[\"BASEFEE_MAX_CHANGE_DENOMINATOR\"]\n",
    "    \n",
    "    return (\"basefee\", new_basefee)"
   ]
  },
  {
   "cell_type": "markdown",
   "metadata": {},
   "source": [
    "We'll also record the latest block in the state."
   ]
  },
  {
   "cell_type": "code",
   "execution_count": 13,
   "metadata": {},
   "outputs": [],
   "source": [
    "def record_latest_block(params, step, sL, s, _input):\n",
    "    block = _input[\"block\"]\n",
    "    \n",
    "    return (\"latest_block\", block)"
   ]
  },
  {
   "cell_type": "markdown",
   "metadata": {},
   "source": [
    " We'll assume for now that transactions which fail to get included just disappear, so a completely fresh new demand spawns for every block."
   ]
  },
  {
   "cell_type": "code",
   "execution_count": 14,
   "metadata": {},
   "outputs": [],
   "source": [
    "%%capture\n",
    "\n",
    "psub = [{\n",
    "    \"policies\": {},\n",
    "    \"variables\": {\n",
    "        \"demand\": update_demand_variable # step 1\n",
    "    }\n",
    "}, {\n",
    "    \"policies\": {\n",
    "        \"action\": include_valid_txs # step 2\n",
    "    },\n",
    "    \"variables\": {\n",
    "        \"basefee\": update_basefee, # step 3\n",
    "        \"latest_block\": record_latest_block\n",
    "    }\n",
    "}]\n",
    "\n",
    "initial_conditions = {\n",
    "    \"basefee\": 10 * (10 ** 9),\n",
    "    \"demand\": {},\n",
    "    \"latest_block\": Block(txs=[])\n",
    "}\n",
    "\n",
    "simulation_parameters = {\n",
    "    'T': range(100),\n",
    "    'N': 1,\n",
    "    'M': {}\n",
    "}\n",
    "\n",
    "config = Configuration(initial_state=initial_conditions,\n",
    "                       partial_state_update_blocks=psub,\n",
    "                       sim_config=simulation_parameters\n",
    "                      )\n",
    "\n",
    "exec_mode = ExecutionMode()\n",
    "exec_context = ExecutionContext(exec_mode.single_proc)\n",
    "executor = Executor(exec_context, [config]) # Pass the configuration object inside an array\n",
    "raw_result, tensor = executor.execute() # The `execute()` method returns a tuple; its first elements contains the raw results\n",
    "df = pd.DataFrame(raw_result)"
   ]
  },
  {
   "cell_type": "markdown",
   "metadata": {},
   "source": [
    "Let's check how the basefee evolves."
   ]
  },
  {
   "cell_type": "code",
   "execution_count": 15,
   "metadata": {},
   "outputs": [
    {
     "data": {
      "text/plain": [
       "<matplotlib.axes._subplots.AxesSubplot at 0x126fb8908>"
      ]
     },
     "execution_count": 15,
     "metadata": {},
     "output_type": "execute_result"
    },
    {
     "data": {
      "image/png": "[encoded data removed]",
      "text/plain": [
       "<Figure size 432x288 with 1 Axes>"
      ]
     },
     "metadata": {
      "needs_background": "light"
     },
     "output_type": "display_data"
    }
   ],
   "source": [
    "df[df.substep == 1].plot('timestep', ['basefee'])"
   ]
  },
  {
   "cell_type": "markdown",
   "metadata": {},
   "source": [
    "As before, the basefee starts from high and progressively decreases, since blocks are not quite meeting their gas target. Let's see how many transactions get in each block."
   ]
  },
  {
   "cell_type": "code",
   "execution_count": 16,
   "metadata": {},
   "outputs": [
    {
     "data": {
      "text/plain": [
       "<matplotlib.axes._subplots.AxesSubplot at 0x123a77550>"
      ]
     },
     "execution_count": 16,
     "metadata": {},
     "output_type": "execute_result"
    },
    {
     "data": {
      "image/png": "[encoded data removed]",
      "text/plain": [
       "<Figure size 432x288 with 1 Axes>"
      ]
     },
     "metadata": {
      "needs_background": "light"
     },
     "output_type": "display_data"
    }
   ],
   "source": [
    "df[\"txs_per_block\"] = df.latest_block.apply(\n",
    "    lambda block: len(block.txs)\n",
    ")\n",
    "df[(df.timestep > 1) & (df.substep == 1)].plot(\"timestep\", \"txs_per_block\")"
   ]
  },
  {
   "cell_type": "markdown",
   "metadata": {},
   "source": [
    "The randomness is due to how we sample a new demand each step, but the trend is clear: as the basefee decreases, more and more transactions get in!"
   ]
  },
  {
   "cell_type": "markdown",
   "metadata": {},
   "source": [
    "### Pricing out\n",
    "\n",
    "So far we've only seen examples of a gas supply far in excess of the demand. Let's now see how the mechanism reacts when too many transactions are trying to get in.\n",
    "\n",
    "There are tradeoffs for block producers when including transactions. The heavier the block (as in, the more transactions included), the greater the time for this block to be broadcasted over the P2P network of producers. This may not be such a problem in the eth2 instantiation of Proof-of-Stake, where your slot is \"reserved\" (see for instance our [_Beacon Runner_](https://github.com/ethereum/rig/blob/master/eth2economics/code/beaconrunner/beacon_runner.ipynb)) but in usual Proof-of-Work-backed consensus algorithms, being late to broadcast your block could mean that someone else was able to broadcast theirs, in which case your block won't be included in the canonical chain. This issue is mitigated by Ethereum's ommer mechanism in eth1.\n",
    "\n",
    "We'll make an assumption here that block producers would allow their blocks to contain 20% over the gas target. That target being set currently at 10M in our `constants`, this means producers would allow blocks with 12M used gas. In practice, the size of the block (in bytes) is not in perfect relationship with the amount of gas used by the block, having more to do with the transaction size (in bytes). But since all our transactions are homogeneous, each using 21K gas, we can circumvent this issue. So blocks in the next simulation may feature up to 12M / 21K = 571 transactions (let's keep 570), while targeting 476 transactions (10M / 21K). Let's update our demand to reflect that, spawning 10,000 transactions each step."
   ]
  },
  {
   "cell_type": "code",
   "execution_count": 17,
   "metadata": {},
   "outputs": [],
   "source": [
    "from random import uniform\n",
    "\n",
    "def update_demand_variable(params, step, sL, s, _input):\n",
    "    demand = {}\n",
    "    \n",
    "    for i in range(10000):\n",
    "        gas_premium = uniform(1, 11) * (10 ** 9)\n",
    "        fee_cap = gas_premium + uniform(1, 11) * (10 ** 9)\n",
    "        tx = Transaction(\n",
    "            gas_premium = gas_premium,\n",
    "            gas_used = 21000,\n",
    "            fee_cap = fee_cap\n",
    "        )\n",
    "        demand[tx.tx_hash] = tx\n",
    "        \n",
    "    return (\"demand\", demand)"
   ]
  },
  {
   "cell_type": "markdown",
   "metadata": {},
   "source": [
    "Now block producers must choose which transactions to include. We'll rank transactions in order of their (decreasing) gas premium, since this is the bounty producers are getting out them."
   ]
  },
  {
   "cell_type": "code",
   "execution_count": 18,
   "metadata": {},
   "outputs": [],
   "source": [
    "import time\n",
    "\n",
    "def include_valid_txs(params, step, sL, s):\n",
    "    demand = s[\"demand\"]\n",
    "    basefee = s[\"basefee\"]\n",
    "    timestep = s[\"timestep\"]\n",
    "    \n",
    "    start = time.time()\n",
    "    sorted_valid_demand = sorted([tx for tx_hash, tx in demand.items() if is_valid(tx, basefee)], key = lambda tx: -tx.gas_premium)\n",
    "    included_transactions = sorted_valid_demand[0:570]\n",
    "    print(\"step =\", timestep, \", mempool size =\", len(demand), \", time to sort\", time.time() - start)\n",
    "    \n",
    "    return ({ \"block\": Block(txs = included_transactions) })"
   ]
  },
  {
   "cell_type": "markdown",
   "metadata": {},
   "source": [
    "Simulate it..."
   ]
  },
  {
   "cell_type": "code",
   "execution_count": 19,
   "metadata": {},
   "outputs": [],
   "source": [
    "%%capture\n",
    "psub = [{\n",
    "    \"policies\": {},\n",
    "    \"variables\": {\n",
    "        \"demand\": update_demand_variable # step 1\n",
    "    }\n",
    "}, {\n",
    "    \"policies\": {\n",
    "        \"action\": include_valid_txs # step 2\n",
    "    },\n",
    "    \"variables\": {\n",
    "        \"basefee\": update_basefee, # step 3\n",
    "        \"latest_block\": record_latest_block # bonus step\n",
    "    }\n",
    "}]\n",
    "\n",
    "initial_conditions = {\n",
    "    \"basefee\": 10 * (10 ** 9),\n",
    "    \"demand\": {},\n",
    "    \"latest_block\": Block(txs=[])\n",
    "}\n",
    "\n",
    "simulation_parameters = {\n",
    "    'T': range(50),\n",
    "    'N': 1,\n",
    "    'M': {}\n",
    "}\n",
    "\n",
    "config = Configuration(initial_state=initial_conditions,\n",
    "                       partial_state_update_blocks=psub,\n",
    "                       sim_config=simulation_parameters\n",
    "                      )\n",
    "\n",
    "exec_mode = ExecutionMode()\n",
    "exec_context = ExecutionContext(exec_mode.single_proc)\n",
    "executor = Executor(exec_context, [config]) # Pass the configuration object inside an array\n",
    "raw_result, tensor = executor.execute() # The `execute()` method returns a tuple; its first elements contains the raw results\n",
    "df = pd.DataFrame(raw_result)"
   ]
  },
  {
   "cell_type": "markdown",
   "metadata": {},
   "source": [
    "Let's plot the basefee."
   ]
  },
  {
   "cell_type": "code",
   "execution_count": 20,
   "metadata": {},
   "outputs": [
    {
     "data": {
      "text/plain": [
       "<matplotlib.axes._subplots.AxesSubplot at 0x130e070f0>"
      ]
     },
     "execution_count": 20,
     "metadata": {},
     "output_type": "execute_result"
    },
    {
     "data": {
      "image/png": "[encoded data removed]",
      "text/plain": [
       "<Figure size 432x288 with 1 Axes>"
      ]
     },
     "metadata": {
      "needs_background": "light"
     },
     "output_type": "display_data"
    }
   ],
   "source": [
    "df[df.substep == 1].plot('timestep', ['basefee'])"
   ]
  },
  {
   "cell_type": "markdown",
   "metadata": {},
   "source": [
    "Is that Mt. Fuji? Basefee stabilises around 19 Gwei, with oscillations due to the randomness of our demand. We can see why by inspecting how many valid transactions don't make it in the block."
   ]
  },
  {
   "cell_type": "markdown",
   "metadata": {},
   "source": [
    "Since we generate 10,000 transactions for each block with uniform distribution between 1 and 11 for `gas_premium`, we should expect (in the probabilistic sense) that our 476 most juiciest transactions (measured by `gas_premium`) will have a `gas_premium` of at least 10.524 Gwei. On the other hand, block producers must make sure that the `fee_cap` is enough to cover the `basefee`, so they can't be too picky either and might have to choose transactions that have a high enough `fee_cap`, regardless of their `gas_premium`. Over time then, the average premium decreases, as seen in the following plot:"
   ]
  },
  {
   "cell_type": "code",
   "execution_count": 21,
   "metadata": {},
   "outputs": [
    {
     "data": {
      "text/plain": [
       "<matplotlib.axes._subplots.AxesSubplot at 0x127128080>"
      ]
     },
     "execution_count": 21,
     "metadata": {},
     "output_type": "execute_result"
    },
    {
     "data": {
      "image/png": "[encoded data removed]",
      "text/plain": [
       "<Figure size 432x288 with 1 Axes>"
      ]
     },
     "metadata": {
      "needs_background": "light"
     },
     "output_type": "display_data"
    }
   ],
   "source": [
    "df[\"average_premium\"] = df.latest_block.apply(\n",
    "    lambda block: 0 if len(block.txs) == 0 else float(sum([tx.gas_premium for tx in block.txs])) / len(block.txs)\n",
    ")\n",
    "df[(df.timestep > 1) & (df.substep == 1)].plot(\"timestep\", \"average_premium\")"
   ]
  },
  {
   "cell_type": "markdown",
   "metadata": {},
   "source": [
    "Let's check the percentage of _valid_ transactions (i.e., `tx.fee_cap > basefee`) which are not included in the block."
   ]
  },
  {
   "cell_type": "code",
   "execution_count": 22,
   "metadata": {},
   "outputs": [],
   "source": [
    "df[\"previous_basefee\"] = df.basefee.shift(1)\n",
    "df[\"txs_per_block\"] = df.latest_block.apply(\n",
    "    lambda block: len(block.txs)\n",
    ")\n",
    "df[\"valid_transactions\"] = df.apply(\n",
    "    lambda row: len([tx for tx_hash, tx in row.demand.items() if is_valid(tx, row.previous_basefee)]), axis=1\n",
    ")\n",
    "df[\"fraction_priced_out\"] = df.apply(\n",
    "    lambda row: 0 if row.valid_transactions == 0 else (1 - float(row.txs_per_block) / float(row.valid_transactions)) * 100, axis=1\n",
    ")"
   ]
  },
  {
   "cell_type": "code",
   "execution_count": 23,
   "metadata": {},
   "outputs": [
    {
     "data": {
      "text/plain": [
       "<matplotlib.axes._subplots.AxesSubplot at 0x12706a630>"
      ]
     },
     "execution_count": 23,
     "metadata": {},
     "output_type": "execute_result"
    },
    {
     "data": {
      "image/png": "[encoded data removed]",
      "text/plain": [
       "<Figure size 432x288 with 1 Axes>"
      ]
     },
     "metadata": {
      "needs_background": "light"
     },
     "output_type": "display_data"
    }
   ],
   "source": [
    "df[(df.timestep > 1) & (df.substep == 2)].plot(\"timestep\", \"fraction_priced_out\")"
   ]
  },
  {
   "cell_type": "markdown",
   "metadata": {},
   "source": [
    "That number goes to zero pretty fast, since basefee increases and more and more transactions become invalid. How about the gas used by the blocks?"
   ]
  },
  {
   "cell_type": "code",
   "execution_count": 24,
   "metadata": {},
   "outputs": [
    {
     "data": {
      "text/plain": [
       "<matplotlib.axes._subplots.AxesSubplot at 0x12705ce80>"
      ]
     },
     "execution_count": 24,
     "metadata": {},
     "output_type": "execute_result"
    },
    {
     "data": {
      "image/png": "[encoded data removed]",
      "text/plain": [
       "<Figure size 432x288 with 1 Axes>"
      ]
     },
     "metadata": {
      "needs_background": "light"
     },
     "output_type": "display_data"
    }
   ],
   "source": [
    "df[\"gas_per_block\"] = df.latest_block.apply(\n",
    "    lambda block: sum([tx.gas_used for tx in block.txs])\n",
    ")\n",
    "df[(df.timestep > 1) & (df.substep == 2)].plot(\"timestep\", \"gas_per_block\")"
   ]
  },
  {
   "cell_type": "markdown",
   "metadata": {},
   "source": [
    "We get close to 10M gas per block around the 20th block, which is the target we had set. Victory!"
   ]
  },
  {
   "cell_type": "markdown",
   "metadata": {},
   "source": [
    "### Bottomless pit\n",
    "\n",
    "When a full block is produced, transactions that were not included do not suddenly disappear. Instead, the mempool fills up with unincluded transactions. It is time to add a bit of memory to our leaky mempool.\n",
    "\n",
    "Now we might want to be a bit careful since two things can happen:\n",
    "\n",
    "- **All transactions are included always.** That's not very interesting. We would like to observe the effects over time of congestion, so we should once in a while have a greater demand than we have supply.\n",
    "- **New transactions always exceed supply.** That's no good either, and our model would quickly blow up. Unless we introduce some kind of staling, our mempool would soon be overloaded.\n",
    "\n",
    "We try to settle for some middle ground, where in some steps we have more transactions coming in than a block can fit, and in others the demand is not too consequential, allowing blocks to catch up with older transactions.\n",
    "\n",
    "We'll keep again transactions at a fixed size of 21,000 gas, but will introduce a new object to our simulation, the _scenario_. It is a simple array that contains at index $t$ the number of transactions coming in at time $t$ of our simulation. Since we are aiming for a block size of 10M gas, and we have seen that we can fit 476 transactions asking for 21,000 gas in one block, the values in our scenario will oscillate around 476 --- sometimes more, sometimes less."
   ]
  },
  {
   "cell_type": "code",
   "execution_count": 25,
   "metadata": {},
   "outputs": [
    {
     "data": {
      "text/plain": [
       "<matplotlib.axes._subplots.AxesSubplot at 0x1374e5978>"
      ]
     },
     "execution_count": 25,
     "metadata": {},
     "output_type": "execute_result"
    },
    {
     "data": {
      "image/png": "[encoded data removed]",
      "text/plain": [
       "<Figure size 432x288 with 1 Axes>"
      ]
     },
     "metadata": {
      "needs_background": "light"
     },
     "output_type": "display_data"
    }
   ],
   "source": [
    "from math import sin, pi\n",
    "\n",
    "timesteps = 300\n",
    "\n",
    "def generate_oscillating_scenario(timesteps):\n",
    "    return [int(400 + 200 * sin(i * pi / 16.0)) for i in range(timesteps)]\n",
    "\n",
    "tx_scenario = generate_oscillating_scenario(timesteps)\n",
    "pd.DataFrame({ \"txs\": tx_scenario, \"producer_limit\": 570, \"target_gas\": 476 }).plot()"
   ]
  },
  {
   "cell_type": "code",
   "execution_count": 26,
   "metadata": {},
   "outputs": [],
   "source": [
    "def update_demand_scenario(params, step, sL, s, _input):\n",
    "    timestep = s[\"timestep\"]\n",
    "    demand = s[\"demand\"]\n",
    "    tx_scenario = s[\"scenario\"]\n",
    "    \n",
    "    start = time.time()\n",
    "    for i in range(tx_scenario[timestep]):\n",
    "        gas_premium = uniform(1, 11) * (10 ** 9)\n",
    "        fee_cap = gas_premium + uniform(1, 11) * (10 ** 9)\n",
    "        tx = Transaction(\n",
    "            gas_premium = gas_premium,\n",
    "            gas_used = 21000,\n",
    "            fee_cap = fee_cap\n",
    "        )\n",
    "        demand[tx.tx_hash] = tx\n",
    "    print(\"update demand\", time.time() - start)\n",
    "        \n",
    "    return (\"demand\", demand)"
   ]
  },
  {
   "cell_type": "code",
   "execution_count": 27,
   "metadata": {},
   "outputs": [],
   "source": [
    "def remove_included_txs(params, step, sL, s, _input):\n",
    "    demand = s[\"demand\"]\n",
    "    latest_block = _input[\"block\"]\n",
    "    \n",
    "    for tx in latest_block.txs:\n",
    "        del(demand[tx.tx_hash])\n",
    "\n",
    "    return (\"demand\", demand)"
   ]
  },
  {
   "cell_type": "code",
   "execution_count": 28,
   "metadata": {},
   "outputs": [],
   "source": [
    "%%capture\n",
    "psub = [{\n",
    "    \"policies\": {},\n",
    "    \"variables\": {\n",
    "        \"demand\": update_demand_scenario\n",
    "    }\n",
    "}, {\n",
    "    \"policies\": {\n",
    "        \"action\": include_valid_txs # step 2\n",
    "    },\n",
    "    \"variables\": {\n",
    "        \"demand\": remove_included_txs, # step 5\n",
    "        \"basefee\": update_basefee, # step 3\n",
    "        \"latest_block\": record_latest_block # step 4\n",
    "    }\n",
    "}]\n",
    "\n",
    "initial_conditions = {\n",
    "    \"scenario\": tx_scenario,\n",
    "    \"basefee\": 5 * (10 ** 9),\n",
    "    \"demand\": {},\n",
    "    \"latest_block\": Block(txs=[])\n",
    "}\n",
    "\n",
    "simulation_parameters = {\n",
    "    'T': range(timesteps),\n",
    "    'N': 1,\n",
    "    'M': {}\n",
    "}\n",
    "\n",
    "config = Configuration(initial_state=initial_conditions,\n",
    "                       partial_state_update_blocks=psub,\n",
    "                       sim_config=simulation_parameters\n",
    "                      )\n",
    "\n",
    "exec_mode = ExecutionMode()\n",
    "exec_context = ExecutionContext(exec_mode.single_proc)\n",
    "executor = Executor(exec_context, [config]) # Pass the configuration object inside an array\n",
    "raw_result, tensor = executor.execute() # The `execute()` method returns a tuple; its first elements contains the raw results\n",
    "df = pd.DataFrame(raw_result)"
   ]
  },
  {
   "cell_type": "code",
   "execution_count": 29,
   "metadata": {},
   "outputs": [
    {
     "data": {
      "text/plain": [
       "<matplotlib.axes._subplots.AxesSubplot at 0x1270bab70>"
      ]
     },
     "execution_count": 29,
     "metadata": {},
     "output_type": "execute_result"
    },
    {
     "data": {
      "image/png": "[encoded data removed]",
      "text/plain": [
       "<Figure size 432x288 with 1 Axes>"
      ]
     },
     "metadata": {
      "needs_background": "light"
     },
     "output_type": "display_data"
    }
   ],
   "source": [
    "df[df.substep == 1].plot(\"timestep\", \"basefee\")"
   ]
  },
  {
   "cell_type": "code",
   "execution_count": 30,
   "metadata": {},
   "outputs": [
    {
     "data": {
      "text/plain": [
       "<matplotlib.axes._subplots.AxesSubplot at 0x1274b8278>"
      ]
     },
     "execution_count": 30,
     "metadata": {},
     "output_type": "execute_result"
    },
    {
     "data": {
      "image/png": "[encoded data removed]",
      "text/plain": [
       "<Figure size 432x288 with 1 Axes>"
      ]
     },
     "metadata": {
      "needs_background": "light"
     },
     "output_type": "display_data"
    }
   ],
   "source": [
    "df[\"mempool_size\"] = df.demand.apply(\n",
    "    lambda demand: len(demand)\n",
    ")\n",
    "df[df.substep == 1].plot(\"timestep\", \"mempool_size\")"
   ]
  },
  {
   "cell_type": "code",
   "execution_count": 31,
   "metadata": {},
   "outputs": [
    {
     "data": {
      "text/plain": [
       "<matplotlib.axes._subplots.AxesSubplot at 0x13602dda0>"
      ]
     },
     "execution_count": 31,
     "metadata": {},
     "output_type": "execute_result"
    },
    {
     "data": {
      "image/png": "[encoded data removed]",
      "text/plain": [
       "<Figure size 432x288 with 1 Axes>"
      ]
     },
     "metadata": {
      "needs_background": "light"
     },
     "output_type": "display_data"
    }
   ],
   "source": [
    "df[\"included_txs\"] = df.latest_block.apply(\n",
    "    lambda block: len(block.txs)\n",
    ")\n",
    "df[(df.timestep > 0) & (df.substep == 1)].plot(\"timestep\", \"included_txs\")"
   ]
  },
  {
   "cell_type": "markdown",
   "metadata": {},
   "source": [
    "### Spikes\n",
    "\n",
    "Tron 2: Legacy decides to ICO on Ethereum and everyone wants in!"
   ]
  },
  {
   "cell_type": "code",
   "execution_count": 32,
   "metadata": {},
   "outputs": [
    {
     "data": {
      "text/plain": [
       "<matplotlib.axes._subplots.AxesSubplot at 0x132b2e0b8>"
      ]
     },
     "execution_count": 32,
     "metadata": {},
     "output_type": "execute_result"
    },
    {
     "data": {
      "image/png": "[encoded data removed]",
      "text/plain": [
       "<Figure size 432x288 with 1 Axes>"
      ]
     },
     "metadata": {
      "needs_background": "light"
     },
     "output_type": "display_data"
    }
   ],
   "source": [
    "from math import pow, exp\n",
    "\n",
    "timesteps = 300\n",
    "\n",
    "def generate_spike_scenario(timesteps):\n",
    "    spikey_boi = timesteps // 8\n",
    "    return [int(10000 * exp(-pow(i - spikey_boi, 2)/16.0)) for i in range(timesteps)]\n",
    "\n",
    "tx_scenario = generate_spike_scenario(timesteps)\n",
    "pd.DataFrame({ \"txs\": tx_scenario, \"producer_limit\": 570, \"target_gas\": 476 }).plot()"
   ]
  },
  {
   "cell_type": "code",
   "execution_count": 38,
   "metadata": {},
   "outputs": [
    {
     "name": "stdout",
     "output_type": "stream",
     "text": [
      "\n",
      "                            __________   ____ \n",
      "          ________ __ _____/ ____/   |  / __ \\\n",
      "         / ___/ __` / __  / /   / /| | / / / /\n",
      "        / /__/ /_/ / /_/ / /___/ ___ |/ /_/ / \n",
      "        \\___/\\__,_/\\__,_/\\____/_/  |_/_____/  \n",
      "        by BlockScience\n",
      "        \n",
      "Execution Mode: single_proc: [<cadCAD.configuration.Configuration object at 0x13ae51160>]\n",
      "Configurations: [<cadCAD.configuration.Configuration object at 0x13ae51160>]\n",
      "update demand 2.1457672119140625e-06\n",
      "step = 1 , mempool size = 0 , time to sort 4.696846008300781e-05\n",
      "loop time 0.0371549129486084\n",
      "update demand 2.1457672119140625e-06\n",
      "step = 2 , mempool size = 0 , time to sort 3.0994415283203125e-06\n",
      "loop time 0.0015459060668945312\n",
      "update demand 1.1920928955078125e-06\n",
      "step = 3 , mempool size = 0 , time to sort 3.0994415283203125e-06\n",
      "loop time 0.0013899803161621094\n",
      "update demand 9.5367431640625e-07\n",
      "step = 4 , mempool size = 0 , time to sort 2.86102294921875e-06\n",
      "loop time 0.0014979839324951172\n",
      "update demand 9.5367431640625e-07\n",
      "step = 5 , mempool size = 0 , time to sort 3.0994415283203125e-06\n",
      "loop time 0.0015308856964111328\n",
      "update demand 9.5367431640625e-07\n",
      "step = 6 , mempool size = 0 , time to sort 3.0994415283203125e-06\n",
      "loop time 0.00144195556640625\n",
      "update demand 9.5367431640625e-07\n",
      "step = 7 , mempool size = 0 , time to sort 3.0994415283203125e-06\n",
      "loop time 0.0013921260833740234\n",
      "update demand 1.1920928955078125e-06\n",
      "step = 8 , mempool size = 0 , time to sort 1.9073486328125e-06\n",
      "loop time 0.001470804214477539\n",
      "update demand 9.5367431640625e-07\n",
      "step = 9 , mempool size = 0 , time to sort 2.86102294921875e-06\n",
      "loop time 0.00133514404296875\n",
      "update demand 9.5367431640625e-07\n",
      "step = 10 , mempool size = 0 , time to sort 3.0994415283203125e-06\n",
      "loop time 0.0015301704406738281\n",
      "update demand 9.5367431640625e-07\n",
      "step = 11 , mempool size = 0 , time to sort 3.0994415283203125e-06\n",
      "loop time 0.0014221668243408203\n",
      "update demand 9.5367431640625e-07\n",
      "step = 12 , mempool size = 0 , time to sort 1.9073486328125e-06\n",
      "loop time 0.00145721435546875\n",
      "update demand 1.9073486328125e-06\n",
      "step = 13 , mempool size = 0 , time to sort 3.0994415283203125e-06\n",
      "loop time 0.0016570091247558594\n",
      "update demand 2.1457672119140625e-06\n",
      "step = 14 , mempool size = 0 , time to sort 3.814697265625e-06\n",
      "loop time 0.0015096664428710938\n",
      "update demand 1.9073486328125e-06\n",
      "step = 15 , mempool size = 0 , time to sort 4.291534423828125e-06\n",
      "loop time 0.0014090538024902344\n",
      "update demand 2.1457672119140625e-06\n",
      "step = 16 , mempool size = 0 , time to sort 2.86102294921875e-06\n",
      "loop time 0.0013897418975830078\n",
      "update demand 1.1920928955078125e-06\n",
      "step = 17 , mempool size = 0 , time to sort 4.76837158203125e-06\n",
      "loop time 0.0015492439270019531\n",
      "update demand 9.5367431640625e-07\n",
      "step = 18 , mempool size = 0 , time to sort 4.0531158447265625e-06\n",
      "loop time 0.001584768295288086\n",
      "update demand 2.1457672119140625e-06\n",
      "step = 19 , mempool size = 0 , time to sort 3.814697265625e-06\n",
      "loop time 0.001600027084350586\n",
      "update demand 1.9073486328125e-06\n",
      "step = 20 , mempool size = 0 , time to sort 4.291534423828125e-06\n",
      "loop time 0.0016040802001953125\n",
      "update demand 2.1457672119140625e-06\n",
      "step = 21 , mempool size = 0 , time to sort 4.0531158447265625e-06\n",
      "loop time 0.0018029212951660156\n",
      "update demand 9.5367431640625e-07\n",
      "step = 22 , mempool size = 0 , time to sort 3.0994415283203125e-06\n",
      "loop time 0.0014760494232177734\n",
      "update demand 1.9073486328125e-06\n",
      "step = 23 , mempool size = 0 , time to sort 4.0531158447265625e-06\n",
      "loop time 0.0014951229095458984\n",
      "update demand 9.5367431640625e-07\n",
      "step = 24 , mempool size = 0 , time to sort 2.86102294921875e-06\n",
      "loop time 0.0014767646789550781\n",
      "update demand 1.1920928955078125e-06\n",
      "step = 25 , mempool size = 0 , time to sort 2.86102294921875e-06\n",
      "loop time 0.0014400482177734375\n",
      "update demand 0.00024700164794921875\n",
      "step = 26 , mempool size = 1 , time to sort 1.5020370483398438e-05\n",
      "loop time 0.0016932487487792969\n",
      "update demand 0.00026679039001464844\n",
      "step = 27 , mempool size = 5 , time to sort 5.9604644775390625e-06\n",
      "loop time 0.0017766952514648438\n",
      "update demand 0.0006000995635986328\n",
      "step = 28 , mempool size = 19 , time to sort 1.811981201171875e-05\n",
      "loop time 0.0024938583374023438\n",
      "update demand 0.0021820068359375\n",
      "step = 29 , mempool size = 63 , time to sort 2.9802322387695312e-05\n",
      "loop time 0.005653858184814453\n",
      "update demand 0.0050199031829833984\n",
      "step = 30 , mempool size = 183 , time to sort 8.0108642578125e-05\n",
      "loop time 0.011899948120117188\n",
      "update demand 0.018938779830932617\n",
      "step = 31 , mempool size = 467 , time to sort 0.0002269744873046875\n",
      "loop time 0.037892818450927734\n",
      "update demand 0.027261972427368164\n",
      "step = 32 , mempool size = 1053 , time to sort 0.00043511390686035156\n",
      "loop time 0.06814217567443848\n",
      "update demand 0.00855112075805664\n",
      "step = 33 , mempool size = 2579 , time to sort 0.0016238689422607422\n",
      "loop time 0.08680605888366699\n",
      "update demand 0.013326883316040039\n",
      "step = 34 , mempool size = 5687 , time to sort 0.002346038818359375\n",
      "loop time 0.19049310684204102\n",
      "update demand 0.02599811553955078\n",
      "step = 35 , mempool size = 10814 , time to sort 0.0054662227630615234\n",
      "loop time 0.39394402503967285\n",
      "update demand 0.037113189697265625\n",
      "step = 36 , mempool size = 18032 , time to sort 0.0070798397064208984\n",
      "loop time 0.6374242305755615\n",
      "update demand 0.03728914260864258\n",
      "step = 37 , mempool size = 26856 , time to sort 0.013363838195800781\n",
      "loop time 0.9440579414367676\n",
      "update demand 0.04099583625793457\n",
      "step = 38 , mempool size = 36286 , time to sort 0.02112412452697754\n",
      "loop time 1.4304320812225342\n",
      "update demand 0.04352307319641113\n",
      "step = 39 , mempool size = 45110 , time to sort 0.02356100082397461\n",
      "loop time 1.8945221900939941\n",
      "update demand 0.0379338264465332\n",
      "step = 40 , mempool size = 52328 , time to sort 0.03261113166809082\n",
      "loop time 2.152756929397583\n",
      "update demand 0.024533987045288086\n",
      "step = 41 , mempool size = 57455 , time to sort 0.0365138053894043\n",
      "loop time 2.399336814880371\n",
      "update demand 0.015573978424072266\n",
      "step = 42 , mempool size = 60563 , time to sort 0.03900599479675293\n",
      "loop time 2.6339759826660156\n",
      "update demand 0.009689092636108398\n",
      "step = 43 , mempool size = 62089 , time to sort 0.0453488826751709\n",
      "loop time 2.917581081390381\n",
      "update demand 0.0045392513275146484\n",
      "step = 44 , mempool size = 62572 , time to sort 0.03957414627075195\n",
      "loop time 4.399900197982788\n",
      "update demand 0.0020401477813720703\n",
      "step = 45 , mempool size = 62469 , time to sort 0.04124808311462402\n",
      "loop time 2.7806849479675293\n",
      "update demand 0.000759124755859375\n",
      "step = 46 , mempool size = 62082 , time to sort 0.04505300521850586\n",
      "loop time 2.7571098804473877\n",
      "update demand 0.0002701282501220703\n",
      "step = 47 , mempool size = 61575 , time to sort 0.04310894012451172\n",
      "loop time 3.005086898803711\n",
      "update demand 0.00010776519775390625\n",
      "step = 48 , mempool size = 61024 , time to sort 0.04013228416442871\n",
      "loop time 2.8180830478668213\n",
      "update demand 5.1975250244140625e-05\n",
      "step = 49 , mempool size = 60459 , time to sort 0.04419898986816406\n",
      "loop time 2.9127228260040283\n",
      "update demand 2.9087066650390625e-05\n",
      "step = 50 , mempool size = 59890 , time to sort 0.041306257247924805\n",
      "loop time 2.775761842727661\n",
      "update demand 3.0994415283203125e-06\n",
      "step = 51 , mempool size = 59320 , time to sort 0.03841900825500488\n",
      "loop time 2.677354097366333\n",
      "update demand 2.1457672119140625e-06\n",
      "step = 52 , mempool size = 58750 , time to sort 0.03838205337524414\n",
      "loop time 2.9352214336395264\n",
      "update demand 2.1457672119140625e-06\n",
      "step = 53 , mempool size = 58180 , time to sort 0.03952598571777344\n",
      "loop time 2.686716079711914\n",
      "update demand 3.0994415283203125e-06\n",
      "step = 54 , mempool size = 57610 , time to sort 0.03535199165344238\n",
      "loop time 4.329957008361816\n",
      "update demand 3.0994415283203125e-06\n",
      "step = 55 , mempool size = 57040 , time to sort 0.0382847785949707\n",
      "loop time 2.711095094680786\n",
      "update demand 1.9073486328125e-06\n",
      "step = 56 , mempool size = 56470 , time to sort 0.038075923919677734\n",
      "loop time 2.5689821243286133\n",
      "update demand 1.9073486328125e-06\n",
      "step = 57 , mempool size = 55900 , time to sort 0.038931846618652344\n",
      "loop time 2.514853000640869\n",
      "update demand 1.9073486328125e-06\n",
      "step = 58 , mempool size = 55330 , time to sort 0.038516998291015625\n",
      "loop time 2.6228549480438232\n",
      "update demand 2.1457672119140625e-06\n",
      "step = 59 , mempool size = 54760 , time to sort 0.034533023834228516\n",
      "loop time 2.849593162536621\n",
      "update demand 1.9073486328125e-06\n",
      "step = 60 , mempool size = 54190 , time to sort 0.036640167236328125\n",
      "loop time 2.3565540313720703\n",
      "update demand 2.1457672119140625e-06\n",
      "step = 61 , mempool size = 53620 , time to sort 0.03498101234436035\n",
      "loop time 2.563225746154785\n",
      "update demand 2.1457672119140625e-06\n",
      "step = 62 , mempool size = 53050 , time to sort 0.03484988212585449\n",
      "loop time 2.320059299468994\n",
      "update demand 1.9073486328125e-06\n",
      "step = 63 , mempool size = 52480 , time to sort 0.03751182556152344\n",
      "loop time 2.414781093597412\n",
      "update demand 1.9073486328125e-06\n",
      "step = 64 , mempool size = 51910 , time to sort 0.03728294372558594\n",
      "loop time 2.4292707443237305\n",
      "update demand 1.9073486328125e-06\n",
      "step = 65 , mempool size = 51340 , time to sort 0.03518509864807129\n",
      "loop time 4.246474981307983\n",
      "update demand 1.9073486328125e-06\n",
      "step = 66 , mempool size = 50770 , time to sort 0.03092217445373535\n",
      "loop time 2.370723009109497\n",
      "update demand 9.5367431640625e-07\n",
      "step = 67 , mempool size = 50200 , time to sort 0.03163409233093262\n",
      "loop time 2.2641210556030273\n",
      "update demand 2.1457672119140625e-06\n",
      "step = 68 , mempool size = 49630 , time to sort 0.0298309326171875\n",
      "loop time 2.2252097129821777\n",
      "update demand 9.5367431640625e-07\n",
      "step = 69 , mempool size = 49060 , time to sort 0.03106093406677246\n",
      "loop time 2.1486878395080566\n",
      "update demand 2.86102294921875e-06\n",
      "step = 70 , mempool size = 48490 , time to sort 0.03188490867614746\n",
      "loop time 2.226654052734375\n",
      "update demand 1.6689300537109375e-06\n",
      "step = 71 , mempool size = 47920 , time to sort 0.031164169311523438\n",
      "loop time 2.1594440937042236\n",
      "update demand 1.6689300537109375e-06\n",
      "step = 72 , mempool size = 47350 , time to sort 0.028619050979614258\n",
      "loop time 2.1032629013061523\n",
      "update demand 1.6689300537109375e-06\n",
      "step = 73 , mempool size = 46780 , time to sort 0.02937006950378418\n",
      "loop time 2.1945767402648926\n",
      "update demand 3.0994415283203125e-06\n",
      "step = 74 , mempool size = 46210 , time to sort 0.027998924255371094\n",
      "loop time 2.200084924697876\n",
      "update demand 2.1457672119140625e-06\n",
      "step = 75 , mempool size = 45640 , time to sort 0.02872014045715332\n",
      "loop time 2.086945056915283\n",
      "update demand 3.0994415283203125e-06\n",
      "step = 76 , mempool size = 45070 , time to sort 0.02783513069152832\n",
      "loop time 1.9891271591186523\n",
      "update demand 1.9073486328125e-06\n",
      "step = 77 , mempool size = 44500 , time to sort 0.027849912643432617\n",
      "loop time 1.9414887428283691\n",
      "update demand 3.0994415283203125e-06\n",
      "step = 78 , mempool size = 43930 , time to sort 0.029677152633666992\n",
      "loop time 1.955338954925537\n",
      "update demand 2.1457672119140625e-06\n",
      "step = 79 , mempool size = 43360 , time to sort 0.029325246810913086\n",
      "loop time 1.8797030448913574\n",
      "update demand 2.1457672119140625e-06\n",
      "step = 80 , mempool size = 42790 , time to sort 0.025586366653442383\n",
      "loop time 3.830034017562866\n",
      "update demand 1.9073486328125e-06\n",
      "step = 81 , mempool size = 42220 , time to sort 0.02785491943359375\n",
      "loop time 1.9497239589691162\n",
      "update demand 1.9073486328125e-06\n",
      "step = 82 , mempool size = 41650 , time to sort 0.02567601203918457\n",
      "loop time 1.8679511547088623\n",
      "update demand 2.1457672119140625e-06\n",
      "step = 83 , mempool size = 41080 , time to sort 0.02555227279663086\n",
      "loop time 1.7837700843811035\n",
      "update demand 1.9073486328125e-06\n",
      "step = 84 , mempool size = 40510 , time to sort 0.02920818328857422\n",
      "loop time 1.7793028354644775\n",
      "update demand 1.6689300537109375e-06\n",
      "step = 85 , mempool size = 39940 , time to sort 0.02531886100769043\n",
      "loop time 1.9314329624176025\n",
      "update demand 2.1457672119140625e-06\n",
      "step = 86 , mempool size = 39370 , time to sort 0.02523207664489746\n",
      "loop time 1.9681310653686523\n",
      "update demand 1.9073486328125e-06\n",
      "step = 87 , mempool size = 38800 , time to sort 0.02603912353515625\n",
      "loop time 1.98384690284729\n",
      "update demand 2.1457672119140625e-06\n",
      "step = 88 , mempool size = 38230 , time to sort 0.02837991714477539\n",
      "loop time 1.9251070022583008\n",
      "update demand 3.0994415283203125e-06\n",
      "step = 89 , mempool size = 37660 , time to sort 0.025881052017211914\n",
      "loop time 1.7506108283996582\n",
      "update demand 2.1457672119140625e-06\n",
      "step = 90 , mempool size = 37090 , time to sort 0.02589702606201172\n",
      "loop time 1.8840389251708984\n",
      "update demand 3.0994415283203125e-06\n",
      "step = 91 , mempool size = 36520 , time to sort 0.02333807945251465\n",
      "loop time 1.7532789707183838\n",
      "update demand 4.0531158447265625e-06\n",
      "step = 92 , mempool size = 35950 , time to sort 0.020509958267211914\n",
      "loop time 1.702929973602295\n",
      "update demand 3.0994415283203125e-06\n",
      "step = 93 , mempool size = 35380 , time to sort 0.0258328914642334\n",
      "loop time 1.7159879207611084\n",
      "update demand 2.1457672119140625e-06\n",
      "step = 94 , mempool size = 34810 , time to sort 0.021397113800048828\n",
      "loop time 1.6317920684814453\n",
      "update demand 1.9073486328125e-06\n",
      "step = 95 , mempool size = 34240 , time to sort 0.021652936935424805\n",
      "loop time 1.601660966873169\n",
      "update demand 1.9073486328125e-06\n",
      "step = 96 , mempool size = 33670 , time to sort 0.021345853805541992\n",
      "loop time 1.4976699352264404\n",
      "update demand 3.0994415283203125e-06\n",
      "step = 97 , mempool size = 33100 , time to sort 0.023817062377929688\n",
      "loop time 1.5303301811218262\n",
      "update demand 2.86102294921875e-06\n",
      "step = 98 , mempool size = 32530 , time to sort 0.02126789093017578\n",
      "loop time 1.5927598476409912\n",
      "update demand 9.5367431640625e-07\n",
      "step = 99 , mempool size = 31960 , time to sort 0.0207369327545166\n",
      "loop time 1.445556879043579\n",
      "update demand 2.1457672119140625e-06\n",
      "step = 100 , mempool size = 31390 , time to sort 0.02185797691345215\n",
      "loop time 1.5770947933197021\n",
      "update demand 3.0994415283203125e-06\n",
      "step = 101 , mempool size = 30820 , time to sort 0.02585887908935547\n",
      "loop time 3.792860984802246\n",
      "update demand 2.86102294921875e-06\n",
      "step = 102 , mempool size = 30250 , time to sort 0.019100189208984375\n",
      "loop time 1.3871431350708008\n",
      "update demand 3.0994415283203125e-06\n",
      "step = 103 , mempool size = 29680 , time to sort 0.020440101623535156\n",
      "loop time 1.45766019821167\n",
      "update demand 4.291534423828125e-06\n",
      "step = 104 , mempool size = 29110 , time to sort 0.0174257755279541\n",
      "loop time 1.4650802612304688\n",
      "update demand 3.0994415283203125e-06\n",
      "step = 105 , mempool size = 28540 , time to sort 0.019212007522583008\n",
      "loop time 1.3498790264129639\n",
      "update demand 2.1457672119140625e-06\n",
      "step = 106 , mempool size = 27970 , time to sort 0.016326904296875\n",
      "loop time 1.4190638065338135\n",
      "update demand 2.86102294921875e-06\n",
      "step = 107 , mempool size = 27400 , time to sort 0.017613887786865234\n",
      "loop time 1.3537123203277588\n",
      "update demand 2.1457672119140625e-06\n",
      "step = 108 , mempool size = 26830 , time to sort 0.018327951431274414\n",
      "loop time 1.2727851867675781\n",
      "update demand 9.5367431640625e-07\n",
      "step = 109 , mempool size = 26260 , time to sort 0.017065048217773438\n",
      "loop time 1.2321171760559082\n",
      "update demand 2.86102294921875e-06\n",
      "step = 110 , mempool size = 25690 , time to sort 0.017873287200927734\n",
      "loop time 1.1985459327697754\n",
      "update demand 2.86102294921875e-06\n",
      "step = 111 , mempool size = 25120 , time to sort 0.017493724822998047\n",
      "loop time 1.3444468975067139\n",
      "update demand 3.0994415283203125e-06\n",
      "step = 112 , mempool size = 24550 , time to sort 0.01795816421508789\n",
      "loop time 1.3096771240234375\n",
      "update demand 1.9073486328125e-06\n",
      "step = 113 , mempool size = 23980 , time to sort 0.014902830123901367\n",
      "loop time 1.1867101192474365\n",
      "update demand 1.9073486328125e-06\n",
      "step = 114 , mempool size = 23410 , time to sort 0.019429922103881836\n",
      "loop time 1.0624160766601562\n",
      "update demand 1.9073486328125e-06\n",
      "step = 115 , mempool size = 22840 , time to sort 0.015047311782836914\n",
      "loop time 1.047614336013794\n",
      "update demand 2.1457672119140625e-06\n",
      "step = 116 , mempool size = 22270 , time to sort 0.014737129211425781\n",
      "loop time 0.9933249950408936\n",
      "update demand 9.5367431640625e-07\n",
      "step = 117 , mempool size = 21700 , time to sort 0.012636184692382812\n",
      "loop time 0.960371732711792\n",
      "update demand 1.6689300537109375e-06\n",
      "step = 118 , mempool size = 21130 , time to sort 0.012562036514282227\n",
      "loop time 0.9317178726196289\n",
      "update demand 2.1457672119140625e-06\n",
      "step = 119 , mempool size = 20560 , time to sort 0.013415336608886719\n",
      "loop time 0.9020709991455078\n",
      "update demand 3.0994415283203125e-06\n",
      "step = 120 , mempool size = 19990 , time to sort 0.011241912841796875\n",
      "loop time 0.8882551193237305\n",
      "update demand 2.1457672119140625e-06\n",
      "step = 121 , mempool size = 19420 , time to sort 0.011780023574829102\n",
      "loop time 0.8577892780303955\n",
      "update demand 2.1457672119140625e-06\n",
      "step = 122 , mempool size = 18850 , time to sort 0.010143041610717773\n",
      "loop time 0.8320009708404541\n",
      "update demand 3.0994415283203125e-06\n",
      "step = 123 , mempool size = 18280 , time to sort 0.01024174690246582\n",
      "loop time 0.8540129661560059\n",
      "update demand 1.9073486328125e-06\n",
      "step = 124 , mempool size = 17710 , time to sort 0.011346101760864258\n",
      "loop time 0.8200428485870361\n",
      "update demand 2.86102294921875e-06\n",
      "step = 125 , mempool size = 17140 , time to sort 0.010375261306762695\n",
      "loop time 0.8099567890167236\n",
      "update demand 2.1457672119140625e-06\n",
      "step = 126 , mempool size = 16570 , time to sort 0.01216578483581543\n",
      "loop time 0.8793070316314697\n",
      "update demand 2.1457672119140625e-06\n",
      "step = 127 , mempool size = 16000 , time to sort 0.010822772979736328\n",
      "loop time 0.8458118438720703\n",
      "update demand 1.9073486328125e-06\n",
      "step = 128 , mempool size = 15430 , time to sort 0.014361143112182617\n",
      "loop time 0.8493666648864746\n",
      "update demand 3.0994415283203125e-06\n",
      "step = 129 , mempool size = 14860 , time to sort 0.01005697250366211\n",
      "loop time 0.8216197490692139\n",
      "update demand 2.1457672119140625e-06\n",
      "step = 130 , mempool size = 14290 , time to sort 0.00905609130859375\n",
      "loop time 0.7596569061279297\n",
      "update demand 1.9073486328125e-06\n",
      "step = 131 , mempool size = 13720 , time to sort 0.010346174240112305\n",
      "loop time 0.6502420902252197\n",
      "update demand 2.86102294921875e-06\n",
      "step = 132 , mempool size = 13150 , time to sort 0.00852203369140625\n",
      "loop time 0.7019729614257812\n",
      "update demand 3.0994415283203125e-06\n",
      "step = 133 , mempool size = 12580 , time to sort 0.007853984832763672\n",
      "loop time 0.7156550884246826\n",
      "update demand 2.1457672119140625e-06\n",
      "step = 134 , mempool size = 12010 , time to sort 0.007314205169677734\n",
      "loop time 0.5733439922332764\n",
      "update demand 1.9073486328125e-06\n",
      "step = 135 , mempool size = 11440 , time to sort 0.005765199661254883\n",
      "loop time 0.5302400588989258\n",
      "update demand 2.1457672119140625e-06\n",
      "step = 136 , mempool size = 10870 , time to sort 0.005563259124755859\n",
      "loop time 0.48923397064208984\n",
      "update demand 2.1457672119140625e-06\n",
      "step = 137 , mempool size = 10300 , time to sort 0.00564885139465332\n",
      "loop time 0.49492716789245605\n",
      "update demand 7.152557373046875e-07\n",
      "step = 138 , mempool size = 9730 , time to sort 0.006421089172363281\n",
      "loop time 0.4554600715637207\n",
      "update demand 2.1457672119140625e-06\n",
      "step = 139 , mempool size = 9160 , time to sort 0.0050640106201171875\n",
      "loop time 0.4339017868041992\n",
      "update demand 1.9073486328125e-06\n",
      "step = 140 , mempool size = 8590 , time to sort 0.004396915435791016\n",
      "loop time 0.39145874977111816\n",
      "update demand 2.1457672119140625e-06\n",
      "step = 141 , mempool size = 8020 , time to sort 0.004390239715576172\n",
      "loop time 0.365175724029541\n",
      "update demand 1.9073486328125e-06\n",
      "step = 142 , mempool size = 7450 , time to sort 0.00423884391784668\n",
      "loop time 0.3556070327758789\n",
      "update demand 3.0994415283203125e-06\n",
      "step = 143 , mempool size = 6880 , time to sort 0.003324747085571289\n",
      "loop time 0.31789588928222656\n",
      "update demand 2.1457672119140625e-06\n",
      "step = 144 , mempool size = 6310 , time to sort 0.0031659603118896484\n",
      "loop time 0.2894928455352783\n",
      "update demand 1.9073486328125e-06\n",
      "step = 145 , mempool size = 5740 , time to sort 0.002828836441040039\n",
      "loop time 0.2879951000213623\n",
      "update demand 1.6689300537109375e-06\n",
      "step = 146 , mempool size = 5170 , time to sort 0.0029718875885009766\n",
      "loop time 0.2477121353149414\n",
      "update demand 2.86102294921875e-06\n",
      "step = 147 , mempool size = 4600 , time to sort 0.003113985061645508\n",
      "loop time 0.28417515754699707\n",
      "update demand 4.76837158203125e-06\n",
      "step = 148 , mempool size = 4030 , time to sort 0.0033829212188720703\n",
      "loop time 0.31859803199768066\n",
      "update demand 5.0067901611328125e-06\n",
      "step = 149 , mempool size = 3460 , time to sort 0.0021708011627197266\n",
      "loop time 0.25366711616516113\n",
      "update demand 1.9073486328125e-06\n",
      "step = 150 , mempool size = 2890 , time to sort 0.0018298625946044922\n",
      "loop time 0.22435712814331055\n",
      "update demand 1.9073486328125e-06\n",
      "step = 151 , mempool size = 2320 , time to sort 0.0014278888702392578\n",
      "loop time 0.21491003036499023\n",
      "update demand 1.6689300537109375e-06\n",
      "step = 152 , mempool size = 1750 , time to sort 0.0013518333435058594\n",
      "loop time 0.15805387496948242\n",
      "update demand 2.1457672119140625e-06\n",
      "step = 153 , mempool size = 1180 , time to sort 0.000659942626953125\n",
      "loop time 0.1094510555267334\n",
      "update demand 2.1457672119140625e-06\n",
      "step = 154 , mempool size = 610 , time to sort 0.0003428459167480469\n",
      "loop time 0.07222795486450195\n",
      "update demand 1.9073486328125e-06\n",
      "step = 155 , mempool size = 40 , time to sort 3.886222839355469e-05\n",
      "loop time 0.03699684143066406\n",
      "update demand 9.5367431640625e-07\n",
      "step = 156 , mempool size = 0 , time to sort 3.0994415283203125e-06\n",
      "loop time 0.010424137115478516\n",
      "update demand 1.9073486328125e-06\n",
      "step = 157 , mempool size = 0 , time to sort 2.86102294921875e-06\n",
      "loop time 0.002209901809692383\n",
      "update demand 9.5367431640625e-07\n",
      "step = 158 , mempool size = 0 , time to sort 2.1457672119140625e-06\n",
      "loop time 0.0014162063598632812\n",
      "update demand 9.5367431640625e-07\n",
      "step = 159 , mempool size = 0 , time to sort 3.0994415283203125e-06\n",
      "loop time 0.0013580322265625\n",
      "update demand 1.9073486328125e-06\n",
      "step = 160 , mempool size = 0 , time to sort 3.0994415283203125e-06\n",
      "loop time 0.0013699531555175781\n",
      "update demand 1.9073486328125e-06\n",
      "step = 161 , mempool size = 0 , time to sort 4.0531158447265625e-06\n",
      "loop time 0.0014331340789794922\n",
      "update demand 1.1920928955078125e-06\n",
      "step = 162 , mempool size = 0 , time to sort 3.814697265625e-06\n",
      "loop time 0.0014390945434570312\n",
      "update demand 9.5367431640625e-07\n",
      "step = 163 , mempool size = 0 , time to sort 2.86102294921875e-06\n",
      "loop time 0.0013110637664794922\n",
      "update demand 9.5367431640625e-07\n",
      "step = 164 , mempool size = 0 , time to sort 2.1457672119140625e-06\n",
      "loop time 0.0013141632080078125\n",
      "update demand 7.152557373046875e-07\n",
      "step = 165 , mempool size = 0 , time to sort 1.9073486328125e-06\n",
      "loop time 0.0012700557708740234\n",
      "update demand 9.5367431640625e-07\n",
      "step = 166 , mempool size = 0 , time to sort 1.6689300537109375e-06\n",
      "loop time 0.0012640953063964844\n",
      "update demand 9.5367431640625e-07\n",
      "step = 167 , mempool size = 0 , time to sort 3.0994415283203125e-06\n",
      "loop time 0.0013570785522460938\n",
      "update demand 1.1920928955078125e-06\n",
      "step = 168 , mempool size = 0 , time to sort 2.1457672119140625e-06\n",
      "loop time 0.0012502670288085938\n",
      "update demand 1.1920928955078125e-06\n",
      "step = 169 , mempool size = 0 , time to sort 2.86102294921875e-06\n",
      "loop time 0.0013592243194580078\n",
      "update demand 9.5367431640625e-07\n",
      "step = 170 , mempool size = 0 , time to sort 2.1457672119140625e-06\n",
      "loop time 0.0013430118560791016\n",
      "update demand 9.5367431640625e-07\n",
      "step = 171 , mempool size = 0 , time to sort 1.9073486328125e-06\n",
      "loop time 0.0012030601501464844\n",
      "update demand 9.5367431640625e-07\n",
      "step = 172 , mempool size = 0 , time to sort 3.0994415283203125e-06\n",
      "loop time 0.0012509822845458984\n",
      "update demand 2.1457672119140625e-06\n",
      "step = 173 , mempool size = 0 , time to sort 5.245208740234375e-06\n",
      "loop time 0.001500844955444336\n",
      "update demand 9.5367431640625e-07\n",
      "step = 174 , mempool size = 0 , time to sort 2.86102294921875e-06\n",
      "loop time 0.0012180805206298828\n",
      "update demand 9.5367431640625e-07\n",
      "step = 175 , mempool size = 0 , time to sort 3.0994415283203125e-06\n",
      "loop time 0.001135110855102539\n",
      "update demand 9.5367431640625e-07\n",
      "step = 176 , mempool size = 0 , time to sort 3.0994415283203125e-06\n",
      "loop time 0.0012998580932617188\n",
      "update demand 9.5367431640625e-07\n",
      "step = 177 , mempool size = 0 , time to sort 3.0994415283203125e-06\n",
      "loop time 0.0012416839599609375\n",
      "update demand 9.5367431640625e-07\n",
      "step = 178 , mempool size = 0 , time to sort 2.86102294921875e-06\n",
      "loop time 0.0012478828430175781\n",
      "update demand 9.5367431640625e-07\n",
      "step = 179 , mempool size = 0 , time to sort 2.1457672119140625e-06\n",
      "loop time 0.0012881755828857422\n",
      "update demand 9.5367431640625e-07\n",
      "step = 180 , mempool size = 0 , time to sort 2.1457672119140625e-06\n",
      "loop time 0.0012059211730957031\n",
      "update demand 1.1920928955078125e-06\n",
      "step = 181 , mempool size = 0 , time to sort 1.9073486328125e-06\n",
      "loop time 0.0013277530670166016\n",
      "update demand 9.5367431640625e-07\n",
      "step = 182 , mempool size = 0 , time to sort 2.1457672119140625e-06\n",
      "loop time 0.0012478828430175781\n",
      "update demand 1.1920928955078125e-06\n",
      "step = 183 , mempool size = 0 , time to sort 2.1457672119140625e-06\n",
      "loop time 0.0011470317840576172\n",
      "update demand 1.1920928955078125e-06\n",
      "step = 184 , mempool size = 0 , time to sort 1.6689300537109375e-06\n",
      "loop time 0.0012443065643310547\n",
      "update demand 7.152557373046875e-07\n",
      "step = 185 , mempool size = 0 , time to sort 2.86102294921875e-06\n",
      "loop time 0.0013687610626220703\n",
      "update demand 1.1920928955078125e-06\n",
      "step = 186 , mempool size = 0 , time to sort 1.9073486328125e-06\n",
      "loop time 0.0011668205261230469\n",
      "update demand 9.5367431640625e-07\n",
      "step = 187 , mempool size = 0 , time to sort 1.9073486328125e-06\n",
      "loop time 0.001371145248413086\n",
      "update demand 1.1920928955078125e-06\n",
      "step = 188 , mempool size = 0 , time to sort 2.1457672119140625e-06\n",
      "loop time 0.0011429786682128906\n",
      "update demand 9.5367431640625e-07\n",
      "step = 189 , mempool size = 0 , time to sort 1.9073486328125e-06\n",
      "loop time 0.0011868476867675781\n",
      "update demand 9.5367431640625e-07\n",
      "step = 190 , mempool size = 0 , time to sort 1.9073486328125e-06\n",
      "loop time 0.001252889633178711\n",
      "update demand 9.5367431640625e-07\n",
      "step = 191 , mempool size = 0 , time to sort 1.9073486328125e-06\n",
      "loop time 0.0011529922485351562\n",
      "update demand 9.5367431640625e-07\n",
      "step = 192 , mempool size = 0 , time to sort 2.1457672119140625e-06\n",
      "loop time 0.0011341571807861328\n",
      "update demand 9.5367431640625e-07\n",
      "step = 193 , mempool size = 0 , time to sort 1.9073486328125e-06\n",
      "loop time 0.0011758804321289062\n",
      "update demand 9.5367431640625e-07\n",
      "step = 194 , mempool size = 0 , time to sort 2.1457672119140625e-06\n",
      "loop time 0.0012958049774169922\n",
      "update demand 1.1920928955078125e-06\n",
      "step = 195 , mempool size = 0 , time to sort 2.1457672119140625e-06\n",
      "loop time 0.00113677978515625\n",
      "update demand 1.1920928955078125e-06\n",
      "step = 196 , mempool size = 0 , time to sort 1.9073486328125e-06\n",
      "loop time 0.0012040138244628906\n",
      "update demand 0.0\n",
      "step = 197 , mempool size = 0 , time to sort 1.9073486328125e-06\n",
      "loop time 0.0011210441589355469\n",
      "update demand 1.1920928955078125e-06\n",
      "step = 198 , mempool size = 0 , time to sort 2.1457672119140625e-06\n",
      "loop time 0.0011701583862304688\n",
      "update demand 9.5367431640625e-07\n",
      "step = 199 , mempool size = 0 , time to sort 2.1457672119140625e-06\n",
      "loop time 0.0011968612670898438\n",
      "update demand 9.5367431640625e-07\n",
      "step = 200 , mempool size = 0 , time to sort 2.1457672119140625e-06\n",
      "loop time 0.0011868476867675781\n",
      "update demand 9.5367431640625e-07\n",
      "step = 201 , mempool size = 0 , time to sort 1.9073486328125e-06\n",
      "loop time 0.0011889934539794922\n",
      "update demand 9.5367431640625e-07\n",
      "step = 202 , mempool size = 0 , time to sort 1.9073486328125e-06\n",
      "loop time 0.001154184341430664\n",
      "update demand 9.5367431640625e-07\n",
      "step = 203 , mempool size = 0 , time to sort 1.6689300537109375e-06\n",
      "loop time 0.0010879039764404297\n",
      "update demand 9.5367431640625e-07\n",
      "step = 204 , mempool size = 0 , time to sort 2.1457672119140625e-06\n",
      "loop time 0.001065969467163086\n",
      "update demand 1.1920928955078125e-06\n",
      "step = 205 , mempool size = 0 , time to sort 2.1457672119140625e-06\n",
      "loop time 0.0012171268463134766\n",
      "update demand 9.5367431640625e-07\n",
      "step = 206 , mempool size = 0 , time to sort 2.1457672119140625e-06\n",
      "loop time 0.0011429786682128906\n",
      "update demand 0.0\n",
      "step = 207 , mempool size = 0 , time to sort 1.9073486328125e-06\n",
      "loop time 0.001344919204711914\n",
      "update demand 1.1920928955078125e-06\n",
      "step = 208 , mempool size = 0 , time to sort 3.0994415283203125e-06\n",
      "loop time 0.0011849403381347656\n",
      "update demand 9.5367431640625e-07\n",
      "step = 209 , mempool size = 0 , time to sort 2.1457672119140625e-06\n",
      "loop time 0.0013320446014404297\n",
      "update demand 1.1920928955078125e-06\n",
      "step = 210 , mempool size = 0 , time to sort 1.9073486328125e-06\n",
      "loop time 0.0011260509490966797\n",
      "update demand 1.1920928955078125e-06\n",
      "step = 211 , mempool size = 0 , time to sort 1.9073486328125e-06\n",
      "loop time 0.0011858940124511719\n",
      "update demand 9.5367431640625e-07\n",
      "step = 212 , mempool size = 0 , time to sort 2.1457672119140625e-06\n",
      "loop time 0.00139617919921875\n",
      "update demand 9.5367431640625e-07\n",
      "step = 213 , mempool size = 0 , time to sort 1.6689300537109375e-06\n",
      "loop time 0.0012469291687011719\n",
      "update demand 0.0\n",
      "step = 214 , mempool size = 0 , time to sort 1.9073486328125e-06\n",
      "loop time 0.0012159347534179688\n",
      "update demand 0.0\n",
      "step = 215 , mempool size = 0 , time to sort 1.9073486328125e-06\n",
      "loop time 0.0011529922485351562\n",
      "update demand 1.1920928955078125e-06\n",
      "step = 216 , mempool size = 0 , time to sort 1.6689300537109375e-06\n",
      "loop time 0.0011320114135742188\n",
      "update demand 9.5367431640625e-07\n",
      "step = 217 , mempool size = 0 , time to sort 2.1457672119140625e-06\n",
      "loop time 0.0012018680572509766\n",
      "update demand 0.0\n",
      "step = 218 , mempool size = 0 , time to sort 1.6689300537109375e-06\n",
      "loop time 0.0011179447174072266\n",
      "update demand 1.1920928955078125e-06\n",
      "step = 219 , mempool size = 0 , time to sort 1.9073486328125e-06\n",
      "loop time 0.001171112060546875\n",
      "update demand 9.5367431640625e-07\n",
      "step = 220 , mempool size = 0 , time to sort 2.1457672119140625e-06\n",
      "loop time 0.0012772083282470703\n",
      "update demand 0.0\n",
      "step = 221 , mempool size = 0 , time to sort 9.5367431640625e-07\n",
      "loop time 0.0012509822845458984\n",
      "update demand 9.5367431640625e-07\n",
      "step = 222 , mempool size = 0 , time to sort 2.1457672119140625e-06\n",
      "loop time 0.00109100341796875\n",
      "update demand 9.5367431640625e-07\n",
      "step = 223 , mempool size = 0 , time to sort 1.9073486328125e-06\n",
      "loop time 0.0010099411010742188\n",
      "update demand 1.1920928955078125e-06\n",
      "step = 224 , mempool size = 0 , time to sort 2.1457672119140625e-06\n",
      "loop time 0.0010690689086914062\n",
      "update demand 1.1920928955078125e-06\n",
      "step = 225 , mempool size = 0 , time to sort 1.6689300537109375e-06\n",
      "loop time 0.0013120174407958984\n",
      "update demand 1.1920928955078125e-06\n",
      "step = 226 , mempool size = 0 , time to sort 1.9073486328125e-06\n",
      "loop time 0.0012969970703125\n",
      "update demand 1.9073486328125e-06\n",
      "step = 227 , mempool size = 0 , time to sort 1.9073486328125e-06\n",
      "loop time 0.0014460086822509766\n",
      "update demand 9.5367431640625e-07\n",
      "step = 228 , mempool size = 0 , time to sort 1.9073486328125e-06\n",
      "loop time 0.0012350082397460938\n",
      "update demand 9.5367431640625e-07\n",
      "step = 229 , mempool size = 0 , time to sort 2.1457672119140625e-06\n",
      "loop time 0.001222848892211914\n",
      "update demand 1.1920928955078125e-06\n",
      "step = 230 , mempool size = 0 , time to sort 2.1457672119140625e-06\n",
      "loop time 0.0011911392211914062\n",
      "update demand 1.1920928955078125e-06\n",
      "step = 231 , mempool size = 0 , time to sort 1.9073486328125e-06\n",
      "loop time 0.0011801719665527344\n",
      "update demand 0.0\n",
      "step = 232 , mempool size = 0 , time to sort 1.9073486328125e-06\n",
      "loop time 0.0012302398681640625\n",
      "update demand 9.5367431640625e-07\n",
      "step = 233 , mempool size = 0 , time to sort 2.86102294921875e-06\n",
      "loop time 0.00128173828125\n",
      "update demand 9.5367431640625e-07\n",
      "step = 234 , mempool size = 0 , time to sort 2.1457672119140625e-06\n",
      "loop time 0.0012011528015136719\n",
      "update demand 9.5367431640625e-07\n",
      "step = 235 , mempool size = 0 , time to sort 2.1457672119140625e-06\n",
      "loop time 0.0012001991271972656\n",
      "update demand 1.1920928955078125e-06\n",
      "step = 236 , mempool size = 0 , time to sort 2.1457672119140625e-06\n",
      "loop time 0.001157999038696289\n",
      "update demand 9.5367431640625e-07\n",
      "step = 237 , mempool size = 0 , time to sort 1.9073486328125e-06\n",
      "loop time 0.0011603832244873047\n",
      "update demand 9.5367431640625e-07\n",
      "step = 238 , mempool size = 0 , time to sort 1.9073486328125e-06\n",
      "loop time 0.0012469291687011719\n",
      "update demand 9.5367431640625e-07\n",
      "step = 239 , mempool size = 0 , time to sort 2.1457672119140625e-06\n",
      "loop time 0.001641988754272461\n",
      "update demand 9.5367431640625e-07\n",
      "step = 240 , mempool size = 0 , time to sort 2.1457672119140625e-06\n",
      "loop time 0.03476691246032715\n",
      "update demand 1.9073486328125e-06\n",
      "step = 241 , mempool size = 0 , time to sort 2.86102294921875e-06\n",
      "loop time 0.0019588470458984375\n",
      "update demand 9.5367431640625e-07\n",
      "step = 242 , mempool size = 0 , time to sort 3.0994415283203125e-06\n",
      "loop time 0.001577138900756836\n",
      "update demand 9.5367431640625e-07\n",
      "step = 243 , mempool size = 0 , time to sort 3.0994415283203125e-06\n",
      "loop time 0.0016629695892333984\n",
      "update demand 9.5367431640625e-07\n",
      "step = 244 , mempool size = 0 , time to sort 3.0994415283203125e-06\n",
      "loop time 0.0016138553619384766\n",
      "update demand 1.1920928955078125e-06\n",
      "step = 245 , mempool size = 0 , time to sort 3.0994415283203125e-06\n",
      "loop time 0.0014870166778564453\n",
      "update demand 1.1920928955078125e-06\n",
      "step = 246 , mempool size = 0 , time to sort 3.0994415283203125e-06\n",
      "loop time 0.0014848709106445312\n",
      "update demand 9.5367431640625e-07\n",
      "step = 247 , mempool size = 0 , time to sort 2.1457672119140625e-06\n",
      "loop time 0.0013780593872070312\n",
      "update demand 9.5367431640625e-07\n",
      "step = 248 , mempool size = 0 , time to sort 1.9073486328125e-06\n",
      "loop time 0.0012540817260742188\n",
      "update demand 9.5367431640625e-07\n",
      "step = 249 , mempool size = 0 , time to sort 1.9073486328125e-06\n",
      "loop time 0.0013151168823242188\n",
      "update demand 9.5367431640625e-07\n",
      "step = 250 , mempool size = 0 , time to sort 2.86102294921875e-06\n",
      "loop time 0.0013017654418945312\n",
      "update demand 9.5367431640625e-07\n",
      "step = 251 , mempool size = 0 , time to sort 1.9073486328125e-06\n",
      "loop time 0.0012538433074951172\n",
      "update demand 0.0\n",
      "step = 252 , mempool size = 0 , time to sort 1.9073486328125e-06\n",
      "loop time 0.0013229846954345703\n",
      "update demand 9.5367431640625e-07\n",
      "step = 253 , mempool size = 0 , time to sort 2.1457672119140625e-06\n",
      "loop time 0.0011718273162841797\n",
      "update demand 0.0\n",
      "step = 254 , mempool size = 0 , time to sort 1.6689300537109375e-06\n",
      "loop time 0.0012378692626953125\n",
      "update demand 7.152557373046875e-07\n",
      "step = 255 , mempool size = 0 , time to sort 1.9073486328125e-06\n",
      "loop time 0.0011801719665527344\n",
      "update demand 1.1920928955078125e-06\n",
      "step = 256 , mempool size = 0 , time to sort 1.9073486328125e-06\n",
      "loop time 0.0014820098876953125\n",
      "update demand 9.5367431640625e-07\n",
      "step = 257 , mempool size = 0 , time to sort 1.6689300537109375e-06\n",
      "loop time 0.0012128353118896484\n",
      "update demand 9.5367431640625e-07\n",
      "step = 258 , mempool size = 0 , time to sort 2.1457672119140625e-06\n",
      "loop time 0.0011739730834960938\n",
      "update demand 9.5367431640625e-07\n",
      "step = 259 , mempool size = 0 , time to sort 1.9073486328125e-06\n",
      "loop time 0.0011713504791259766\n",
      "update demand 1.1920928955078125e-06\n",
      "step = 260 , mempool size = 0 , time to sort 1.6689300537109375e-06\n",
      "loop time 0.0013110637664794922\n",
      "update demand 7.152557373046875e-07\n",
      "step = 261 , mempool size = 0 , time to sort 2.1457672119140625e-06\n",
      "loop time 0.0012090206146240234\n",
      "update demand 9.5367431640625e-07\n",
      "step = 262 , mempool size = 0 , time to sort 2.1457672119140625e-06\n",
      "loop time 0.0015139579772949219\n",
      "update demand 9.5367431640625e-07\n",
      "step = 263 , mempool size = 0 , time to sort 1.9073486328125e-06\n",
      "loop time 0.0013136863708496094\n",
      "update demand 7.152557373046875e-07\n",
      "step = 264 , mempool size = 0 , time to sort 2.1457672119140625e-06\n",
      "loop time 0.0011720657348632812\n",
      "update demand 9.5367431640625e-07\n",
      "step = 265 , mempool size = 0 , time to sort 1.9073486328125e-06\n",
      "loop time 0.0011610984802246094\n",
      "update demand 9.5367431640625e-07\n",
      "step = 266 , mempool size = 0 , time to sort 1.9073486328125e-06\n",
      "loop time 0.0011091232299804688\n",
      "update demand 1.1920928955078125e-06\n",
      "step = 267 , mempool size = 0 , time to sort 1.9073486328125e-06\n",
      "loop time 0.001177072525024414\n",
      "update demand 9.5367431640625e-07\n",
      "step = 268 , mempool size = 0 , time to sort 1.9073486328125e-06\n",
      "loop time 0.0012583732604980469\n",
      "update demand 9.5367431640625e-07\n",
      "step = 269 , mempool size = 0 , time to sort 2.1457672119140625e-06\n",
      "loop time 0.001260995864868164\n",
      "update demand 1.1920928955078125e-06\n",
      "step = 270 , mempool size = 0 , time to sort 2.1457672119140625e-06\n",
      "loop time 0.0011658668518066406\n",
      "update demand 9.5367431640625e-07\n",
      "step = 271 , mempool size = 0 , time to sort 2.1457672119140625e-06\n",
      "loop time 0.0011661052703857422\n",
      "update demand 9.5367431640625e-07\n",
      "step = 272 , mempool size = 0 , time to sort 2.1457672119140625e-06\n",
      "loop time 0.0012049674987792969\n",
      "update demand 9.5367431640625e-07\n",
      "step = 273 , mempool size = 0 , time to sort 2.1457672119140625e-06\n",
      "loop time 0.0011851787567138672\n",
      "update demand 9.5367431640625e-07\n",
      "step = 274 , mempool size = 0 , time to sort 1.9073486328125e-06\n",
      "loop time 0.0011620521545410156\n",
      "update demand 1.1920928955078125e-06\n",
      "step = 275 , mempool size = 0 , time to sort 1.9073486328125e-06\n",
      "loop time 0.0015323162078857422\n",
      "update demand 1.1920928955078125e-06\n",
      "step = 276 , mempool size = 0 , time to sort 1.9073486328125e-06\n",
      "loop time 0.0012159347534179688\n",
      "update demand 1.1920928955078125e-06\n",
      "step = 277 , mempool size = 0 , time to sort 3.0994415283203125e-06\n",
      "loop time 0.0012767314910888672\n",
      "update demand 9.5367431640625e-07\n",
      "step = 278 , mempool size = 0 , time to sort 1.9073486328125e-06\n",
      "loop time 0.0012507438659667969\n",
      "update demand 1.1920928955078125e-06\n",
      "step = 279 , mempool size = 0 , time to sort 1.6689300537109375e-06\n",
      "loop time 0.0011861324310302734\n",
      "update demand 1.1920928955078125e-06\n",
      "step = 280 , mempool size = 0 , time to sort 2.1457672119140625e-06\n",
      "loop time 0.001226186752319336\n",
      "update demand 9.5367431640625e-07\n",
      "step = 281 , mempool size = 0 , time to sort 3.0994415283203125e-06\n",
      "loop time 0.0013518333435058594\n",
      "update demand 7.152557373046875e-07\n",
      "step = 282 , mempool size = 0 , time to sort 2.1457672119140625e-06\n",
      "loop time 0.0012218952178955078\n",
      "update demand 9.5367431640625e-07\n",
      "step = 283 , mempool size = 0 , time to sort 2.1457672119140625e-06\n",
      "loop time 0.0011892318725585938\n",
      "update demand 1.1920928955078125e-06\n",
      "step = 284 , mempool size = 0 , time to sort 2.1457672119140625e-06\n",
      "loop time 0.0012049674987792969\n",
      "update demand 7.152557373046875e-07\n",
      "step = 285 , mempool size = 0 , time to sort 9.5367431640625e-07\n",
      "loop time 0.0011680126190185547\n",
      "update demand 9.5367431640625e-07\n",
      "step = 286 , mempool size = 0 , time to sort 1.9073486328125e-06\n",
      "loop time 0.0011870861053466797\n",
      "update demand 9.5367431640625e-07\n",
      "step = 287 , mempool size = 0 , time to sort 3.0994415283203125e-06\n",
      "loop time 0.0012598037719726562\n",
      "update demand 9.5367431640625e-07\n",
      "step = 288 , mempool size = 0 , time to sort 1.9073486328125e-06\n",
      "loop time 0.0011990070343017578\n",
      "update demand 9.5367431640625e-07\n",
      "step = 289 , mempool size = 0 , time to sort 1.9073486328125e-06\n",
      "loop time 0.0012860298156738281\n",
      "update demand 9.5367431640625e-07\n",
      "step = 290 , mempool size = 0 , time to sort 2.1457672119140625e-06\n",
      "loop time 0.057470083236694336\n",
      "update demand 9.5367431640625e-07\n",
      "step = 291 , mempool size = 0 , time to sort 3.0994415283203125e-06\n",
      "loop time 0.0016281604766845703\n",
      "update demand 9.5367431640625e-07\n",
      "step = 292 , mempool size = 0 , time to sort 2.86102294921875e-06\n",
      "loop time 0.0016639232635498047\n",
      "update demand 9.5367431640625e-07\n",
      "step = 293 , mempool size = 0 , time to sort 1.6689300537109375e-06\n",
      "loop time 0.0016031265258789062\n",
      "update demand 9.5367431640625e-07\n",
      "step = 294 , mempool size = 0 , time to sort 1.9073486328125e-06\n",
      "loop time 0.0013761520385742188\n",
      "update demand 1.1920928955078125e-06\n",
      "step = 295 , mempool size = 0 , time to sort 3.0994415283203125e-06\n",
      "loop time 0.0014650821685791016\n",
      "update demand 1.1920928955078125e-06\n",
      "step = 296 , mempool size = 0 , time to sort 1.9073486328125e-06\n",
      "loop time 0.0014598369598388672\n",
      "update demand 9.5367431640625e-07\n",
      "step = 297 , mempool size = 0 , time to sort 3.0994415283203125e-06\n",
      "loop time 0.001336812973022461\n",
      "update demand 9.5367431640625e-07\n",
      "step = 298 , mempool size = 0 , time to sort 3.0994415283203125e-06\n",
      "loop time 0.0013828277587890625\n",
      "update demand 9.5367431640625e-07\n",
      "step = 299 , mempool size = 0 , time to sort 2.1457672119140625e-06\n",
      "loop time 0.00144195556640625\n",
      "update demand 9.5367431640625e-07\n",
      "step = 300 , mempool size = 0 , time to sort 1.9073486328125e-06\n",
      "loop time 0.0012469291687011719\n"
     ]
    }
   ],
   "source": [
    "psub = [{\n",
    "    \"policies\": {},\n",
    "    \"variables\": {\n",
    "        \"demand\": update_demand_scenario\n",
    "    }\n",
    "}, {\n",
    "    \"policies\": {\n",
    "        \"action\": include_valid_txs # step 2\n",
    "    },\n",
    "    \"variables\": {\n",
    "        \"demand\": remove_included_txs,\n",
    "        \"basefee\": update_basefee,\n",
    "        \"latest_block\": record_latest_block,\n",
    "        \"loop_time\": end_loop\n",
    "    }\n",
    "}]\n",
    "\n",
    "initial_conditions = {\n",
    "    \"scenario\": tx_scenario,\n",
    "    \"basefee\": 5 * (10 ** 9),\n",
    "    \"demand\": {},\n",
    "    \"latest_block\": Block(txs=[]),\n",
    "    \"loop_time\": time.time()\n",
    "}\n",
    "\n",
    "simulation_parameters = {\n",
    "    'T': range(timesteps),\n",
    "    'N': 1,\n",
    "    'M': {}\n",
    "}\n",
    "\n",
    "config = Configuration(initial_state=initial_conditions,\n",
    "                       partial_state_update_blocks=psub,\n",
    "                       sim_config=simulation_parameters\n",
    "                      )\n",
    "\n",
    "exec_mode = ExecutionMode()\n",
    "exec_context = ExecutionContext(exec_mode.single_proc)\n",
    "executor = Executor(exec_context, [config]) # Pass the configuration object inside an array\n",
    "raw_result, tensor = executor.execute() # The `execute()` method returns a tuple; its first elements contains the raw results\n",
    "df = pd.DataFrame(raw_result)"
   ]
  },
  {
   "cell_type": "code",
   "execution_count": 34,
   "metadata": {},
   "outputs": [
    {
     "data": {
      "text/plain": [
       "<matplotlib.axes._subplots.AxesSubplot at 0x13b67fcf8>"
      ]
     },
     "execution_count": 34,
     "metadata": {},
     "output_type": "execute_result"
    },
    {
     "data": {
      "image/png": "[encoded data removed]",
      "text/plain": [
       "<Figure size 432x288 with 1 Axes>"
      ]
     },
     "metadata": {
      "needs_background": "light"
     },
     "output_type": "display_data"
    }
   ],
   "source": [
    "df[df.substep == 1].plot(\"timestep\", \"basefee\")"
   ]
  },
  {
   "cell_type": "code",
   "execution_count": 35,
   "metadata": {},
   "outputs": [
    {
     "data": {
      "text/plain": [
       "<matplotlib.axes._subplots.AxesSubplot at 0x13b417358>"
      ]
     },
     "execution_count": 35,
     "metadata": {},
     "output_type": "execute_result"
    },
    {
     "data": {
      "image/png": "[encoded data removed]",
      "text/plain": [
       "<Figure size 432x288 with 1 Axes>"
      ]
     },
     "metadata": {
      "needs_background": "light"
     },
     "output_type": "display_data"
    }
   ],
   "source": [
    "df[\"mempool_size\"] = df.demand.apply(\n",
    "    lambda demand: len(demand)\n",
    ")\n",
    "df[df.substep == 1].plot(\"timestep\", \"mempool_size\")"
   ]
  },
  {
   "cell_type": "code",
   "execution_count": 36,
   "metadata": {},
   "outputs": [
    {
     "data": {
      "text/plain": [
       "<matplotlib.axes._subplots.AxesSubplot at 0x13b2bfe80>"
      ]
     },
     "execution_count": 36,
     "metadata": {},
     "output_type": "execute_result"
    },
    {
     "data": {
      "image/png": "[encoded data removed]",
      "text/plain": [
       "<Figure size 432x288 with 1 Axes>"
      ]
     },
     "metadata": {
      "needs_background": "light"
     },
     "output_type": "display_data"
    }
   ],
   "source": [
    "df[\"included_txs\"] = df.latest_block.apply(\n",
    "    lambda block: len(block.txs)\n",
    ")\n",
    "df[df.substep == 1].plot(\"timestep\", \"included_txs\")"
   ]
  },
  {
   "cell_type": "markdown",
   "metadata": {},
   "source": [
    "Some pretty Diracs, triangle and square waves... Plug in a few synthesisers to this notebook and you'll get a Tangerine Dream album right there."
   ]
  },
  {
   "cell_type": "markdown",
   "metadata": {},
   "source": [
    "## A more realistic demand\n",
    "\n",
    "Let's summarise what we have done so far. We assume an _exogenous_ demand (i.e., we set it outside of our model, as a parameter). For now, this demand is really simple: people only want to use the chain to do a transfer, which uses 21,000 units of gas. Given the demand that they observe, block producers select which candidate transactions to include in their blocks. Since the demand is much lower than the actual target supply of gas (we have a demand of 100 transactions, 21,000 gas each, so 2,100,000 gas per block, far from the 10,000,000 target gas set in `constants`), in our simple model block producers are not strategic and simply include all known transactions. The premium (or \"tip\") in all transactions is set at 1 Gwei, which means that each block producer receives 100 Gwei in transaction fees for each block.\n",
    "\n",
    "This doesn't tell us much about our mechanism though. We would like instead to study how a more realistic demand for gas will change the behaviour of the basefee and the transaction fee market. For that, it is useful to glean some insights into how the demand behaved historically. Of course, we do not directly have access to this historical demand --- to do so, we would have needed to monitor every change of the mempool over time. What we do have access to though is the history of _included_ transactions in blocks, including the gas price and total fee they paid to get in.\n",
    "\n",
    "Since that fee was determined by the first-price auction mechanism, we cannot completely expect that the realised demand under a new mechanism will be the same. Maybe our EIP 1559 fee market is really good at coping with congestion and doesn't incent users to be strategic about their bidding, the way they were under the auction mechamism, leading to big price spikes during particularly juicy ICOs or caring for furry beings. In that case, the realised demand observed with the auction won't be a very good prediction for the demand under EIP 1559. Yet, out of the box this will be a much better approximation than making up numbers.\n",
    "\n",
    "The second motivation is to make the demand _endogenous_, i.e., model how the demand evolves, instead of generating sample demands based on historical prices. It is clear that the demand does not come out of nowhere: _exogenous_ events such as specific demand shocks (e.g., an ICO, a fun game, spikes of trading activity due to a nasty virus) or endogenous events such as the level of congestion and prices all affect the demand for gas. We may be able to infer just what makes the demand tick from these historical samples. So, instead of \"imitating\" past transactions, we could simulate the demand behaviour based on exogenous we define and endogenous events we record.\n",
    "\n",
    "(Note on this draft: I am still in the process of collecting past transaction records.)"
   ]
  },
  {
   "cell_type": "markdown",
   "metadata": {},
   "source": [
    "## Strategic concerns\n",
    "\n",
    "A different, orthogonal axis of analysis consists in looking at the micro-economic incentives of all _players_ involved in the transaction fee market. Specifically, we would really like to make sure that block producers cannot _game_ the EIP 1559 mechanism. Assuming a rational model for block producers (meaning they would act in a way to maximise their profits from the block producing), it seems clear from the get-go that producers will have an incentive to keep the size of the tip (relative to the basefee) as high as possible. How can that affect the mechanism?\n",
    "\n",
    "But users may be strategic too, deciding to delay their transaction if they expect the market to clear and basefee (or total expected fee) to be lower in the future. How do these strategic concerns interact?\n",
    "\n",
    "### Block producer censorship\n",
    "\n",
    "Is the following an equilibrium? For some value $f$ (in Gwei):\n",
    "\n",
    "- Block producers never include a transaction with tip lower than $f$.\n",
    "- If a block producer is seen to have included a transaction with tip lower than $f$, the block is orphaned.\n",
    "\n",
    "First we need to define the game.\n",
    "\n",
    "- At time $t$, we have a demand vector from users $(a^{(t)}_k)_k$. The user sending transaction $a^{(t)}_k$ has value $v^{(t)}_k$ for the transaction going through. Given some basefee $b(t)$ at time $t$, the fee paid by a user is\n",
    "\n",
    "$$ \\texttt{fee}(a^{(t)}_k) = \\texttt{gasused}(a^{(t)}_k) \\times (b(t) + \\texttt{premium}(a^{(t)}_k)) $$\n",
    "\n",
    "Users maximise $v^{(t)}_k - \\texttt{fee}(a^{(t)}_k)$.\n",
    "\n",
    "- We have $N$ block producers, commanding respectively fraction $\\alpha_i$ of the mining/staking power. The probability of producer $i$ to be selected to create a block is $\\alpha_i$. Given a block $B$, the premium received by the producer of $B$ is:\n",
    "\n",
    "$$ \\texttt{premium}(B) = \\sum_{a \\in B} \\texttt{premium}(a) $$\n"
   ]
  },
  {
   "cell_type": "markdown",
   "metadata": {},
   "source": [
    "## System dynamics\n",
    "\n",
    "We write out EIP 1559 as a dynamical system. Given\n",
    "\n",
    "- $b(0)$: the basefee at $t=0$,\n",
    "- $g$: a target gas per block,\n",
    "- $G$: the max gas limit per block, and\n",
    "- $d$: the basefee max change denominator $d$,\n",
    "\n",
    "we observe two dynamical processes:\n",
    "\n",
    "- $b(t)$ is the basefee at time $t \\in \\mathbb{N}$.\n",
    "- $g(t)$ is the total gas used by the block at time $t$, $g(t) \\in [0, G]$.\n",
    "\n",
    "This yields the following state dynamics:\n",
    "\n",
    "$$ b(t+1) = b(t) + b(t) \\frac{g(t) - c}{cd} = b(t) \\Big(1 + \\frac{g(t) - c}{cd} \\Big) $$\n",
    "\n",
    "Note in the expression above that the closer $g(t)$ is to $c$, the closer $g(t) - c$ is to zero, in which case the basefee at $t+1$ is equal to the basefee at $t$ (no change)."
   ]
  },
  {
   "cell_type": "markdown",
   "metadata": {},
   "source": [
    "### Bounding the rate of change\n",
    "\n",
    "How does basefee evolves? To answer, we look at $b(t+1) - b(t)$. Fortunately, given the last equation, this is not too difficult to compute.\n",
    "\n",
    "$$ b(t+1) - b(t) = b(t) + b(t) \\frac{g(t) - c}{cd} - b(t) = b(t) \\frac{g(t) - c}{cd} $$\n",
    "\n",
    "Let's get some intuition by assuming we are working with continuous time. Then we can rewrite:\n",
    "\n",
    "$$ \\frac{db(t)}{b(t)} = \\frac{g(t) - c}{cd} $$\n",
    "\n",
    "or in other words:\n",
    "\n",
    "$$ d\\log(b(t)) = \\frac{g(t) - c}{cd} $$\n",
    "\n",
    "$$ \\log(b(t)) = \\int_0^t \\frac{g(s) - c}{cd} ds + C $$\n",
    "\n",
    "$$ b(t) = \\exp \\Big(\\int_0^t \\frac{g(s) - c}{cd} ds + C \\Big) $$"
   ]
  },
  {
   "cell_type": "markdown",
   "metadata": {},
   "source": [
    "Since we know $b(0)$, we can derive $C$ as:\n",
    "\n",
    "$$ b(0) = \\exp C \\Rightarrow C = \\log(b(0)) $$\n",
    "\n",
    "and so\n",
    "\n",
    "$$ b(t) = b(0) \\exp \\Big(\\int_0^t \\frac{g(s) - c}{cd} ds \\Big) $$\n",
    "\n",
    "$$ b(t) = b(0) \\exp \\Big(\\frac{1}{cd} \\int_0^t g(s) ds - \\frac{t}{d} \\Big) $$\n",
    "\n",
    "$$ b(t) = b(0) \\exp \\Big(- \\frac{t}{d} \\Big) \\exp \\Big(\\frac{1}{cd} \\int_0^t g(s) ds \\Big) $$"
   ]
  },
  {
   "cell_type": "markdown",
   "metadata": {},
   "source": [
    "In discrete time, we can find out the rate of change:\n",
    "\n",
    "$$ r(t) = \\frac{b(t+1) - b(t)}{b(t)} = \\frac{g(t) - c}{cd} $$\n",
    "\n",
    "Since $0 \\leq g(t) \\leq G$, we find\n",
    "\n",
    "$$ -\\frac{1}{d} \\leq r(t) \\leq \\frac{G - c}{cd} $$\n",
    "\n",
    "In particular, when $G = 1.6 c$,\n",
    "\n",
    "$$ -\\frac{1}{d} \\leq r(t) \\leq \\frac{0.6}{d} $$"
   ]
  },
  {
   "cell_type": "code",
   "execution_count": null,
   "metadata": {},
   "outputs": [],
   "source": []
  },
  {
   "cell_type": "code",
   "execution_count": null,
   "metadata": {},
   "outputs": [],
   "source": []
  },
  {
   "cell_type": "code",
   "execution_count": null,
   "metadata": {},
   "outputs": [],
   "source": []
  },
  {
   "cell_type": "code",
   "execution_count": null,
   "metadata": {},
   "outputs": [],
   "source": []
  }
 ],
 "metadata": {
  "kernelspec": {
   "display_name": "Python 3",
   "language": "python",
   "name": "python3"
  },
  "language_info": {
   "codemirror_mode": {
    "name": "ipython",
    "version": 3
   },
   "file_extension": ".py",
   "mimetype": "text/x-python",
   "name": "python",
   "nbconvert_exporter": "python",
   "pygments_lexer": "ipython3",
   "version": "3.7.3"
  }
 },
 "nbformat": 4,
 "nbformat_minor": 4
}
