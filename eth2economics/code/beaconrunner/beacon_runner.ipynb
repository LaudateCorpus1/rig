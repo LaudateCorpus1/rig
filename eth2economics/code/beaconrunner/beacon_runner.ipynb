{
 "cells": [
  {
   "cell_type": "markdown",
   "metadata": {},
   "source": [
    "# _Beacon Runner_: A `BeaconState` cadCAD wrap\n",
    "\n",
    "###### January 2019, [@barnabemonnot](https://twitter.com/barnabemonnot)\n",
    "\n",
    "---\n",
    "\n",
    "Our goal in this document is to get the specs running in a [cadCAD](https://github.com/BlockScience/cadCAD) simulation environment, using the `BeaconState` object defined in the [eth2 specs](https://github.com/ethereum/eth2.0-specs/blob/dev/specs/core/0_beacon-chain.md). cadCAD is a cool new framework to simulate complex dynamics, in particular in stochastic environments. This makes it ideal to simulate the models of token economics and more generally any system that is controlled by state updates and user interactions. You can learn more about cadCAD by following [Markus Koch](https://twitter.com/markusbkoch)'s [tutorials](https://github.com/BlockScience/cadCAD/tree/master/tutorials), especially [part 5](https://github.com/BlockScience/cadCAD/blob/master/tutorials/robot-marbles-part-5/robot-marbles-part-5.ipynb) on using class objects as a state variable.\n",
    "\n",
    "In this notebook, we present the dynamics of block proposers on the beacon chain first, to get a feel of how the chain evolves over time. Then, we introduce validation proper, where validators cast votes to finalise the chain. If we think in game-theoretic terms, here we really just want to understand the basic space of decision-making of the several players in the protocol, as well as the information available to them when such decisions are made. We simplify the presentation by assuming there is no latency and all validators can always access the latest state. A more detailed model will relax these assumptions. \n",
    "\n",
    "We'll introduce basic building blocks of eth2 as we need them here, but there is a ton of resources out there to learn more ([Ben Edgington's portal](https://hackmd.io/@benjaminion/By6gV_dXS) is an excellent place to start for instance).\n",
    "\n",
    "Let's start! We first need to load a bunch of stuff. Make sure you have cadCAD installed, pandas and all the fluff that comes with your favourite Python distribution. Alternatively, find a cool guide [here](https://community.cadcad.org/t/python-newbies-setup-for-cadcad/101) to do all that painlessly."
   ]
  },
  {
   "cell_type": "code",
   "execution_count": 3,
   "metadata": {},
   "outputs": [],
   "source": [
    "from constants import SECONDS_PER_DAY, GENESIS_EPOCH, SLOTS_PER_HISTORICAL_ROOT, MAX_VALIDATORS_PER_COMMITTEE\n",
    "from specs import (\n",
    "    BeaconState, BeaconBlock, BeaconBlockHeader, BeaconBlockBody, SignedBeaconBlock,\n",
    "    Deposit, DepositData, Checkpoint, AttestationData, Attestation,\n",
    "    initialize_beacon_state_from_eth1, get_block_root, get_block_root_at_slot,\n",
    "    process_slots, process_block,\n",
    "    get_current_epoch, get_previous_epoch, compute_start_slot_at_epoch,\n",
    "    get_total_active_balance, get_committee_assignment, get_active_validator_indices\n",
    ")\n",
    "from ssz_impl import (hash_tree_root, signing_root)\n",
    "from ssz_typing import Bitlist\n",
    "from hash_function import hash\n",
    "from eth2 import eth_to_gwei\n",
    "\n",
    "import secrets\n",
    "\n",
    "from cadCAD.configuration import Configuration\n",
    "from cadCAD.engine import ExecutionMode, ExecutionContext, Executor\n",
    "import pandas as pd"
   ]
  },
  {
   "cell_type": "markdown",
   "metadata": {},
   "source": [
    "## Genesis state and genesis block\n",
    "\n",
    "Dynamical systems are usually rather compact to define. We need at the very least two things:\n",
    "\n",
    "- Some initial state.\n",
    "- The dynamics, or how state evolves over time.\n",
    "\n",
    "In this part we'll focus on the initial state. We create a dummy genesis state with a bunch of validators (10 of them) who deposit 32 ETH in the contract, the minimum required to start validating."
   ]
  },
  {
   "cell_type": "code",
   "execution_count": 4,
   "metadata": {},
   "outputs": [],
   "source": [
    "# Create an array of `Deposit` objects\n",
    "def get_initial_deposits(n):\n",
    "    return [Deposit(\n",
    "        data=DepositData(\n",
    "        amount=eth_to_gwei(32),\n",
    "        pubkey=secrets.token_bytes(48))\n",
    "    ) for i in range(n)]"
   ]
  },
  {
   "cell_type": "code",
   "execution_count": 5,
   "metadata": {},
   "outputs": [
    {
     "name": "stdout",
     "output_type": "stream",
     "text": [
      "0\n"
     ]
    }
   ],
   "source": [
    "hey = \"hello\"\n",
    "block_hash = hash(hey.encode(\"utf-8\"))\n",
    "eth1_timestamp = 1578009600\n",
    "\n",
    "genesis_state = initialize_beacon_state_from_eth1(block_hash, eth1_timestamp, get_initial_deposits(10))\n",
    "print(genesis_state.slot)"
   ]
  },
  {
   "cell_type": "markdown",
   "metadata": {},
   "source": [
    "Let's check the current _active_ balance! (returned here in ETH). We have 10 validators so this should tally up to 320."
   ]
  },
  {
   "cell_type": "code",
   "execution_count": 6,
   "metadata": {},
   "outputs": [
    {
     "data": {
      "text/plain": [
       "320.0"
      ]
     },
     "execution_count": 6,
     "metadata": {},
     "output_type": "execute_result"
    }
   ],
   "source": [
    "get_total_active_balance(genesis_state) / 1000000000"
   ]
  },
  {
   "cell_type": "markdown",
   "metadata": {},
   "source": [
    "In the specs, the first block is not proposed by a validator but obtained from the genesis state. We define a function to process the genesis block from the genesis state."
   ]
  },
  {
   "cell_type": "code",
   "execution_count": 7,
   "metadata": {},
   "outputs": [],
   "source": [
    "def process_genesis_block(state):\n",
    "    genesis_block = SignedBeaconBlock(\n",
    "        message=BeaconBlock(\n",
    "            state_root=hash_tree_root(genesis_state),\n",
    "            parent_root=hash_tree_root(genesis_state.latest_block_header)\n",
    "        )\n",
    "    )\n",
    "    process_block(state, genesis_block.message)\n",
    "    \n",
    "process_genesis_block(genesis_state)"
   ]
  },
  {
   "cell_type": "markdown",
   "metadata": {},
   "source": [
    "Finally, set the genesis state as the initial condition to our cadCAD execution."
   ]
  },
  {
   "cell_type": "code",
   "execution_count": 8,
   "metadata": {},
   "outputs": [],
   "source": [
    "initial_conditions = {\n",
    "    'beacon_state': genesis_state\n",
    "}"
   ]
  },
  {
   "cell_type": "markdown",
   "metadata": {},
   "source": [
    "## State evolution with block proposals\n",
    "\n",
    "We move on to defining the dynamics. Simple dynamical systems follow some rules to update their state, e.g., the orbits of planets are given by laws derived from attraction. More complex systems are _controlled_: decisions made by agents in the system influence the state evolution.\n",
    "\n",
    "In our setting, these agents are validators. State evolution is governed by the rules of the virtual machine, while validators get to decide on blocks and transactions. The resulting state is a combination of agent decisions and state updates. How validators make these decisions is embodied by _policy functions_: given a state, make a decision.\n",
    "\n",
    "In eth2, time is subdivided in _epochs_, themselves divided in _slots_. At most one block should be proposed at each slot, while accounting for votes and doling out rewards and penalties is done at the end of each epoch. Note that to speed things up in this document, we set the `SLOTS_PER_EPOCH` constant to 4 in the `constants.py` file. This is 8x faster than the value in the current specs. (ICO when???)\n",
    "\n",
    "We now define policies and state updates to run the simulation. Let's take a moment to understand how state transitions work in the [eth2 specs](https://github.com/ethereum/eth2.0-specs/blob/dev/specs/core/0_beacon-chain.md), with notation we introduce here to clarify the different states.\n",
    "\n",
    "1. Given a slot $s$, define $\\omega^-[s]$ as the _pre-state_ of $s$. Once a block $b_s$ is proposed for slot $s$, the specs-defined `process_block` obtains state $\\omega^+[s]$ from $\\omega^-[s]$ and $b_s$.\n",
    "2. To go from $\\omega^+[s]$ to $\\omega^-[s+1]$, the specs-defined `process_slots` caches the block root of $b_s$ and the state root. If $s+1$ is the first slot of a new epoch, `process_epoch` is called which checks for justification and finalisation of checkpoints as well as attribute rewards and punishments to active validators and process exits and new entries.\n",
    "3. From $\\omega^-[s+1]$, we repeat the first two steps.\n",
    "\n",
    "Let's talk about the start of this process. The `genesis_state` object defined above really is $\\omega^-[0]$. When we call `process_genesis_block`, we move to $\\omega^+[0]$. This is the **initial condition** of our simulations.\n",
    "\n",
    "In our simulation, we move the state ahead given a block $b_s$ for slot $s$ from $\\omega^+[s-1]$ to $\\omega^+[s]$. We will break it down in three steps:\n",
    "\n",
    "1. **(State update)** Process slot `s-1`, moving from $\\omega^+[s-1]$ to $\\omega^-[s]$. If a block was proposed during slot $s-1$, the root of the block is cached in the `block_roots` attribute of $\\omega^-[s]$, at index `s-1`. Otherwise, the root of the most recent block is cached. Additionally, if `s-1` is the last slot of an epoch, `process_epoch` is called.\n",
    "2. **(Policy)** A policy for block proposers to propose a new block $b_s$ at slot $s$.\n",
    "3. **(State update)** Process block $b_s$, taking $\\omega^-[s]$ to $\\omega^+[s]$.\n",
    "\n",
    "Let's do this step by step:\n",
    "\n",
    "### 1. Process slot\n",
    "\n",
    "The arguments of this function are given to us by the cadCAD execution environment. `s` holds the current state of the simulation, where `s['beacon_state']` returns the current beacon state. Remember that we had set the initial state $\\omega^+[0]$ as the `beacon_state` attribute of the `initial_conditions` dictionary."
   ]
  },
  {
   "cell_type": "code",
   "execution_count": 9,
   "metadata": {},
   "outputs": [],
   "source": [
    "def state_update_slot(params, step, sL, s, _input):\n",
    "    # Given state w+[s], transition to w-[s+1]\n",
    "    \n",
    "    # state is w+[s]\n",
    "    state = s['beacon_state']\n",
    "    \n",
    "    process_slots(state, state.slot + 1)\n",
    "    \n",
    "    return ('beacon_state', state)"
   ]
  },
  {
   "cell_type": "markdown",
   "metadata": {},
   "source": [
    "### 2. Propose a block\n",
    "\n",
    "We have more latitude to define what happens at this step. We can for instance make the difference between an honest validator who returns a block when they are the block proposer, given the most current state, and an offline validator who just does not produce anything. Given a state, each will return a different item."
   ]
  },
  {
   "cell_type": "code",
   "execution_count": 10,
   "metadata": {},
   "outputs": [],
   "source": [
    "def honest_block_proposal(state):\n",
    "    # State is w-[s], block will be proposed for slot s\n",
    "    \n",
    "    # Later on, we populate the `BeaconBlockBody`. For now, our validators merely produce empty blocks.\n",
    "    beacon_block_body = BeaconBlockBody()\n",
    "    \n",
    "    beacon_block = BeaconBlock(\n",
    "        slot=state.slot,\n",
    "        # the parent root is accessed from the state\n",
    "        parent_root=get_block_root_at_slot(state, state.slot-1),\n",
    "        body=beacon_block_body\n",
    "    )\n",
    "    signed_beacon_block = SignedBeaconBlock(message=beacon_block)\n",
    "    \n",
    "    print(\"honest propose a block for slot\", state.slot)\n",
    "    return signed_beacon_block"
   ]
  },
  {
   "cell_type": "code",
   "execution_count": 11,
   "metadata": {},
   "outputs": [],
   "source": [
    "def offline_block_proposal(state):\n",
    "    print(\"offline propose nothing for slot\", state.slot)\n",
    "    return None"
   ]
  },
  {
   "cell_type": "markdown",
   "metadata": {},
   "source": [
    "We now define the policy function of step 2, again using the arguments that the cadCAD environment gives us. In this simulation, we'll assume that an honest and an offline validator propose in turn, so we only have blocks on even slots."
   ]
  },
  {
   "cell_type": "code",
   "execution_count": 12,
   "metadata": {},
   "outputs": [],
   "source": [
    "def propose_block(params, step, sL, s):\n",
    "    # Given state w-[s], propose a block for slot s\n",
    "    \n",
    "    # `state` is w-[s]\n",
    "    state = s['beacon_state']\n",
    "    \n",
    "    if state.slot % 2 == 0:\n",
    "        block = honest_block_proposal(state)\n",
    "    else:\n",
    "        block = offline_block_proposal(state)\n",
    "        \n",
    "    return ({ 'block': block })"
   ]
  },
  {
   "cell_type": "markdown",
   "metadata": {},
   "source": [
    "### 3. Process the block\n",
    "\n",
    "Given a block, we can run the state transition by calling `process_block`. We get the block proposed in step 2 as the `block` attribute of `_input`."
   ]
  },
  {
   "cell_type": "code",
   "execution_count": 13,
   "metadata": {},
   "outputs": [],
   "source": [
    "def state_update_block(params, step, sL, s, _input):\n",
    "    state = s['beacon_state']\n",
    "    block = _input['block']\n",
    "    \n",
    "    if block is None:\n",
    "        # No change to the state\n",
    "        return ('beacon_state', state)\n",
    "    \n",
    "    # Otherwise we process the block first and return the state\n",
    "    process_block(state, block.message)\n",
    "    \n",
    "    return ('beacon_state', state)"
   ]
  },
  {
   "cell_type": "markdown",
   "metadata": {},
   "source": [
    "## Putting it all together\n",
    "\n",
    "The previous three steps are recorded in the `block_proposal_psub` array. `psub` stands for _partial state updates blocks_, the building blocks of a cadCAD simulation."
   ]
  },
  {
   "cell_type": "code",
   "execution_count": 14,
   "metadata": {},
   "outputs": [],
   "source": [
    "block_proposal_psub = [\n",
    "    {\n",
    "        'policies': {\n",
    "        },\n",
    "        'variables': {\n",
    "            'beacon_state': state_update_slot # step 1\n",
    "        }\n",
    "    },\n",
    "    {\n",
    "        'policies': {\n",
    "            'action': propose_block # step 2\n",
    "        },\n",
    "        'variables': {\n",
    "            'beacon_state': state_update_block # step 3\n",
    "        }\n",
    "    }\n",
    "]"
   ]
  },
  {
   "cell_type": "markdown",
   "metadata": {},
   "source": [
    "### Execution\n",
    "\n",
    "We first give parameters to run the simulation. The `T` variable corresponds to slots in the beacon chain execution."
   ]
  },
  {
   "cell_type": "code",
   "execution_count": 15,
   "metadata": {},
   "outputs": [],
   "source": [
    "simulation_parameters = {\n",
    "    'T': range(15),\n",
    "    'N': 1,\n",
    "    'M': {}\n",
    "}"
   ]
  },
  {
   "cell_type": "markdown",
   "metadata": {},
   "source": [
    "We set up our cadCAD execution with the pieces we created above."
   ]
  },
  {
   "cell_type": "code",
   "execution_count": 16,
   "metadata": {},
   "outputs": [],
   "source": [
    "config = Configuration(initial_state=initial_conditions,\n",
    "                       partial_state_update_blocks=block_proposal_psub,\n",
    "                       sim_config=simulation_parameters\n",
    "                      )"
   ]
  },
  {
   "cell_type": "markdown",
   "metadata": {},
   "source": [
    "Run it! (This may take some time)"
   ]
  },
  {
   "cell_type": "code",
   "execution_count": 17,
   "metadata": {},
   "outputs": [
    {
     "name": "stdout",
     "output_type": "stream",
     "text": [
      "\n",
      "                            __________   ____ \n",
      "          ________ __ _____/ ____/   |  / __ \\\n",
      "         / ___/ __` / __  / /   / /| | / / / /\n",
      "        / /__/ /_/ / /_/ / /___/ ___ |/ /_/ / \n",
      "        \\___/\\__,_/\\__,_/\\____/_/  |_/_____/  \n",
      "        by BlockScience\n",
      "        \n",
      "Execution Mode: single_proc: [<cadCAD.configuration.Configuration object at 0x1177537f0>]\n",
      "Configurations: [<cadCAD.configuration.Configuration object at 0x1177537f0>]\n",
      "offline propose nothing for slot 1\n",
      "honest propose a block for slot 2\n",
      "offline propose nothing for slot 3\n",
      "START PROCESS EPOCH 0\n",
      "not processing justification and finalization\n",
      "END PROCESS EPOCH\n",
      "honest propose a block for slot 4\n",
      "offline propose nothing for slot 5\n",
      "honest propose a block for slot 6\n",
      "offline propose nothing for slot 7\n",
      "START PROCESS EPOCH 1\n",
      "not processing justification and finalization\n",
      "END PROCESS EPOCH\n",
      "honest propose a block for slot 8\n",
      "offline propose nothing for slot 9\n",
      "honest propose a block for slot 10\n",
      "offline propose nothing for slot 11\n",
      "START PROCESS EPOCH 2\n",
      "old_previous 0\n",
      "old_current 0\n",
      "justification bits Bitvector[boolean, 4](0, 0, 0, 0)\n",
      "finalised checkpoint 0\n",
      "END PROCESS EPOCH\n",
      "honest propose a block for slot 12\n",
      "offline propose nothing for slot 13\n",
      "honest propose a block for slot 14\n",
      "offline propose nothing for slot 15\n"
     ]
    }
   ],
   "source": [
    "exec_mode = ExecutionMode()\n",
    "exec_context = ExecutionContext(exec_mode.single_proc)\n",
    "executor = Executor(exec_context, [config]) # Pass the configuration object inside an array\n",
    "raw_result, tensor = executor.execute() # The `execute()` method returns a tuple; its first elements contains the raw results\n",
    "df = pd.DataFrame(raw_result)"
   ]
  },
  {
   "cell_type": "markdown",
   "metadata": {},
   "source": [
    "The historical sequence of states is held in the `df` dataframe, let's take a look."
   ]
  },
  {
   "cell_type": "code",
   "execution_count": 18,
   "metadata": {},
   "outputs": [
    {
     "data": {
      "text/html": [
       "<div>\n",
       "<style scoped>\n",
       "    .dataframe tbody tr th:only-of-type {\n",
       "        vertical-align: middle;\n",
       "    }\n",
       "\n",
       "    .dataframe tbody tr th {\n",
       "        vertical-align: top;\n",
       "    }\n",
       "\n",
       "    .dataframe thead th {\n",
       "        text-align: right;\n",
       "    }\n",
       "</style>\n",
       "<table border=\"1\" class=\"dataframe\">\n",
       "  <thead>\n",
       "    <tr style=\"text-align: right;\">\n",
       "      <th></th>\n",
       "      <th>substep</th>\n",
       "      <th>timestep</th>\n",
       "      <th>latest_block_root</th>\n",
       "    </tr>\n",
       "  </thead>\n",
       "  <tbody>\n",
       "    <tr>\n",
       "      <th>0</th>\n",
       "      <td>0</td>\n",
       "      <td>0</td>\n",
       "      <td>89f88d</td>\n",
       "    </tr>\n",
       "    <tr>\n",
       "      <th>1</th>\n",
       "      <td>1</td>\n",
       "      <td>1</td>\n",
       "      <td>668307</td>\n",
       "    </tr>\n",
       "    <tr>\n",
       "      <th>2</th>\n",
       "      <td>2</td>\n",
       "      <td>1</td>\n",
       "      <td>668307</td>\n",
       "    </tr>\n",
       "    <tr>\n",
       "      <th>3</th>\n",
       "      <td>1</td>\n",
       "      <td>2</td>\n",
       "      <td>668307</td>\n",
       "    </tr>\n",
       "    <tr>\n",
       "      <th>4</th>\n",
       "      <td>2</td>\n",
       "      <td>2</td>\n",
       "      <td>402911</td>\n",
       "    </tr>\n",
       "    <tr>\n",
       "      <th>5</th>\n",
       "      <td>1</td>\n",
       "      <td>3</td>\n",
       "      <td>fcc9dc</td>\n",
       "    </tr>\n",
       "    <tr>\n",
       "      <th>6</th>\n",
       "      <td>2</td>\n",
       "      <td>3</td>\n",
       "      <td>fcc9dc</td>\n",
       "    </tr>\n",
       "    <tr>\n",
       "      <th>7</th>\n",
       "      <td>1</td>\n",
       "      <td>4</td>\n",
       "      <td>fcc9dc</td>\n",
       "    </tr>\n",
       "    <tr>\n",
       "      <th>8</th>\n",
       "      <td>2</td>\n",
       "      <td>4</td>\n",
       "      <td>b4f0fe</td>\n",
       "    </tr>\n",
       "    <tr>\n",
       "      <th>9</th>\n",
       "      <td>1</td>\n",
       "      <td>5</td>\n",
       "      <td>a01f46</td>\n",
       "    </tr>\n",
       "    <tr>\n",
       "      <th>10</th>\n",
       "      <td>2</td>\n",
       "      <td>5</td>\n",
       "      <td>a01f46</td>\n",
       "    </tr>\n",
       "    <tr>\n",
       "      <th>11</th>\n",
       "      <td>1</td>\n",
       "      <td>6</td>\n",
       "      <td>a01f46</td>\n",
       "    </tr>\n",
       "    <tr>\n",
       "      <th>12</th>\n",
       "      <td>2</td>\n",
       "      <td>6</td>\n",
       "      <td>77c713</td>\n",
       "    </tr>\n",
       "    <tr>\n",
       "      <th>13</th>\n",
       "      <td>1</td>\n",
       "      <td>7</td>\n",
       "      <td>499bb0</td>\n",
       "    </tr>\n",
       "    <tr>\n",
       "      <th>14</th>\n",
       "      <td>2</td>\n",
       "      <td>7</td>\n",
       "      <td>499bb0</td>\n",
       "    </tr>\n",
       "    <tr>\n",
       "      <th>15</th>\n",
       "      <td>1</td>\n",
       "      <td>8</td>\n",
       "      <td>499bb0</td>\n",
       "    </tr>\n",
       "    <tr>\n",
       "      <th>16</th>\n",
       "      <td>2</td>\n",
       "      <td>8</td>\n",
       "      <td>a87349</td>\n",
       "    </tr>\n",
       "    <tr>\n",
       "      <th>17</th>\n",
       "      <td>1</td>\n",
       "      <td>9</td>\n",
       "      <td>243fdc</td>\n",
       "    </tr>\n",
       "    <tr>\n",
       "      <th>18</th>\n",
       "      <td>2</td>\n",
       "      <td>9</td>\n",
       "      <td>243fdc</td>\n",
       "    </tr>\n",
       "    <tr>\n",
       "      <th>19</th>\n",
       "      <td>1</td>\n",
       "      <td>10</td>\n",
       "      <td>243fdc</td>\n",
       "    </tr>\n",
       "    <tr>\n",
       "      <th>20</th>\n",
       "      <td>2</td>\n",
       "      <td>10</td>\n",
       "      <td>1a2e35</td>\n",
       "    </tr>\n",
       "    <tr>\n",
       "      <th>21</th>\n",
       "      <td>1</td>\n",
       "      <td>11</td>\n",
       "      <td>873e9b</td>\n",
       "    </tr>\n",
       "    <tr>\n",
       "      <th>22</th>\n",
       "      <td>2</td>\n",
       "      <td>11</td>\n",
       "      <td>873e9b</td>\n",
       "    </tr>\n",
       "    <tr>\n",
       "      <th>23</th>\n",
       "      <td>1</td>\n",
       "      <td>12</td>\n",
       "      <td>873e9b</td>\n",
       "    </tr>\n",
       "    <tr>\n",
       "      <th>24</th>\n",
       "      <td>2</td>\n",
       "      <td>12</td>\n",
       "      <td>e3b283</td>\n",
       "    </tr>\n",
       "    <tr>\n",
       "      <th>25</th>\n",
       "      <td>1</td>\n",
       "      <td>13</td>\n",
       "      <td>8a94a2</td>\n",
       "    </tr>\n",
       "    <tr>\n",
       "      <th>26</th>\n",
       "      <td>2</td>\n",
       "      <td>13</td>\n",
       "      <td>8a94a2</td>\n",
       "    </tr>\n",
       "    <tr>\n",
       "      <th>27</th>\n",
       "      <td>1</td>\n",
       "      <td>14</td>\n",
       "      <td>8a94a2</td>\n",
       "    </tr>\n",
       "    <tr>\n",
       "      <th>28</th>\n",
       "      <td>2</td>\n",
       "      <td>14</td>\n",
       "      <td>0c70cb</td>\n",
       "    </tr>\n",
       "    <tr>\n",
       "      <th>29</th>\n",
       "      <td>1</td>\n",
       "      <td>15</td>\n",
       "      <td>f5f576</td>\n",
       "    </tr>\n",
       "    <tr>\n",
       "      <th>30</th>\n",
       "      <td>2</td>\n",
       "      <td>15</td>\n",
       "      <td>f5f576</td>\n",
       "    </tr>\n",
       "  </tbody>\n",
       "</table>\n",
       "</div>"
      ],
      "text/plain": [
       "    substep  timestep latest_block_root\n",
       "0         0         0            89f88d\n",
       "1         1         1            668307\n",
       "2         2         1            668307\n",
       "3         1         2            668307\n",
       "4         2         2            402911\n",
       "5         1         3            fcc9dc\n",
       "6         2         3            fcc9dc\n",
       "7         1         4            fcc9dc\n",
       "8         2         4            b4f0fe\n",
       "9         1         5            a01f46\n",
       "10        2         5            a01f46\n",
       "11        1         6            a01f46\n",
       "12        2         6            77c713\n",
       "13        1         7            499bb0\n",
       "14        2         7            499bb0\n",
       "15        1         8            499bb0\n",
       "16        2         8            a87349\n",
       "17        1         9            243fdc\n",
       "18        2         9            243fdc\n",
       "19        1        10            243fdc\n",
       "20        2        10            1a2e35\n",
       "21        1        11            873e9b\n",
       "22        2        11            873e9b\n",
       "23        1        12            873e9b\n",
       "24        2        12            e3b283\n",
       "25        1        13            8a94a2\n",
       "26        2        13            8a94a2\n",
       "27        1        14            8a94a2\n",
       "28        2        14            0c70cb\n",
       "29        1        15            f5f576\n",
       "30        2        15            f5f576"
      ]
     },
     "execution_count": 18,
     "metadata": {},
     "output_type": "execute_result"
    }
   ],
   "source": [
    "df['latest_block_root'] = df.beacon_state.apply(lambda state: hash_tree_root(state.latest_block_header).hex()[0:6])\n",
    "df.iloc[:,2:5]"
   ]
  },
  {
   "cell_type": "markdown",
   "metadata": {},
   "source": [
    "We give the last few bytes of the latest block header root in the state. Timesteps virtually represent slots of the beacon chain. For each timestep, we have two substeps since we have two partial state update blocks.\n",
    "\n",
    "- At timestep `s` and substep 1, the state is $\\omega^-[s]$.\n",
    "- At timestep `s` and substep 2, the state is $\\omega^+[s]$.\n",
    "\n",
    "_Note:_ The block root does not change during odd timesteps. This is because we have offline validators who do not propose blocks then.\n",
    "\n",
    "_Also note:_ The latest block root in substep 2 of even timesteps is unique. Before we process the slot, the `state_root` attribute of the latest block header saved in the state is not set. When we process the slot, this state root is set and this changes the `latest_block_root` hash.\n",
    "\n",
    "Finally, we can check whether checkpoints (i.e., blocks between epochs) are being finalised, which is why we care about the beacon chain in the first place."
   ]
  },
  {
   "cell_type": "code",
   "execution_count": 19,
   "metadata": {},
   "outputs": [
    {
     "data": {
      "text/plain": [
       "{'epoch': 0, 'root': b'\\x00\\x00\\x00\\x00\\x00\\x00\\x00\\x00\\x00\\x00\\x00\\x00\\x00\\x00\\x00\\x00\\x00\\x00\\x00\\x00\\x00\\x00\\x00\\x00\\x00\\x00\\x00\\x00\\x00\\x00\\x00\\x00'}"
      ]
     },
     "execution_count": 19,
     "metadata": {},
     "output_type": "execute_result"
    }
   ],
   "source": [
    "df.iloc[30]['beacon_state'].finalized_checkpoint"
   ]
  },
  {
   "cell_type": "markdown",
   "metadata": {},
   "source": [
    "Nope! The last finalised checkpoint is still the genesis block. The blocks are empty since we restricted validators to their block proposer roles. Time to have them vote on the canonical chain and start finalising!"
   ]
  },
  {
   "cell_type": "markdown",
   "metadata": {},
   "source": [
    "## Once more with attestations\n",
    "\n",
    "We create new policies to make validators attest on the blocks of the beacon chain. Attestations are \"votes\" in the FFG gadget, committing to checkpoints and beacon chain blocks. _All_ active validators are called on to produce one attestation during each epoch. Each validator is assigned to _one_ slot to make the attestation at, preferably right after they have received the block proposed for that slot.\n",
    "\n",
    "So attestations should contain:\n",
    "- A _source_ attribute: the last justified checkpoint the validator knows about.\n",
    "- A _target_ attribute: the last non-justified checkpoint the validator knows about.\n",
    "- A _head_ attribute: what the validator sees as the current tip of the beacon chain, preferably the block proposed for their assigned slot.\n",
    "- A _slot_ attribute: the slot assigned to the validator.\n",
    "\n",
    "Admittedly, we are cheating a bit here. Since we assume our validators are honest and there is no latency, they are instantly up-to-date with the latest chain state, so we can use the `BeaconState` attributes to form validator attestations. In reality, validators should run the fork choice to decide which is the head of the beacon chain.\n",
    "\n",
    "We start at some state $\\omega^+[s-1]$, i.e., the post-state of slot $s-1$.\n",
    "\n",
    "1. **(State update)** We move the state from $\\omega^+[s-1]$ to $\\omega^-[s]$.\n",
    "2. **(Policy)** Validators at state $\\omega^-[s]$ make attestations for slot $s-1$. These attestations contain a source and target for their FFG vote and the head of the chain according to their view of the beacon chain (in this case, $b_{s-1}$).\n",
    "3. **(State update)** These attestations are kept in the simulation state space as `current_slot_attestations`.\n",
    "4. **(Policy)** Someone proposes a block $b_s$ at slot $s$. Note that $b_s$ contains attestations made by validators in committees at slot $s-1$, which are kept in `current_slot_attestations`.\n",
    "5. **(State update)** The state transitions to $\\omega^+[s]$ when the block is processed."
   ]
  },
  {
   "cell_type": "markdown",
   "metadata": {},
   "source": [
    "### 1. Process slot\n",
    "\n",
    "We already have a state transition function for that, our previously defined `state_update_slot`."
   ]
  },
  {
   "cell_type": "markdown",
   "metadata": {},
   "source": [
    "### 2. Attestation policy\n",
    "\n",
    "Let's focus on the new step here, step \\#2. We first need to create honest attestations from validators."
   ]
  },
  {
   "cell_type": "code",
   "execution_count": 20,
   "metadata": {},
   "outputs": [],
   "source": [
    "def honest_attest(state, validator_index):\n",
    "    # Given state w-[s], validators in committees of slot `s-1` form their attestations\n",
    "    # In several places here, we need to check whether `s` is the first slot of a new epoch.\n",
    "    \n",
    "    current_epoch = get_current_epoch(state)\n",
    "    previous_epoch = get_previous_epoch(state)\n",
    "    \n",
    "    # Since everyone is honest, we can assume that validators attesting during some epoch e\n",
    "    # choose the first block of e as their target, and the first block of e-1 as their source\n",
    "    # checkpoint.\n",
    "    #\n",
    "    # So let's assume the validator here is making an attestation at slot s in epoch e:\n",
    "    #\n",
    "    # - If the `state` variable is at epoch e, then the first block of epoch e-1 is\n",
    "    # a checkpoint held in `state.current_justified_checkpoint`.\n",
    "    # The target checkpoint root is obtained by calling\n",
    "    # `get_block_root(state, current_epoch)` (since current_epoch = e).\n",
    "    #\n",
    "    # - If the `state` variable is at epoch e+1, then the first block of epoch e-1\n",
    "    # is a checkpoint held in `state.previous_justified_checkpoint`,\n",
    "    # since in the meantime the first block of e was justified.\n",
    "    # This is the case when s is the last slot of epoch e.\n",
    "    # The target checkpoint root is obtained by calling\n",
    "    # `get_block_root(state, previous_epoch)` (since current_epoch = e+1).\n",
    "    #\n",
    "    # ... still here?\n",
    "    \n",
    "    # If `state` is already at the start of a new epoch e+1\n",
    "    if state.slot == compute_start_slot_at_epoch(current_epoch):\n",
    "        # `committee_slot` is equal to s-1\n",
    "        (committee, committee_index, committee_slot) = get_committee_assignment(\n",
    "            state, previous_epoch, validator_index\n",
    "        )\n",
    "        \n",
    "        # Since we are at state w-[s], we can get the block root of the block at slot s-1.\n",
    "        block_root = get_block_root_at_slot(state, committee_slot)\n",
    "        \n",
    "        src_checkpoint = Checkpoint(\n",
    "            epoch=state.previous_justified_checkpoint.epoch,\n",
    "            root=state.previous_justified_checkpoint.root\n",
    "        )\n",
    "        \n",
    "        tgt_checkpoint = Checkpoint(\n",
    "            epoch=previous_epoch,\n",
    "            root=get_block_root(state, previous_epoch)\n",
    "        )\n",
    "    # Otherwise, if `state` is at epoch e\n",
    "    else:\n",
    "        # `committee_slot` is equal to s-1\n",
    "        (committee, committee_index, committee_slot) = get_committee_assignment(\n",
    "            state, current_epoch, validator_index\n",
    "        )\n",
    "        \n",
    "        # Since we are at state w-[s], we can get the block root of the block at slot s-1.\n",
    "        block_root = get_block_root_at_slot(state, committee_slot)\n",
    "        \n",
    "        src_checkpoint = Checkpoint(\n",
    "            epoch=state.current_justified_checkpoint.epoch,\n",
    "            root=state.current_justified_checkpoint.root\n",
    "        )\n",
    "        \n",
    "        tgt_checkpoint = Checkpoint(\n",
    "            epoch=current_epoch,\n",
    "            root=get_block_root(state, current_epoch)\n",
    "        )\n",
    "        \n",
    "    att_data = AttestationData(\n",
    "        index = committee_index,\n",
    "        slot = committee_slot,\n",
    "        beacon_block_root = block_root,\n",
    "        source = src_checkpoint,\n",
    "        target = tgt_checkpoint\n",
    "    )\n",
    "    \n",
    "    print(\"attestation for source\", src_checkpoint.epoch, \"and target\", tgt_checkpoint.epoch)\n",
    "    \n",
    "    # For now we disregard aggregation of attestations.\n",
    "    # Some validators are chosen as aggregators: they take a bunch of identical attestations\n",
    "    # and join them together in one object,\n",
    "    # with `aggregation_bits` identifying which validators are part of the aggregation.\n",
    "    committee_size = len(committee)\n",
    "    index_in_committee = committee.index(validator_index)\n",
    "    aggregation_bits = Bitlist[MAX_VALIDATORS_PER_COMMITTEE](*([0] * committee_size))\n",
    "    aggregation_bits[index_in_committee] = True # set the aggregation bits of the validator to True\n",
    "    attestation = Attestation(\n",
    "        aggregation_bits=aggregation_bits,\n",
    "        data=att_data\n",
    "    )\n",
    "    \n",
    "    return attestation"
   ]
  },
  {
   "cell_type": "markdown",
   "metadata": {},
   "source": [
    "We can use this `honest_attest` function in our policy function for step \\#2, `honest_attest_policy`."
   ]
  },
  {
   "cell_type": "code",
   "execution_count": 21,
   "metadata": {},
   "outputs": [],
   "source": [
    "def honest_attest_policy(params, step, sL, s):\n",
    "    # Collect all attestations formed for slot s-1.\n",
    "    \n",
    "    # `state` is at w-[s]\n",
    "    state = s['beacon_state']\n",
    "    current_epoch = get_current_epoch(state)\n",
    "    previous_epoch = get_previous_epoch(state)\n",
    "    \n",
    "    # `validator_epoch` is the epoch of slot s-1.\n",
    "    # - If the state is already ahead by one epoch, this is given by `previous_epoch`\n",
    "    # - Otherwise it is `current_epoch`\n",
    "    if state.slot == compute_start_slot_at_epoch(current_epoch):\n",
    "        validator_epoch = previous_epoch\n",
    "    else:\n",
    "        validator_epoch = current_epoch\n",
    "        \n",
    "    active_validator_indices = get_active_validator_indices(state, validator_epoch)\n",
    "    slot_attestations = []\n",
    "    \n",
    "    for validator_index in active_validator_indices:\n",
    "        # For each validator, check which committee they belong to\n",
    "        (committee, committee_index, committee_slot) = get_committee_assignment(\n",
    "            state, validator_epoch, validator_index\n",
    "        )\n",
    "        \n",
    "        # If they belong to a committee attesting for slot s-1, we ask them to form an attestation\n",
    "        # using `honest_attest` defined above.\n",
    "        if committee_slot+1 == state.slot:\n",
    "            print(\"validator attesting\", validator_index, \"for slot\", committee_slot)\n",
    "            attestation = honest_attest(state, validator_index)\n",
    "            slot_attestations.append(attestation)\n",
    "            \n",
    "    return({ 'slot_attestations': slot_attestations })"
   ]
  },
  {
   "cell_type": "markdown",
   "metadata": {},
   "source": [
    "### 3. Keep attestations in state\n",
    "\n",
    "Step \\#3 is easily handled with one single state update."
   ]
  },
  {
   "cell_type": "code",
   "execution_count": 22,
   "metadata": {},
   "outputs": [],
   "source": [
    "def update_current_slot_attestations(params, step, sL, s, _input):\n",
    "    # Take the output of `honest_attest_policy` and set it as `current_slot_attestations`\n",
    "    return('current_slot_attestations', _input['slot_attestations'])"
   ]
  },
  {
   "cell_type": "markdown",
   "metadata": {},
   "source": [
    "### 4. Block proposal policy\n",
    "\n",
    "We must update our block proposal policy to include latest attestations. This time, we do not include offline block proposers."
   ]
  },
  {
   "cell_type": "code",
   "execution_count": 23,
   "metadata": {},
   "outputs": [],
   "source": [
    "def honest_block_proposal(state, attestations):\n",
    "    # State is w-[s], block will be proposed for slot s\n",
    "    \n",
    "    beacon_block_body = BeaconBlockBody(\n",
    "        attestations=attestations\n",
    "    )\n",
    "    \n",
    "    beacon_block = BeaconBlock(\n",
    "        slot=state.slot,\n",
    "        # the parent root is accessed from the state\n",
    "        parent_root=get_block_root_at_slot(state, state.slot-1),\n",
    "        body=beacon_block_body\n",
    "    )\n",
    "    signed_beacon_block = SignedBeaconBlock(message=beacon_block)\n",
    "    \n",
    "    print(\"honest propose a block for slot\", state.slot)\n",
    "    return signed_beacon_block"
   ]
  },
  {
   "cell_type": "code",
   "execution_count": 24,
   "metadata": {},
   "outputs": [],
   "source": [
    "def propose_block(params, step, sL, s):\n",
    "    # Given state w-[s], propose a block for slot s\n",
    "    \n",
    "    # `state` is w-[s]\n",
    "    state = s['beacon_state']\n",
    "    # We get the output of our honest attestation policy\n",
    "    attestations = s['current_slot_attestations']\n",
    "    \n",
    "    block = honest_block_proposal(state, attestations)\n",
    "        \n",
    "    return ({ 'block': block })"
   ]
  },
  {
   "cell_type": "markdown",
   "metadata": {},
   "source": [
    "### 5. Process block\n",
    "\n",
    "We also have a state update for this step, `state_update_block`, which we do not need to change."
   ]
  },
  {
   "cell_type": "markdown",
   "metadata": {},
   "source": [
    "### Simulation time!\n",
    "\n",
    "Our PSUB array becomes:"
   ]
  },
  {
   "cell_type": "code",
   "execution_count": 25,
   "metadata": {},
   "outputs": [],
   "source": [
    "block_attestation_psub = [\n",
    "    # Step 1\n",
    "    {\n",
    "        'policies':{\n",
    "        },\n",
    "        'variables': {\n",
    "            'beacon_state': state_update_slot\n",
    "        }\n",
    "    },\n",
    "    # Step 2+3\n",
    "    {\n",
    "        'policies': {\n",
    "            'action': honest_attest_policy\n",
    "        },\n",
    "        'variables': {\n",
    "            'current_slot_attestations': update_current_slot_attestations\n",
    "        }\n",
    "    },\n",
    "    # Step 4+5\n",
    "    {\n",
    "        'policies': {\n",
    "            'action': propose_block\n",
    "        },\n",
    "        'variables': {\n",
    "            'beacon_state': state_update_block\n",
    "        }\n",
    "    }\n",
    "]"
   ]
  },
  {
   "cell_type": "markdown",
   "metadata": {},
   "source": [
    "We need to change our initial conditions to add the `current_slot_attestations` state attribute, which starts out empty. To keep the overhead low, we set a low number of validators and run the simulation for 20 slots."
   ]
  },
  {
   "cell_type": "code",
   "execution_count": 26,
   "metadata": {},
   "outputs": [],
   "source": [
    "%%capture\n",
    "\n",
    "num_validators = 10\n",
    "\n",
    "genesis_state = initialize_beacon_state_from_eth1(\n",
    "    block_hash, eth1_timestamp, get_initial_deposits(num_validators)\n",
    ")\n",
    "\n",
    "initial_conditions = {\n",
    "    'beacon_state': genesis_state,\n",
    "    'current_slot_attestations': []\n",
    "}\n",
    "\n",
    "simulation_parameters = {\n",
    "    'T': range(20),\n",
    "    'N': 1,\n",
    "    'M': {}\n",
    "}"
   ]
  },
  {
   "cell_type": "markdown",
   "metadata": {},
   "source": [
    "We define the configuration object again, and run our simulation."
   ]
  },
  {
   "cell_type": "code",
   "execution_count": 27,
   "metadata": {},
   "outputs": [],
   "source": [
    "config = Configuration(initial_state=initial_conditions,\n",
    "                       partial_state_update_blocks=block_attestation_psub,\n",
    "                       sim_config=simulation_parameters\n",
    "                      )"
   ]
  },
  {
   "cell_type": "markdown",
   "metadata": {},
   "source": [
    "Here we leave the execution trace visible. Use a `%%capture` directive at the top of the following cell to hide it."
   ]
  },
  {
   "cell_type": "code",
   "execution_count": 28,
   "metadata": {},
   "outputs": [
    {
     "name": "stdout",
     "output_type": "stream",
     "text": [
      "\n",
      "                            __________   ____ \n",
      "          ________ __ _____/ ____/   |  / __ \\\n",
      "         / ___/ __` / __  / /   / /| | / / / /\n",
      "        / /__/ /_/ / /_/ / /___/ ___ |/ /_/ / \n",
      "        \\___/\\__,_/\\__,_/\\____/_/  |_/_____/  \n",
      "        by BlockScience\n",
      "        \n",
      "Execution Mode: single_proc: [<cadCAD.configuration.Configuration object at 0x126126e80>]\n",
      "Configurations: [<cadCAD.configuration.Configuration object at 0x126126e80>]\n",
      "validator attesting 3 for slot 0\n",
      "attestation for source 0 and target 0\n",
      "validator attesting 5 for slot 0\n",
      "attestation for source 0 and target 0\n",
      "honest propose a block for slot 1\n",
      "validator attesting 0 for slot 1\n",
      "attestation for source 0 and target 0\n",
      "validator attesting 6 for slot 1\n",
      "attestation for source 0 and target 0\n",
      "validator attesting 7 for slot 1\n",
      "attestation for source 0 and target 0\n",
      "honest propose a block for slot 2\n",
      "validator attesting 4 for slot 2\n",
      "attestation for source 0 and target 0\n",
      "validator attesting 8 for slot 2\n",
      "attestation for source 0 and target 0\n",
      "honest propose a block for slot 3\n",
      "START PROCESS EPOCH 0\n",
      "not processing justification and finalization\n",
      "END PROCESS EPOCH\n",
      "validator attesting 1 for slot 3\n",
      "attestation for source 0 and target 0\n",
      "validator attesting 2 for slot 3\n",
      "attestation for source 0 and target 0\n",
      "validator attesting 9 for slot 3\n",
      "attestation for source 0 and target 0\n",
      "honest propose a block for slot 4\n",
      "validator attesting 0 for slot 4\n",
      "attestation for source 0 and target 1\n",
      "validator attesting 3 for slot 4\n",
      "attestation for source 0 and target 1\n",
      "honest propose a block for slot 5\n",
      "validator attesting 2 for slot 5\n",
      "attestation for source 0 and target 1\n",
      "validator attesting 4 for slot 5\n",
      "attestation for source 0 and target 1\n",
      "validator attesting 8 for slot 5\n",
      "attestation for source 0 and target 1\n",
      "honest propose a block for slot 6\n",
      "validator attesting 6 for slot 6\n",
      "attestation for source 0 and target 1\n",
      "validator attesting 7 for slot 6\n",
      "attestation for source 0 and target 1\n",
      "honest propose a block for slot 7\n",
      "START PROCESS EPOCH 1\n",
      "not processing justification and finalization\n",
      "END PROCESS EPOCH\n",
      "validator attesting 1 for slot 7\n",
      "attestation for source 0 and target 1\n",
      "validator attesting 5 for slot 7\n",
      "attestation for source 0 and target 1\n",
      "validator attesting 9 for slot 7\n",
      "attestation for source 0 and target 1\n",
      "honest propose a block for slot 8\n",
      "validator attesting 4 for slot 8\n",
      "attestation for source 0 and target 2\n",
      "validator attesting 8 for slot 8\n",
      "attestation for source 0 and target 2\n",
      "honest propose a block for slot 9\n",
      "validator attesting 0 for slot 9\n",
      "attestation for source 0 and target 2\n",
      "validator attesting 2 for slot 9\n",
      "attestation for source 0 and target 2\n",
      "validator attesting 9 for slot 9\n",
      "attestation for source 0 and target 2\n",
      "honest propose a block for slot 10\n",
      "validator attesting 1 for slot 10\n",
      "attestation for source 0 and target 2\n",
      "validator attesting 6 for slot 10\n",
      "attestation for source 0 and target 2\n",
      "honest propose a block for slot 11\n",
      "START PROCESS EPOCH 2\n",
      "old_previous 0\n",
      "old_current 0\n",
      "new current justified checkpoint 1\n",
      "new current justified checkpoint 2\n",
      "justification bits Bitvector[boolean, 4](1, 1, 0, 0)\n",
      "finalised checkpoint 0\n",
      "END PROCESS EPOCH\n",
      "validator attesting 3 for slot 11\n",
      "attestation for source 0 and target 2\n",
      "validator attesting 5 for slot 11\n",
      "attestation for source 0 and target 2\n",
      "validator attesting 7 for slot 11\n",
      "attestation for source 0 and target 2\n",
      "honest propose a block for slot 12\n",
      "validator attesting 2 for slot 12\n",
      "attestation for source 2 and target 3\n",
      "validator attesting 3 for slot 12\n",
      "attestation for source 2 and target 3\n",
      "honest propose a block for slot 13\n",
      "validator attesting 0 for slot 13\n",
      "attestation for source 2 and target 3\n",
      "validator attesting 6 for slot 13\n",
      "attestation for source 2 and target 3\n",
      "validator attesting 7 for slot 13\n",
      "attestation for source 2 and target 3\n",
      "honest propose a block for slot 14\n",
      "validator attesting 8 for slot 14\n",
      "attestation for source 2 and target 3\n",
      "validator attesting 9 for slot 14\n",
      "attestation for source 2 and target 3\n",
      "honest propose a block for slot 15\n",
      "START PROCESS EPOCH 3\n",
      "old_previous 0\n",
      "old_current 2\n",
      "new current justified checkpoint 2\n",
      "new current justified checkpoint 3\n",
      "justification bits Bitvector[boolean, 4](1, 1, 1, 0)\n",
      "finalised checkpoint 2\n",
      "END PROCESS EPOCH\n",
      "validator attesting 1 for slot 15\n",
      "attestation for source 2 and target 3\n",
      "validator attesting 4 for slot 15\n",
      "attestation for source 2 and target 3\n",
      "validator attesting 5 for slot 15\n",
      "attestation for source 2 and target 3\n",
      "honest propose a block for slot 16\n",
      "validator attesting 0 for slot 16\n",
      "attestation for source 3 and target 4\n",
      "validator attesting 5 for slot 16\n",
      "attestation for source 3 and target 4\n",
      "honest propose a block for slot 17\n",
      "validator attesting 4 for slot 17\n",
      "attestation for source 3 and target 4\n",
      "validator attesting 6 for slot 17\n",
      "attestation for source 3 and target 4\n",
      "validator attesting 8 for slot 17\n",
      "attestation for source 3 and target 4\n",
      "honest propose a block for slot 18\n",
      "validator attesting 1 for slot 18\n",
      "attestation for source 3 and target 4\n",
      "validator attesting 3 for slot 18\n",
      "attestation for source 3 and target 4\n",
      "honest propose a block for slot 19\n",
      "START PROCESS EPOCH 4\n",
      "old_previous 2\n",
      "old_current 3\n",
      "new current justified checkpoint 3\n",
      "new current justified checkpoint 4\n",
      "justification bits Bitvector[boolean, 4](1, 1, 1, 1)\n",
      "finalised checkpoint 3\n",
      "END PROCESS EPOCH\n",
      "validator attesting 2 for slot 19\n",
      "attestation for source 3 and target 4\n",
      "validator attesting 7 for slot 19\n",
      "attestation for source 3 and target 4\n",
      "validator attesting 9 for slot 19\n",
      "attestation for source 3 and target 4\n",
      "honest propose a block for slot 20\n"
     ]
    }
   ],
   "source": [
    "exec_mode = ExecutionMode()\n",
    "exec_context = ExecutionContext(exec_mode.single_proc)\n",
    "executor = Executor(exec_context, [config]) # Pass the configuration object inside an array\n",
    "raw_result, tensor = executor.execute() # The `execute()` method returns a tuple; its first elements contains the raw results\n",
    "df = pd.DataFrame(raw_result)"
   ]
  },
  {
   "cell_type": "markdown",
   "metadata": {},
   "source": [
    "Let's check the dataframe to make sure our state updates are correct. Since we have several partial updates blocks, we will have several substeps at each timestep. We give the length of the number of attestations in column `num_attestations`. They add up to 10 over each epoch, as we have 10 validators."
   ]
  },
  {
   "cell_type": "code",
   "execution_count": 29,
   "metadata": {},
   "outputs": [
    {
     "data": {
      "text/html": [
       "<div>\n",
       "<style scoped>\n",
       "    .dataframe tbody tr th:only-of-type {\n",
       "        vertical-align: middle;\n",
       "    }\n",
       "\n",
       "    .dataframe tbody tr th {\n",
       "        vertical-align: top;\n",
       "    }\n",
       "\n",
       "    .dataframe thead th {\n",
       "        text-align: right;\n",
       "    }\n",
       "</style>\n",
       "<table border=\"1\" class=\"dataframe\">\n",
       "  <thead>\n",
       "    <tr style=\"text-align: right;\">\n",
       "      <th></th>\n",
       "      <th>substep</th>\n",
       "      <th>timestep</th>\n",
       "      <th>num_attestations</th>\n",
       "      <th>epoch</th>\n",
       "    </tr>\n",
       "  </thead>\n",
       "  <tbody>\n",
       "    <tr>\n",
       "      <th>1</th>\n",
       "      <td>1</td>\n",
       "      <td>1</td>\n",
       "      <td>0</td>\n",
       "      <td>0</td>\n",
       "    </tr>\n",
       "    <tr>\n",
       "      <th>4</th>\n",
       "      <td>1</td>\n",
       "      <td>2</td>\n",
       "      <td>2</td>\n",
       "      <td>0</td>\n",
       "    </tr>\n",
       "    <tr>\n",
       "      <th>7</th>\n",
       "      <td>1</td>\n",
       "      <td>3</td>\n",
       "      <td>3</td>\n",
       "      <td>0</td>\n",
       "    </tr>\n",
       "    <tr>\n",
       "      <th>10</th>\n",
       "      <td>1</td>\n",
       "      <td>4</td>\n",
       "      <td>2</td>\n",
       "      <td>1</td>\n",
       "    </tr>\n",
       "    <tr>\n",
       "      <th>13</th>\n",
       "      <td>1</td>\n",
       "      <td>5</td>\n",
       "      <td>3</td>\n",
       "      <td>1</td>\n",
       "    </tr>\n",
       "    <tr>\n",
       "      <th>16</th>\n",
       "      <td>1</td>\n",
       "      <td>6</td>\n",
       "      <td>2</td>\n",
       "      <td>1</td>\n",
       "    </tr>\n",
       "    <tr>\n",
       "      <th>19</th>\n",
       "      <td>1</td>\n",
       "      <td>7</td>\n",
       "      <td>3</td>\n",
       "      <td>1</td>\n",
       "    </tr>\n",
       "    <tr>\n",
       "      <th>22</th>\n",
       "      <td>1</td>\n",
       "      <td>8</td>\n",
       "      <td>2</td>\n",
       "      <td>2</td>\n",
       "    </tr>\n",
       "    <tr>\n",
       "      <th>25</th>\n",
       "      <td>1</td>\n",
       "      <td>9</td>\n",
       "      <td>3</td>\n",
       "      <td>2</td>\n",
       "    </tr>\n",
       "    <tr>\n",
       "      <th>28</th>\n",
       "      <td>1</td>\n",
       "      <td>10</td>\n",
       "      <td>2</td>\n",
       "      <td>2</td>\n",
       "    </tr>\n",
       "    <tr>\n",
       "      <th>31</th>\n",
       "      <td>1</td>\n",
       "      <td>11</td>\n",
       "      <td>3</td>\n",
       "      <td>2</td>\n",
       "    </tr>\n",
       "    <tr>\n",
       "      <th>34</th>\n",
       "      <td>1</td>\n",
       "      <td>12</td>\n",
       "      <td>2</td>\n",
       "      <td>3</td>\n",
       "    </tr>\n",
       "    <tr>\n",
       "      <th>37</th>\n",
       "      <td>1</td>\n",
       "      <td>13</td>\n",
       "      <td>3</td>\n",
       "      <td>3</td>\n",
       "    </tr>\n",
       "    <tr>\n",
       "      <th>40</th>\n",
       "      <td>1</td>\n",
       "      <td>14</td>\n",
       "      <td>2</td>\n",
       "      <td>3</td>\n",
       "    </tr>\n",
       "    <tr>\n",
       "      <th>43</th>\n",
       "      <td>1</td>\n",
       "      <td>15</td>\n",
       "      <td>3</td>\n",
       "      <td>3</td>\n",
       "    </tr>\n",
       "    <tr>\n",
       "      <th>46</th>\n",
       "      <td>1</td>\n",
       "      <td>16</td>\n",
       "      <td>2</td>\n",
       "      <td>4</td>\n",
       "    </tr>\n",
       "    <tr>\n",
       "      <th>49</th>\n",
       "      <td>1</td>\n",
       "      <td>17</td>\n",
       "      <td>3</td>\n",
       "      <td>4</td>\n",
       "    </tr>\n",
       "    <tr>\n",
       "      <th>52</th>\n",
       "      <td>1</td>\n",
       "      <td>18</td>\n",
       "      <td>2</td>\n",
       "      <td>4</td>\n",
       "    </tr>\n",
       "    <tr>\n",
       "      <th>55</th>\n",
       "      <td>1</td>\n",
       "      <td>19</td>\n",
       "      <td>3</td>\n",
       "      <td>4</td>\n",
       "    </tr>\n",
       "    <tr>\n",
       "      <th>58</th>\n",
       "      <td>1</td>\n",
       "      <td>20</td>\n",
       "      <td>2</td>\n",
       "      <td>5</td>\n",
       "    </tr>\n",
       "  </tbody>\n",
       "</table>\n",
       "</div>"
      ],
      "text/plain": [
       "    substep  timestep  num_attestations  epoch\n",
       "1         1         1                 0      0\n",
       "4         1         2                 2      0\n",
       "7         1         3                 3      0\n",
       "10        1         4                 2      1\n",
       "13        1         5                 3      1\n",
       "16        1         6                 2      1\n",
       "19        1         7                 3      1\n",
       "22        1         8                 2      2\n",
       "25        1         9                 3      2\n",
       "28        1        10                 2      2\n",
       "31        1        11                 3      2\n",
       "34        1        12                 2      3\n",
       "37        1        13                 3      3\n",
       "40        1        14                 2      3\n",
       "43        1        15                 3      3\n",
       "46        1        16                 2      4\n",
       "49        1        17                 3      4\n",
       "52        1        18                 2      4\n",
       "55        1        19                 3      4\n",
       "58        1        20                 2      5"
      ]
     },
     "execution_count": 29,
     "metadata": {},
     "output_type": "execute_result"
    }
   ],
   "source": [
    "df['num_attestations'] = df.current_slot_attestations.apply(len)\n",
    "df['epoch'] = df.beacon_state.apply(get_current_epoch)\n",
    "df[df.substep == 1].head(20).iloc[:,3:8]"
   ]
  },
  {
   "cell_type": "markdown",
   "metadata": {},
   "source": [
    "We can check the balances of our validators."
   ]
  },
  {
   "cell_type": "code",
   "execution_count": 30,
   "metadata": {},
   "outputs": [
    {
     "data": {
      "text/plain": [
       "List[Gwei, 1099511627776](32014368415, 32014820963, 32014594689, 32014255278, 32014707826, 32014594689, 32014481552, 32014368415, 32014368415, 32014255278)"
      ]
     },
     "execution_count": 30,
     "metadata": {},
     "output_type": "execute_result"
    }
   ],
   "source": [
    "df.iloc[60]['beacon_state'].balances"
   ]
  },
  {
   "cell_type": "markdown",
   "metadata": {},
   "source": [
    "Note that they are getting rewarded for attesting correctly, with balances greater than the initial 32 ETH they started with, but some are more rewarded than others: this is the randomness of the block proposal. If you picked a low `num_validators`, you will notice that rewards are quite high. This is due to the variable rate of reward, which increases when the supply of validators is low. In practice, for 1,000,000 ETH at stake, we ought to have about 30,000 validators.\n",
    "\n",
    "We can also check that we are finalising checkpoints."
   ]
  },
  {
   "cell_type": "code",
   "execution_count": 31,
   "metadata": {},
   "outputs": [
    {
     "data": {
      "text/plain": [
       "{'epoch': 3, 'root': b'\\xf2\\x12c\\xec\\xa7\\xd9\\xd0\\xca\\xdao\\xda\\xd0V\\n8\\xc5\\xe3\\xe7\\xa5V{3a\\xf2\\xd6\\xbd(\\x90\\x85D\\xee5'}"
      ]
     },
     "execution_count": 31,
     "metadata": {},
     "output_type": "execute_result"
    }
   ],
   "source": [
    "df.iloc[60]['beacon_state'].finalized_checkpoint"
   ]
  },
  {
   "cell_type": "markdown",
   "metadata": {},
   "source": [
    "Indeed, the latest finalised checkpoint is at epoch 3!\n",
    "\n",
    "Let's plot the total rewards given out to validators (the \"issuance\"). First we add a column to our dataframe holding the net profits from state balances."
   ]
  },
  {
   "cell_type": "code",
   "execution_count": 32,
   "metadata": {},
   "outputs": [],
   "source": [
    "df['total_balance'] = df.beacon_state.apply(\n",
    "    lambda state: sum(state.balances) - eth_to_gwei(32 * num_validators)\n",
    ")"
   ]
  },
  {
   "cell_type": "code",
   "execution_count": 33,
   "metadata": {},
   "outputs": [],
   "source": [
    "%matplotlib inline"
   ]
  },
  {
   "cell_type": "code",
   "execution_count": 34,
   "metadata": {},
   "outputs": [
    {
     "data": {
      "text/plain": [
       "<matplotlib.axes._subplots.AxesSubplot at 0x129c0e100>"
      ]
     },
     "execution_count": 34,
     "metadata": {},
     "output_type": "execute_result"
    },
    {
     "data": {
      "image/png": "[encoded data removed]",
      "text/plain": [
       "<Figure size 432x288 with 1 Axes>"
      ]
     },
     "metadata": {
      "needs_background": "light"
     },
     "output_type": "display_data"
    }
   ],
   "source": [
    "df[df.substep == 1].plot('timestep', 'total_balance')"
   ]
  },
  {
   "cell_type": "markdown",
   "metadata": {},
   "source": [
    "It's kind of nice to see a small economy grow before your very eyes no? Like gardening.\n",
    "\n",
    "Now how can we extend this model?\n",
    "\n",
    "- We can define very specific validation behaviour and test what happens under different scenarios. Here we have focused on the \"honest\" behaviour, which is hopefully what validators on eth2 will follow. But hope is not enough, so much like [mining in Proof-of-Work, it remains to prove that good behaviour in the protocol exactly corresponds to rational behaviour in the _game_ defined by the protocol](https://hackingresear.ch/diaries/anarchy-creta).\n",
    "- We can also tweak state updates to represent network delays and modify the information basis of validators, who we assumed here always have the latest data to make their attestations. This may be a good use case for cadCAD's support for stochastic simulations (where execution may depend on chance events).\n",
    "\n",
    "Some efforts should also be spent making the simulation lighter to execute, so that larger models can be tested, including stochastic events using Monte-Carlo methods which require repeating executions a significant amount of times."
   ]
  },
  {
   "cell_type": "markdown",
   "metadata": {},
   "source": [
    "---\n",
    "\n",
    "_Acknowledgements_: [Danny](https://twitter.com/dannyryan) for answering my questions about the specs; [Michael](https://twitter.com/mZargham) and [Markus](https://twitter.com/markusbkoch) for their work on cadCAD and introducing me to it; and v for all your help."
   ]
  },
  {
   "cell_type": "markdown",
   "metadata": {},
   "source": [
    "---\n",
    "\n",
    "_Some other cool resources_:\n",
    "\n",
    "- [Uniswap bonding curves with cadCAD](https://github.com/BlockScience/uniswap/blob/master/simplified-uniswap.ipynb)"
   ]
  }
 ],
 "metadata": {
  "kernelspec": {
   "display_name": "eth2",
   "language": "python",
   "name": "eth2"
  },
  "language_info": {
   "codemirror_mode": {
    "name": "ipython",
    "version": 3
   },
   "file_extension": ".py",
   "mimetype": "text/x-python",
   "name": "python",
   "nbconvert_exporter": "python",
   "pygments_lexer": "ipython3",
   "version": "3.8.0"
  }
 },
 "nbformat": 4,
 "nbformat_minor": 4
}
